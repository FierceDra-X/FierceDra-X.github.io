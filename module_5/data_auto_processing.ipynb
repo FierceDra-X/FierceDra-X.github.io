{
 "cells": [
  {
   "cell_type": "markdown",
   "id": "2912f83a",
   "metadata": {},
   "source": [
    "![Обработка данных](https://vibrantwebtech.com/wp-content/uploads/2018/07/Marketing-Intelligence-Data-Entry-and-Data-Processing-Services.jpg)"
   ]
  },
  {
   "cell_type": "markdown",
   "id": "c030f34a",
   "metadata": {},
   "source": [
    "# Прогнозирование стоимости автомобиля по его характеристикам\n",
    "Часть 2\n",
    "__________________________________________________________________________________________________________________\n",
    "\n",
    "**Этот ноутбук включает:**\n",
    "> - анализ структуры и формы собранных с внешнего сайта [auto.ru](https://auto.ru/)  данных;\n",
    "> - предобработку собранных с внешнего сайта [auto.ru](https://auto.ru/)  данных;\n",
    "> - сохранение обработанных данных в итоговом файле для использования их в моделировании;"
   ]
  },
  {
   "cell_type": "markdown",
   "id": "890e798c",
   "metadata": {},
   "source": [
    "# Библиотеки"
   ]
  },
  {
   "cell_type": "code",
   "execution_count": 1,
   "id": "5e54effb",
   "metadata": {},
   "outputs": [],
   "source": [
    "import re #бибилиотека для работы с регулярными выражениями (используется для вытаскивания нужного текста/цифр)\n",
    "\n",
    "#общие библиотеки\n",
    "import pandas as pd\n",
    "import numpy as np"
   ]
  },
  {
   "cell_type": "markdown",
   "id": "98b1b158",
   "metadata": {},
   "source": [
    "# Блок предобработки данных"
   ]
  },
  {
   "cell_type": "code",
   "execution_count": 2,
   "id": "8fbab1a4",
   "metadata": {},
   "outputs": [
    {
     "name": "stdout",
     "output_type": "stream",
     "text": [
      "<class 'pandas.core.frame.DataFrame'>\n",
      "RangeIndex: 75 entries, 0 to 74\n",
      "Data columns (total 15 columns):\n",
      " #   Column         Non-Null Count  Dtype \n",
      "---  ------         --------------  ----- \n",
      " 0   bodytype       74 non-null     object\n",
      " 1   brand          74 non-null     object\n",
      " 2   mileage        74 non-null     object\n",
      " 3   color          74 non-null     object\n",
      " 4   engine         74 non-null     object\n",
      " 5   complectation  60 non-null     object\n",
      " 6   tax            74 non-null     object\n",
      " 7   transmission   74 non-null     object\n",
      " 8   drive          74 non-null     object\n",
      " 9   wheel          74 non-null     object\n",
      " 10  owners         74 non-null     object\n",
      " 11  customs        74 non-null     object\n",
      " 12  pts            74 non-null     object\n",
      " 13  year           74 non-null     object\n",
      " 14  price          74 non-null     object\n",
      "dtypes: object(15)\n",
      "memory usage: 8.9+ KB\n"
     ]
    },
    {
     "data": {
      "text/html": [
       "<div>\n",
       "<style scoped>\n",
       "    .dataframe tbody tr th:only-of-type {\n",
       "        vertical-align: middle;\n",
       "    }\n",
       "\n",
       "    .dataframe tbody tr th {\n",
       "        vertical-align: top;\n",
       "    }\n",
       "\n",
       "    .dataframe thead th {\n",
       "        text-align: right;\n",
       "    }\n",
       "</style>\n",
       "<table border=\"1\" class=\"dataframe\">\n",
       "  <thead>\n",
       "    <tr style=\"text-align: right;\">\n",
       "      <th></th>\n",
       "      <th>bodytype</th>\n",
       "      <th>brand</th>\n",
       "      <th>mileage</th>\n",
       "      <th>color</th>\n",
       "      <th>engine</th>\n",
       "      <th>complectation</th>\n",
       "      <th>tax</th>\n",
       "      <th>transmission</th>\n",
       "      <th>drive</th>\n",
       "      <th>wheel</th>\n",
       "      <th>owners</th>\n",
       "      <th>customs</th>\n",
       "      <th>pts</th>\n",
       "      <th>year</th>\n",
       "      <th>price</th>\n",
       "    </tr>\n",
       "  </thead>\n",
       "  <tbody>\n",
       "    <tr>\n",
       "      <th>0</th>\n",
       "      <td>NaN</td>\n",
       "      <td>NaN</td>\n",
       "      <td>NaN</td>\n",
       "      <td>NaN</td>\n",
       "      <td>NaN</td>\n",
       "      <td>NaN</td>\n",
       "      <td>NaN</td>\n",
       "      <td>NaN</td>\n",
       "      <td>NaN</td>\n",
       "      <td>NaN</td>\n",
       "      <td>NaN</td>\n",
       "      <td>NaN</td>\n",
       "      <td>NaN</td>\n",
       "      <td>NaN</td>\n",
       "      <td>NaN</td>\n",
       "    </tr>\n",
       "    <tr>\n",
       "      <th>1</th>\n",
       "      <td>Кузовседан</td>\n",
       "      <td>Audi A4 35 TFSI V (B9) Рестайлинг</td>\n",
       "      <td>Пробег25 км</td>\n",
       "      <td>Цветбелый</td>\n",
       "      <td>Двигатель2.0 л / 150 л.с. / Бензин</td>\n",
       "      <td>Комплектация22 опции</td>\n",
       "      <td>Налог5 250 ₽ / год</td>\n",
       "      <td>Коробкароботизированная</td>\n",
       "      <td>Приводпередний</td>\n",
       "      <td>РульЛевый</td>\n",
       "      <td>Владельцы1 владелец</td>\n",
       "      <td>ТаможняРастаможен</td>\n",
       "      <td>ПТСОригинал</td>\n",
       "      <td>год выпуска2021</td>\n",
       "      <td>3 299 000 ₽Смотреть статистику цен</td>\n",
       "    </tr>\n",
       "    <tr>\n",
       "      <th>2</th>\n",
       "      <td>Кузовседан</td>\n",
       "      <td>Audi A4 35 TFSI V (B9) Рестайлинг</td>\n",
       "      <td>Пробег20 000 км</td>\n",
       "      <td>Цветчёрный</td>\n",
       "      <td>Двигатель2.0 л / 150 л.с. / Бензин</td>\n",
       "      <td>NaN</td>\n",
       "      <td>Налог3 750 ₽ / год</td>\n",
       "      <td>Коробкароботизированная</td>\n",
       "      <td>Приводпередний</td>\n",
       "      <td>РульЛевый</td>\n",
       "      <td>Владельцы1 владелец</td>\n",
       "      <td>ТаможняРастаможен</td>\n",
       "      <td>ПТСОригинал</td>\n",
       "      <td>год выпуска2020</td>\n",
       "      <td>3 160 000 ₽Смотреть статистику цен</td>\n",
       "    </tr>\n",
       "    <tr>\n",
       "      <th>3</th>\n",
       "      <td>Кузовседан</td>\n",
       "      <td>Audi A4 IV (B8) Рестайлинг</td>\n",
       "      <td>Пробег202 600 км</td>\n",
       "      <td>Цветкоричневый</td>\n",
       "      <td>Двигатель1.8 л / 170 л.с. / Бензин</td>\n",
       "      <td>NaN</td>\n",
       "      <td>Налог8 500 ₽ / год</td>\n",
       "      <td>Коробкавариатор</td>\n",
       "      <td>Приводпередний</td>\n",
       "      <td>РульЛевый</td>\n",
       "      <td>Владельцы2 владельца</td>\n",
       "      <td>ТаможняРастаможен</td>\n",
       "      <td>ПТСОригинал</td>\n",
       "      <td>год выпуска2014</td>\n",
       "      <td>880 000 ₽Смотреть статистику цен</td>\n",
       "    </tr>\n",
       "    <tr>\n",
       "      <th>4</th>\n",
       "      <td>Кузовуниверсал 5 дв.</td>\n",
       "      <td>Audi A4 V (B9)</td>\n",
       "      <td>Пробег90 000 км</td>\n",
       "      <td>Цветчёрный</td>\n",
       "      <td>Двигатель2.0 л / 150 л.с. / Дизель</td>\n",
       "      <td>Комплектация1 опция</td>\n",
       "      <td>Налог5 250 ₽ / год</td>\n",
       "      <td>Коробкароботизированная</td>\n",
       "      <td>Приводпередний</td>\n",
       "      <td>РульЛевый</td>\n",
       "      <td>Владельцы1 владелец</td>\n",
       "      <td>ТаможняРастаможен</td>\n",
       "      <td>ПТСОригинал</td>\n",
       "      <td>год выпуска2017</td>\n",
       "      <td>2 181 000 ₽Хорошая ценаСмотреть статистику цен</td>\n",
       "    </tr>\n",
       "  </tbody>\n",
       "</table>\n",
       "</div>"
      ],
      "text/plain": [
       "               bodytype                              brand           mileage  \\\n",
       "0                   NaN                                NaN               NaN   \n",
       "1            Кузовседан  Audi A4 35 TFSI V (B9) Рестайлинг       Пробег25 км   \n",
       "2            Кузовседан  Audi A4 35 TFSI V (B9) Рестайлинг   Пробег20 000 км   \n",
       "3            Кузовседан         Audi A4 IV (B8) Рестайлинг  Пробег202 600 км   \n",
       "4  Кузовуниверсал 5 дв.                     Audi A4 V (B9)   Пробег90 000 км   \n",
       "\n",
       "            color                              engine         complectation  \\\n",
       "0             NaN                                 NaN                   NaN   \n",
       "1       Цветбелый  Двигатель2.0 л / 150 л.с. / Бензин  Комплектация22 опции   \n",
       "2      Цветчёрный  Двигатель2.0 л / 150 л.с. / Бензин                   NaN   \n",
       "3  Цветкоричневый  Двигатель1.8 л / 170 л.с. / Бензин                   NaN   \n",
       "4      Цветчёрный  Двигатель2.0 л / 150 л.с. / Дизель   Комплектация1 опция   \n",
       "\n",
       "                  tax             transmission           drive      wheel  \\\n",
       "0                 NaN                      NaN             NaN        NaN   \n",
       "1  Налог5 250 ₽ / год  Коробкароботизированная  Приводпередний  РульЛевый   \n",
       "2  Налог3 750 ₽ / год  Коробкароботизированная  Приводпередний  РульЛевый   \n",
       "3  Налог8 500 ₽ / год          Коробкавариатор  Приводпередний  РульЛевый   \n",
       "4  Налог5 250 ₽ / год  Коробкароботизированная  Приводпередний  РульЛевый   \n",
       "\n",
       "                 owners            customs          pts             year  \\\n",
       "0                   NaN                NaN          NaN              NaN   \n",
       "1   Владельцы1 владелец  ТаможняРастаможен  ПТСОригинал  год выпуска2021   \n",
       "2   Владельцы1 владелец  ТаможняРастаможен  ПТСОригинал  год выпуска2020   \n",
       "3  Владельцы2 владельца  ТаможняРастаможен  ПТСОригинал  год выпуска2014   \n",
       "4   Владельцы1 владелец  ТаможняРастаможен  ПТСОригинал  год выпуска2017   \n",
       "\n",
       "                                            price  \n",
       "0                                             NaN  \n",
       "1              3 299 000 ₽Смотреть статистику цен  \n",
       "2              3 160 000 ₽Смотреть статистику цен  \n",
       "3                880 000 ₽Смотреть статистику цен  \n",
       "4  2 181 000 ₽Хорошая ценаСмотреть статистику цен  "
      ]
     },
     "execution_count": 2,
     "metadata": {},
     "output_type": "execute_result"
    }
   ],
   "source": [
    "#загрузим данные из буферного файла, в котром хранится очередная порция собранных с сайта авто.ру данных\n",
    "data_auto = pd.read_csv('C:/Users/Алексей Третьяков/Desktop/ML_projects/FierceDra-X.github.io/module_5/data_auto_f.csv')\n",
    "\n",
    "#посмотрим на структуру данных, чтобы понимать, как их приводить к формату данных, соответствующих тестовому сету\n",
    "data_auto.info()\n",
    "data_auto.head()"
   ]
  },
  {
   "cell_type": "code",
   "execution_count": 3,
   "id": "ebe45126",
   "metadata": {},
   "outputs": [],
   "source": [
    "#удалим ненужную первую строку\n",
    "data_auto.drop(index = [0], inplace = True)\n",
    "\n",
    "#будем удалаять попавшиеся объявления по новым автомобилям, они идентифицируются по значению \"Предложение от дилера\"\n",
    "#также удалим все строки с отутствием цены автомобиля, так как цена нам необходима как таргет в обучении\n",
    "data_auto.drop(data_auto[data_auto['brand'] == 'Предложение от дилера'].index, inplace=True)\n",
    "data_auto.drop(data_auto[data_auto.price.isna()].index, inplace=True)"
   ]
  },
  {
   "cell_type": "code",
   "execution_count": 4,
   "id": "87db6dda",
   "metadata": {},
   "outputs": [],
   "source": [
    "#удалим слово Кузов в столбце bodytype, оставив только символы после пятого символа\n",
    "data_auto['bodytype'] = data_auto['bodytype'].apply(lambda x: x[5:])"
   ]
  },
  {
   "cell_type": "code",
   "execution_count": 5,
   "id": "3e954609",
   "metadata": {},
   "outputs": [],
   "source": [
    "#из столбца brand вытащим наименование модели авто, создав под нее новый столбец\n",
    "#вытащим модель, разбив строку на список, взяв второй элемент в списке\n",
    "#и очистим от пробелов по краям, сделав все буквы заглавными\n",
    "def model (model):\n",
    "    return model.split()[1].strip().upper()\n",
    "data_auto['model_name'] = data_auto['brand'].apply(model)"
   ]
  },
  {
   "cell_type": "code",
   "execution_count": 6,
   "id": "b76df1f1",
   "metadata": {},
   "outputs": [],
   "source": [
    "#точно также вытащим бренд автомобиля, разбив данные на список и взяв первый элемент из списка\n",
    "def brand (brand):\n",
    "    return brand.split()[0].upper()\n",
    "data_auto['brand'] = data_auto['brand'].apply(brand)"
   ]
  },
  {
   "cell_type": "code",
   "execution_count": 7,
   "id": "f030ec0d",
   "metadata": {},
   "outputs": [],
   "source": [
    "#в колонке mileage с помощью библиотеки re фильтруем цифровые символы и преобразуем их в int тип данных\n",
    "def mileage(mileage):\n",
    "    return int(re.sub(\"[^0-9]\",\"\",mileage))\n",
    "data_auto['mileage'] = data_auto['mileage'].apply(mileage)"
   ]
  },
  {
   "cell_type": "code",
   "execution_count": 8,
   "id": "d9deff85",
   "metadata": {},
   "outputs": [],
   "source": [
    "#в колонке color убираем первые 4 буквы Цвет\n",
    "#в колонке year убираем первые 11 букв и преобразовываем текст в int тип данных\n",
    "data_auto['color'] = data_auto['color'].apply(lambda x: x[4:])\n",
    "data_auto['year'] = data_auto['year'].apply(lambda x: int(x[11:]))"
   ]
  },
  {
   "cell_type": "code",
   "execution_count": 9,
   "id": "730b147e",
   "metadata": {},
   "outputs": [],
   "source": [
    "#из колонки engine сформируем три колонки:\n",
    "#1. Объем двигателя, взяв цифры и точки, разбив их на список и взяв первый элемент из списка, преобразовав его в тип float;\n",
    "#2. Мощность двигателя, взяв цифры, разбив их на список и взяв второй элемент из списка, преобразовав его в тип int;\n",
    "#3. Тип топлива, разбив их на список и взяв третий элемент из списка;\n",
    "data_auto['engineDisplacement'] = data_auto['engine'].apply(lambda x: float(re.sub(\"[^0-9\\.]\",\"\",x.split('/')[0][9:12])))\n",
    "data_auto['enginePower'] = data_auto['engine'].apply(lambda x: int(re.sub(\"[^0-9]\",\"\",x.split('/')[1])))\n",
    "data_auto['fuelType'] = data_auto['engine'].apply(lambda x: x.split('/')[2])\n",
    "data_auto.drop('engine', axis=1, inplace=True)"
   ]
  },
  {
   "cell_type": "code",
   "execution_count": 10,
   "id": "02a5139c",
   "metadata": {},
   "outputs": [],
   "source": [
    "#часть объема двигателя, которое получилось больше 10, приеобразуем в типовой объем 2 литра\n",
    "def eDispl(eDispl):\n",
    "    if eDispl > 10:\n",
    "        return 2.0\n",
    "    else:\n",
    "        return eDispl\n",
    "data_auto['engineDisplacement'] = data_auto['engineDisplacement'].apply(eDispl)"
   ]
  },
  {
   "cell_type": "code",
   "execution_count": 11,
   "id": "225c40a3",
   "metadata": {},
   "outputs": [],
   "source": [
    "#там, где есть не пустые значения комплектации, вытащим количество комплектаций и преобразуем его в тип int\n",
    "#остальные ячейки заполним нулями, предположив, что комплектация у этих авто скудная\n",
    "def compl(compl):\n",
    "    try:\n",
    "        if compl.find('опц'):\n",
    "            return int(re.sub(\"[^0-9]\",\"\",compl[13:15]))\n",
    "        else:\n",
    "            return 0\n",
    "    except:\n",
    "        return 0\n",
    "\n",
    "data_auto['complectation'] = data_auto['complectation'].apply(compl)"
   ]
  },
  {
   "cell_type": "code",
   "execution_count": 12,
   "id": "755907d4",
   "metadata": {},
   "outputs": [],
   "source": [
    "#из колонки tax вытащим фильтрацией цифры и преобразуем их в тип int\n",
    "def tax(tax):\n",
    "    try:\n",
    "        return int(re.sub(\"[^0-9]\",\"\",tax))\n",
    "    except:\n",
    "        return 0\n",
    "\n",
    "data_auto['tax'] = data_auto['tax'].apply(tax)"
   ]
  },
  {
   "cell_type": "code",
   "execution_count": 13,
   "id": "ce7d13dd",
   "metadata": {},
   "outputs": [],
   "source": [
    "#в колонках ниже убираем первое ненужное слово\n",
    "data_auto['transmission'] = data_auto['transmission'].apply(lambda x: x[7:])\n",
    "data_auto['drive'] = data_auto['drive'].apply(lambda x: x[6:])\n",
    "data_auto['wheel'] = data_auto['wheel'].apply(lambda x: x[4:])\n",
    "\n",
    "#в колонке customs есть nan, заменим их типовым значением ТаможняРастаможен\n",
    "#далее уберем семь первых символа Таможня\n",
    "data_auto['customs'].fillna('ТаможняРастаможен', inplace=True)\n",
    "data_auto['customs'] = data_auto['customs'].apply(lambda x: x[7:])\n",
    "\n",
    "#в колонке pts есть nan, заменим их типовым значением ПТСОригинал\n",
    "#далее уберем три первых символа ПТС\n",
    "data_auto['pts'].fillna('ПТСОригинал', inplace=True)\n",
    "data_auto['pts'] = data_auto['pts'].apply(lambda x: x[3:])"
   ]
  },
  {
   "cell_type": "code",
   "execution_count": 14,
   "id": "6f00a22c",
   "metadata": {},
   "outputs": [],
   "source": [
    "#из колонки owners вытащим фильтрацией цифры и преобразуем их в тип int\n",
    "def own(owners):\n",
    "    try:\n",
    "        return int(re.sub(\"[^0-9]\",\"\",owners))\n",
    "    except:\n",
    "        return 1\n",
    "\n",
    "data_auto['owners'] = data_auto['owners'].apply(own)"
   ]
  },
  {
   "cell_type": "code",
   "execution_count": 15,
   "id": "fb75afce",
   "metadata": {},
   "outputs": [],
   "source": [
    "#из колонки price вытащим фильтрацией цифры и символ рубля\n",
    "#разделим строку на список и возьмем первый элемент с цифрами, преобразовав их в тип int\n",
    "def price(price):\n",
    "    pr = re.sub(\"[^0-9₽]\",\"\", price).split('₽')\n",
    "    return int(pr[0])\n",
    "\n",
    "data_auto['price'] = data_auto['price'].apply(price)"
   ]
  },
  {
   "cell_type": "code",
   "execution_count": 16,
   "id": "146d5042",
   "metadata": {},
   "outputs": [
    {
     "name": "stdout",
     "output_type": "stream",
     "text": [
      "<class 'pandas.core.frame.DataFrame'>\n",
      "Int64Index: 86362 entries, 0 to 74\n",
      "Data columns (total 18 columns):\n",
      " #   Column              Non-Null Count  Dtype  \n",
      "---  ------              --------------  -----  \n",
      " 0   bodytype            86362 non-null  object \n",
      " 1   brand               86362 non-null  object \n",
      " 2   mileage             86362 non-null  int64  \n",
      " 3   color               86362 non-null  object \n",
      " 4   complectation       86362 non-null  int64  \n",
      " 5   tax                 86362 non-null  int64  \n",
      " 6   transmission        86362 non-null  object \n",
      " 7   drive               86362 non-null  object \n",
      " 8   wheel               86362 non-null  object \n",
      " 9   owners              86362 non-null  int64  \n",
      " 10  customs             86361 non-null  object \n",
      " 11  pts                 86362 non-null  object \n",
      " 12  year                86362 non-null  int64  \n",
      " 13  price               86362 non-null  int64  \n",
      " 14  model_name          86362 non-null  object \n",
      " 15  engineDisplacement  86362 non-null  float64\n",
      " 16  enginePower         86362 non-null  int64  \n",
      " 17  fuelType            86362 non-null  object \n",
      "dtypes: float64(1), int64(7), object(10)\n",
      "memory usage: 12.5+ MB\n"
     ]
    }
   ],
   "source": [
    "#добавим очищенные данные конкатенацией к имеющимся в основном файле data_auto_processed_FINAL_3 очищенным данным\n",
    "data_final = pd.read_csv('C:/Users/Алексей Третьяков/Desktop/ML_projects/FierceDra-X.github.io/module_5/data_auto_processed_FINAL_3.csv')\n",
    "data = pd.concat([data_final,data_auto])\n",
    "data.info()"
   ]
  },
  {
   "cell_type": "code",
   "execution_count": 17,
   "id": "ff37ea59",
   "metadata": {},
   "outputs": [],
   "source": [
    "#запишем дополненный датасет с очищенными данными в основной файл data_auto_processed_FINAL_3.csv\n",
    "#файл обновится\n",
    "data.to_csv('C:/Users/Алексей Третьяков/Desktop/ML_projects/FierceDra-X.github.io/module_5/data_auto_processed_FINAL_3.csv', index=False)"
   ]
  },
  {
   "cell_type": "markdown",
   "id": "1a4a9c9e",
   "metadata": {},
   "source": [
    "```\n",
    "основной файл с очищенными данными data_auto_processed_FINAL_3 далее в третьей части проекта будет использован в моделировании и прогнозировании стоимости б-у автомобилей\n",
    "  ```"
   ]
  }
 ],
 "metadata": {
  "kernelspec": {
   "display_name": "Python 3 (ipykernel)",
   "language": "python",
   "name": "python3"
  },
  "language_info": {
   "codemirror_mode": {
    "name": "ipython",
    "version": 3
   },
   "file_extension": ".py",
   "mimetype": "text/x-python",
   "name": "python",
   "nbconvert_exporter": "python",
   "pygments_lexer": "ipython3",
   "version": "3.9.1"
  }
 },
 "nbformat": 4,
 "nbformat_minor": 5
}
