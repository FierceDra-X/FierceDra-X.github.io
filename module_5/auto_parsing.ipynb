{
 "cells": [
  {
   "cell_type": "markdown",
   "id": "054ba1c3",
   "metadata": {},
   "source": [
    "![Сбор данных](https://www.shkolazhizni.ru/img/content/i204/204002_or.jpg)"
   ]
  },
  {
   "cell_type": "markdown",
   "id": "6ce38ba7",
   "metadata": {},
   "source": [
    "# Прогнозирование стоимости автомобиля по его характеристикам\n",
    "Часть 1\n",
    "__________________________________________________________________________________________________________________\n",
    "\n",
    "**Эта часть проекта включает:**\n",
    "> - анализ структуры сайта [auto.ru](https://auto.ru/) на предмет поиска тэгов и классов, хранящих требуемую для проекта информацию;\n",
    "> - сбор ссылок с внешнего сайта [auto.ru](https://auto.ru/) на отдельные объявления по продаже б-у автомобилей;\n",
    "> - сбор данных по каждой ссылке, собранной на первом шаге;\n",
    "> - использовнаие библиотеки BeautifulSoup для поиска по тэгам и классам необходимой для проекта информации;\n",
    "> - запись собранных данных в промежуточный файл для дальнейшей обработки собранных данных;"
   ]
  },
  {
   "cell_type": "markdown",
   "id": "e629040b",
   "metadata": {},
   "source": [
    "# Загрузка библиотек"
   ]
  },
  {
   "cell_type": "code",
   "execution_count": 1,
   "id": "5b57599b",
   "metadata": {},
   "outputs": [],
   "source": [
    "#библиотеки, необходимые для формирования запросов сайту и получение ответов\n",
    "#и поиска в полученной с сайта информации необхоимых для проекта данных\n",
    "from bs4 import BeautifulSoup\n",
    "import requests as req\n",
    "import lxml.html as html\n",
    "import urllib3\n",
    "\n",
    "import time #библиотека для установки паузы между запросами к сайту\n",
    "\n",
    "#общие библиотеки\n",
    "import pandas as pd\n",
    "import numpy as np"
   ]
  },
  {
   "cell_type": "markdown",
   "id": "bd0ec6c2",
   "metadata": {},
   "source": [
    "# Блок сбора данных с сайта"
   ]
  },
  {
   "cell_type": "code",
   "execution_count": 8,
   "id": "ab6d8c2d",
   "metadata": {},
   "outputs": [],
   "source": [
    "#формируем header для включения его в запросы, так как сайты могут блокировать запросы без него\n",
    "header = {'user-agent': 'Edg/95.0.1020.53'}\n",
    "urllib3.disable_warnings()\n",
    "\n",
    "#сайт имеет постраничную структуру\n",
    "#поэтому формируем стартовую ссылку, к которой будем прибавлять страницы\n",
    "#и формировать список ссылок для конкретного бренда и модели,\n",
    "# каждая из которых будет содержать примерно 38 ссылок на конкретные автомобили\n",
    "#всего в тестовом датасете 12 моделей, по ним будем собирать информацию\n",
    "url_start = 'https://auto.ru/cars/audi/a4/used/'\n",
    "urls = []\n",
    "\n",
    "for i in range(5,7): #количество страниц задавалось в зависимости от количества страниц на сайте авто.ру для данной модели\n",
    "    urls.append(url_start+'?page='+str(i))"
   ]
  },
  {
   "cell_type": "code",
   "execution_count": 10,
   "id": "35626e1b",
   "metadata": {},
   "outputs": [],
   "source": [
    "#формируем пустой список и заполняем его собранными на автомобили ссылками\n",
    "urls_auto = []\n",
    "for url in urls:\n",
    "    response = req.get(url, headers=header, timeout=50, verify=False)\n",
    "    page = BeautifulSoup(response.text,'html.parser')\n",
    "    for a in page.find_all('a', class_=\"ListingItemTitle__link\"):\n",
    "        urls_auto.append(a['href'])\n",
    "    time.sleep(3)"
   ]
  },
  {
   "cell_type": "code",
   "execution_count": 11,
   "id": "adc8ff74",
   "metadata": {},
   "outputs": [
    {
     "data": {
      "text/plain": [
       "74"
      ]
     },
     "execution_count": 11,
     "metadata": {},
     "output_type": "execute_result"
    }
   ],
   "source": [
    "#проверяем сколько собрали ссылок\n",
    "len(urls_auto)"
   ]
  },
  {
   "cell_type": "code",
   "execution_count": 12,
   "id": "29cf88a4",
   "metadata": {},
   "outputs": [],
   "source": [
    "#создаем пустой массив для заполнения его собранными данными\n",
    "data_array_full = np.empty(15, 'str')\n",
    "\n",
    "#формируем списки с тэгами и классами, по которым будем искать нужную нам информацию\n",
    "tags = ['li','h1','li','li','li','li','li','li','li','li','li','li','li','li','div']\n",
    "classes = [\"CardInfoRow CardInfoRow_bodytype\", \"CardHead__title\", \"CardInfoRow CardInfoRow_kmAge\",\n",
    "           \"CardInfoRow CardInfoRow_color\", \"CardInfoRow CardInfoRow_engine\",\n",
    "           \"CardInfoRow CardInfoRow_complectationOrEquipmentCount\", \"CardInfoRow CardInfoRow_transportTax\",\n",
    "           \"CardInfoRow CardInfoRow_transmission\", \"CardInfoRow CardInfoRow_drive\", \"CardInfoRow CardInfoRow_wheel\",\n",
    "           \"CardInfoRow CardInfoRow_ownersCount\", \"CardInfoRow CardInfoRow_customs\",\n",
    "           \"CardInfoRow CardInfoRow_pts\", \"CardInfoRow CardInfoRow_year\", \"PriceUsedOffer\"]\n",
    "\n",
    "#формируем цикл, который пробегается по собранному на предыдущем шаге списку ссылок с объявлениями\n",
    "#собирает данные по каждой ссылке пробегая список всех пар тэг-класс\n",
    "#в запросах библиотеки request будем использовать команды try-except, так, чтобы ошибки не останавливали процесс цикла\n",
    "#в случае ошибок в список данных будем добавлять NaN\n",
    "for urls in urls_auto:\n",
    "    try:\n",
    "        response = req.get(urls, headers=header, timeout=50, verify=False)\n",
    "        page = BeautifulSoup(response.text,'html.parser')\n",
    "    except:\n",
    "        print('ошибка запроса')\n",
    "    \n",
    "    data = []\n",
    "    \n",
    "    for i in range(15):\n",
    "        try:\n",
    "            feature = page.find_all(tags[i], class_=classes[i])\n",
    "            feature = feature[0].text.encode('l1').decode()\n",
    "        except:\n",
    "            feature = np.NaN\n",
    "        \n",
    "        data.append(feature)\n",
    "        \n",
    "    data_array = np.asarray(data).reshape(1,15)\n",
    "    data_array_full = np.row_stack((data_array_full,data_array))\n",
    "    \n",
    "    time.sleep(3) #поставим паузу 3 секунды между запросами во избежание перегрузки сайта"
   ]
  },
  {
   "cell_type": "code",
   "execution_count": 13,
   "id": "d8ba84d4",
   "metadata": {
    "scrolled": true
   },
   "outputs": [],
   "source": [
    "#формируем дата фрейм из собранных данных\n",
    "#порядок колонок соответствует порядку тэгов и классов\n",
    "# названия колонок составим аналогично колонкам в тестовом сете данных\n",
    "columns = np.array(['bodytype','brand','mileage','color', 'engine', 'complectation',\n",
    "                    'tax', 'transmission', 'drive', 'wheel','owners', 'customs', 'pts',\n",
    "                    'year','price'])\n",
    "data_auto = pd.DataFrame(data=data_array_full, columns=columns)\n",
    "data_auto.replace('nan', np.NaN, inplace=True)"
   ]
  },
  {
   "cell_type": "code",
   "execution_count": 14,
   "id": "43db0468",
   "metadata": {},
   "outputs": [
    {
     "data": {
      "text/html": [
       "<div>\n",
       "<style scoped>\n",
       "    .dataframe tbody tr th:only-of-type {\n",
       "        vertical-align: middle;\n",
       "    }\n",
       "\n",
       "    .dataframe tbody tr th {\n",
       "        vertical-align: top;\n",
       "    }\n",
       "\n",
       "    .dataframe thead th {\n",
       "        text-align: right;\n",
       "    }\n",
       "</style>\n",
       "<table border=\"1\" class=\"dataframe\">\n",
       "  <thead>\n",
       "    <tr style=\"text-align: right;\">\n",
       "      <th></th>\n",
       "      <th>bodytype</th>\n",
       "      <th>brand</th>\n",
       "      <th>mileage</th>\n",
       "      <th>color</th>\n",
       "      <th>engine</th>\n",
       "      <th>complectation</th>\n",
       "      <th>tax</th>\n",
       "      <th>transmission</th>\n",
       "      <th>drive</th>\n",
       "      <th>wheel</th>\n",
       "      <th>owners</th>\n",
       "      <th>customs</th>\n",
       "      <th>pts</th>\n",
       "      <th>year</th>\n",
       "      <th>price</th>\n",
       "    </tr>\n",
       "  </thead>\n",
       "  <tbody>\n",
       "    <tr>\n",
       "      <th>70</th>\n",
       "      <td>Кузовседан</td>\n",
       "      <td>Audi A4 V (B9)</td>\n",
       "      <td>Пробег85 883 км</td>\n",
       "      <td>Цветсеребристый</td>\n",
       "      <td>Двигатель2.0 л / 249 л.с. / Бензин</td>\n",
       "      <td>Комплектация23 опции</td>\n",
       "      <td>Налог18 675 ₽ / год</td>\n",
       "      <td>Коробкароботизированная</td>\n",
       "      <td>Приводполный</td>\n",
       "      <td>РульЛевый</td>\n",
       "      <td>Владельцы1 владелец</td>\n",
       "      <td>ТаможняРастаможен</td>\n",
       "      <td>ПТСОригинал</td>\n",
       "      <td>год выпуска2018</td>\n",
       "      <td>2 490 000 ₽Хорошая ценаот 2 370 000 ₽ со скидками</td>\n",
       "    </tr>\n",
       "    <tr>\n",
       "      <th>13</th>\n",
       "      <td>Кузовседан</td>\n",
       "      <td>Audi A4 II (B6)</td>\n",
       "      <td>Пробег348 000 км</td>\n",
       "      <td>Цветсерый</td>\n",
       "      <td>Двигатель1.8 л / 150 л.с. / Бензин</td>\n",
       "      <td>Комплектация47 опций</td>\n",
       "      <td>Налог5 100 ₽ / год</td>\n",
       "      <td>Коробкавариатор</td>\n",
       "      <td>Приводпередний</td>\n",
       "      <td>РульЛевый</td>\n",
       "      <td>Владельцы3 или более</td>\n",
       "      <td>ТаможняРастаможен</td>\n",
       "      <td>ПТСДубликат</td>\n",
       "      <td>год выпуска2001</td>\n",
       "      <td>350 000 ₽Смотреть статистику цен</td>\n",
       "    </tr>\n",
       "    <tr>\n",
       "      <th>67</th>\n",
       "      <td>Кузовседан</td>\n",
       "      <td>Audi A4 IV (B8)</td>\n",
       "      <td>Пробег255 000 км</td>\n",
       "      <td>Цветзелёный</td>\n",
       "      <td>Двигатель2.7 л / 190 л.с. / Дизель</td>\n",
       "      <td>Комплектация23 опции</td>\n",
       "      <td>Налог9 500 ₽ / год</td>\n",
       "      <td>Коробкавариатор</td>\n",
       "      <td>Приводпередний</td>\n",
       "      <td>РульЛевый</td>\n",
       "      <td>Владельцы1 владелец</td>\n",
       "      <td>ТаможняРастаможен</td>\n",
       "      <td>ПТСОригинал</td>\n",
       "      <td>год выпуска2009</td>\n",
       "      <td>1 230 000 ₽Смотреть статистику цен</td>\n",
       "    </tr>\n",
       "  </tbody>\n",
       "</table>\n",
       "</div>"
      ],
      "text/plain": [
       "      bodytype            brand           mileage            color  \\\n",
       "70  Кузовседан   Audi A4 V (B9)   Пробег85 883 км  Цветсеребристый   \n",
       "13  Кузовседан  Audi A4 II (B6)  Пробег348 000 км        Цветсерый   \n",
       "67  Кузовседан  Audi A4 IV (B8)  Пробег255 000 км      Цветзелёный   \n",
       "\n",
       "                                engine         complectation  \\\n",
       "70  Двигатель2.0 л / 249 л.с. / Бензин  Комплектация23 опции   \n",
       "13  Двигатель1.8 л / 150 л.с. / Бензин  Комплектация47 опций   \n",
       "67  Двигатель2.7 л / 190 л.с. / Дизель  Комплектация23 опции   \n",
       "\n",
       "                    tax             transmission           drive      wheel  \\\n",
       "70  Налог18 675 ₽ / год  Коробкароботизированная    Приводполный  РульЛевый   \n",
       "13   Налог5 100 ₽ / год          Коробкавариатор  Приводпередний  РульЛевый   \n",
       "67   Налог9 500 ₽ / год          Коробкавариатор  Приводпередний  РульЛевый   \n",
       "\n",
       "                  owners            customs          pts             year  \\\n",
       "70   Владельцы1 владелец  ТаможняРастаможен  ПТСОригинал  год выпуска2018   \n",
       "13  Владельцы3 или более  ТаможняРастаможен  ПТСДубликат  год выпуска2001   \n",
       "67   Владельцы1 владелец  ТаможняРастаможен  ПТСОригинал  год выпуска2009   \n",
       "\n",
       "                                                price  \n",
       "70  2 490 000 ₽Хорошая ценаот 2 370 000 ₽ со скидками  \n",
       "13                   350 000 ₽Смотреть статистику цен  \n",
       "67                 1 230 000 ₽Смотреть статистику цен  "
      ]
     },
     "execution_count": 14,
     "metadata": {},
     "output_type": "execute_result"
    }
   ],
   "source": [
    "#смотрим и проверяем собранную структуру данных\n",
    "#данные годятся, но они очень сырые и требуют значительной предобработки перед тем, как передавать их в моделирование\n",
    "data_auto.sample(3)"
   ]
  },
  {
   "cell_type": "code",
   "execution_count": 15,
   "id": "4b315ae3",
   "metadata": {},
   "outputs": [],
   "source": [
    "#сохраняем данные в промежуточном буферном файле\n",
    "data_auto.to_csv('C:/Users/Алексей Третьяков/Desktop/ML_projects/FierceDra-X.github.io/module_5/data_auto_f.csv', index=False)"
   ]
  },
  {
   "cell_type": "markdown",
   "id": "737f2d84",
   "metadata": {},
   "source": [
    " ```\n",
    " Заканчиваем эту часть копированием собранных данных в промежуточный файл data_auto_f.csv, данные в котором потом будут обработаны до необходимого для моделирования качества во второй части проекта - в файле data_auto_processing.ipynb.\n",
    "  ```"
   ]
  }
 ],
 "metadata": {
  "kernelspec": {
   "display_name": "Python 3 (ipykernel)",
   "language": "python",
   "name": "python3"
  },
  "language_info": {
   "codemirror_mode": {
    "name": "ipython",
    "version": 3
   },
   "file_extension": ".py",
   "mimetype": "text/x-python",
   "name": "python",
   "nbconvert_exporter": "python",
   "pygments_lexer": "ipython3",
   "version": "3.9.1"
  }
 },
 "nbformat": 4,
 "nbformat_minor": 5
}
