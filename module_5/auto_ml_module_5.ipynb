{
 "cells": [
  {
   "cell_type": "markdown",
   "id": "64a89a4b",
   "metadata": {},
   "source": [
    "![Авто](https://img2.goodfon.ru/wallpaper/nbig/4/4a/auto-cars-ac-cobra-cobra.jpg)"
   ]
  },
  {
   "cell_type": "markdown",
   "id": "35e3cea4",
   "metadata": {},
   "source": [
    "# Прогнозирование стоимости автомобиля по его характеристикам\n",
    "Часть 3\n",
    "__________________________________________________________________________________________________________________\n",
    "\n",
    "**Этот ноутбук включает:**\n",
    "> - заключительную предобработку собранных с внешнего сайта [auto.ru](https://auto.ru/)  данных;\n",
    "> - обработку тестовых данных test.csv с целью стыковки их с train датасетом;\n",
    "> - feature enginiring обработанного общего датасета train+test;\n",
    "> - создание модели предсказания цен на автомобили и проверки предсказаний модели на соревновании сайта kaggle.com;"
   ]
  },
  {
   "cell_type": "markdown",
   "id": "96af302d",
   "metadata": {},
   "source": [
    "# Содержание\n",
    "\n",
    "- [1. Библиотеки](#1.-Библиотеки)\n",
    "- [2. Заключительная предобработка данных](#2.-Заключительная-предобработка-данных)\n",
    "    * [2.1 Дообработка train dataset](#2.1-Дообработка-train-dataset)\n",
    "    * [2.2 Приведение test dataset в соответствие с train dataset](#2.2-Приведение-test-dataset-в-соответствие-с-train-dataset)\n",
    "- [3. Feature engineering](#3.-Feature-engineering)\n",
    "- [4. Моделирование](#4.-Моделирование)\n",
    "    * [4.1 Наивное моделирование](#4.1-Наивное-моделирование)\n",
    "    * [4.2 Ранжирование дефолтных моделей](#4.2-Ранжирование-дефолтных-моделей)\n",
    "    * [4.3 Поиск лучших гиперпараметров](#4.3-Поиск-лучших-гиперпараметров)\n",
    "    * [4.4 Стекинг алгоритмов](#4.4-Стекинг-алгоритмов)\n",
    "    * [4.5 Формирование файла Submission](#4.5-Формирование-файла-Submission)"
   ]
  },
  {
   "cell_type": "markdown",
   "id": "fb66ed9d",
   "metadata": {},
   "source": [
    "# **1. Библиотеки**"
   ]
  },
  {
   "cell_type": "code",
   "execution_count": 1,
   "id": "5a333090",
   "metadata": {},
   "outputs": [],
   "source": [
    "#Загружаем необходимые нам библиотеки\n",
    "#библиотеки для моделирования\n",
    "from sklearn.tree import DecisionTreeRegressor\n",
    "from sklearn.linear_model import LinearRegression, Ridge, Lasso\n",
    "from sklearn.ensemble import RandomForestRegressor, BaggingRegressor, GradientBoostingRegressor\n",
    "from sklearn.ensemble import ExtraTreesRegressor, AdaBoostRegressor\n",
    "from sklearn.neighbors import KNeighborsRegressor\n",
    "\n",
    "#для разбиения признаков, выборок и сеток для поиска лучших гиперпараметров\n",
    "from sklearn.model_selection import cross_val_score, train_test_split, KFold, learning_curve\n",
    "from sklearn.model_selection import RandomizedSearchCV, GridSearchCV\n",
    "\n",
    "#для оценки качества классификации\n",
    "#загрузим собственную метрику\n",
    "from sklearn.metrics import make_scorer\n",
    "\n",
    "#предобработка признаков\n",
    "from sklearn.preprocessing import StandardScaler, MinMaxScaler, RobustScaler\n",
    "from sklearn.preprocessing import LabelEncoder, OneHotEncoder\n",
    "from sklearn.preprocessing import PolynomialFeatures\n",
    "from sklearn.pipeline import Pipeline\n",
    "\n",
    "#библиотеки отбора признаков и оценки их значимости\n",
    "from sklearn.feature_selection import mutual_info_classif, f_classif, chi2\n",
    "\n",
    "from sklearn.base import clone\n",
    "\n",
    "#общие библиотеки\n",
    "import matplotlib.pyplot as plt\n",
    "import pandas as pd\n",
    "import numpy as np\n",
    "import seaborn as sns\n",
    "from pprint import pprint\n",
    "import sys\n",
    "from tqdm.notebook import tqdm\n",
    "import json\n",
    "import re\n",
    "import itertools\n",
    "%matplotlib inline"
   ]
  },
  {
   "cell_type": "markdown",
   "id": "a777cc4a",
   "metadata": {},
   "source": [
    "# 2. **Заключительная предобработка данных**"
   ]
  },
  {
   "cell_type": "markdown",
   "id": "9217884a",
   "metadata": {},
   "source": [
    "## `2.1 Дообработка train dataset`"
   ]
  },
  {
   "cell_type": "code",
   "execution_count": 3,
   "id": "2e0efe38",
   "metadata": {},
   "outputs": [],
   "source": [
    "# директория с файлами проекта\n",
    "DIR = 'C:/Users/Алексей Третьяков/Desktop/ML_projects/FierceDra-X.github.io/module_5/'\n",
    "\n",
    "# загружаем собранный датасет в датафрейм\n",
    "train = pd.read_csv(DIR + 'data_auto_processed_FINAL_3.csv')\n",
    "\n",
    "# загружаем тестовый датасет в датафрейм\n",
    "test = pd.read_csv(DIR + 'test.csv')\n",
    "\n",
    "# загружаем файл с форматом для подачи прогнозных значений на оценку\n",
    "sample_submission = pd.read_csv(DIR + 'sample_submission.csv')"
   ]
  },
  {
   "cell_type": "code",
   "execution_count": 4,
   "id": "0a7c464e",
   "metadata": {},
   "outputs": [],
   "source": [
    "pd.set_option('display.max_columns', None) #установим режим для полного просмотра колонок датасетов"
   ]
  },
  {
   "cell_type": "code",
   "execution_count": 5,
   "id": "49e8f6e0",
   "metadata": {},
   "outputs": [
    {
     "name": "stdout",
     "output_type": "stream",
     "text": [
      "<class 'pandas.core.frame.DataFrame'>\n",
      "Int64Index: 80076 entries, 0 to 86361\n",
      "Data columns (total 18 columns):\n",
      " #   Column              Non-Null Count  Dtype  \n",
      "---  ------              --------------  -----  \n",
      " 0   bodytype            80076 non-null  object \n",
      " 1   brand               80076 non-null  object \n",
      " 2   mileage             80076 non-null  int64  \n",
      " 3   color               80076 non-null  object \n",
      " 4   complectation       80076 non-null  int64  \n",
      " 5   tax                 80076 non-null  int64  \n",
      " 6   transmission        80076 non-null  object \n",
      " 7   drive               80076 non-null  object \n",
      " 8   wheel               80076 non-null  object \n",
      " 9   owners              80076 non-null  int64  \n",
      " 10  customs             80075 non-null  object \n",
      " 11  pts                 80076 non-null  object \n",
      " 12  year                80076 non-null  int64  \n",
      " 13  price               80076 non-null  int64  \n",
      " 14  model_name          80076 non-null  object \n",
      " 15  engineDisplacement  80076 non-null  float64\n",
      " 16  enginePower         80076 non-null  int64  \n",
      " 17  fuelType            80076 non-null  object \n",
      "dtypes: float64(1), int64(7), object(10)\n",
      "memory usage: 11.6+ MB\n"
     ]
    }
   ],
   "source": [
    "# устраним дубликаты и посмотрим на структуру данных\n",
    "train.drop_duplicates(inplace=True)\n",
    "train.info()"
   ]
  },
  {
   "cell_type": "markdown",
   "id": "aec9f30f",
   "metadata": {},
   "source": [
    " ```\n",
    " Тестовый датасет был собран в октябре 2020 года, судя по парсинг времени,\n",
    " а к осени 2021 года цены на подержанные автомобили сильно выросли.\n",
    "  \n",
    " Ниже приводится график динамики цен на подержанные автомобили.\n",
    " По причине роста цен, цены в собранном датасете необходимо скорректировать и привести к уровню осени 2020 года\n",
    "  ```"
   ]
  },
  {
   "attachments": {
    "price_dynamics.jpg": {
     "image/jpeg": "[encoded data removed]"
    }
   },
   "cell_type": "markdown",
   "id": "258928d2",
   "metadata": {},
   "source": [
    "![price_dynamics.jpg](attachment:price_dynamics.jpg)"
   ]
  },
  {
   "cell_type": "code",
   "execution_count": 6,
   "id": "43ba7b97",
   "metadata": {},
   "outputs": [],
   "source": [
    "#сделаем функцию корректировки цен и применим ее к таргету\n",
    "#наилучшие коэффициенты корректировки пришлось подбирать руками\n",
    "def price_correction(year, price):\n",
    "    if year >= 2014:\n",
    "        return price/1.23\n",
    "    else:\n",
    "        return price/1.3\n",
    "    \n",
    "train['new_price'] = train[['year','price']].apply(lambda x: price_correction(x['year'], x['price']), axis=1)"
   ]
  },
  {
   "cell_type": "code",
   "execution_count": 7,
   "id": "30d10938",
   "metadata": {},
   "outputs": [
    {
     "data": {
      "text/html": [
       "<div>\n",
       "<style scoped>\n",
       "    .dataframe tbody tr th:only-of-type {\n",
       "        vertical-align: middle;\n",
       "    }\n",
       "\n",
       "    .dataframe tbody tr th {\n",
       "        vertical-align: top;\n",
       "    }\n",
       "\n",
       "    .dataframe thead th {\n",
       "        text-align: right;\n",
       "    }\n",
       "</style>\n",
       "<table border=\"1\" class=\"dataframe\">\n",
       "  <thead>\n",
       "    <tr style=\"text-align: right;\">\n",
       "      <th></th>\n",
       "      <th>bodytype</th>\n",
       "      <th>brand</th>\n",
       "      <th>mileage</th>\n",
       "      <th>color</th>\n",
       "      <th>complectation</th>\n",
       "      <th>tax</th>\n",
       "      <th>transmission</th>\n",
       "      <th>drive</th>\n",
       "      <th>wheel</th>\n",
       "      <th>owners</th>\n",
       "      <th>customs</th>\n",
       "      <th>pts</th>\n",
       "      <th>year</th>\n",
       "      <th>price</th>\n",
       "      <th>model_name</th>\n",
       "      <th>engineDisplacement</th>\n",
       "      <th>enginePower</th>\n",
       "      <th>fuelType</th>\n",
       "      <th>new_price</th>\n",
       "    </tr>\n",
       "  </thead>\n",
       "  <tbody>\n",
       "    <tr>\n",
       "      <th>46233</th>\n",
       "      <td>седан</td>\n",
       "      <td>MERCEDES</td>\n",
       "      <td>241689</td>\n",
       "      <td>чёрный</td>\n",
       "      <td>6</td>\n",
       "      <td>16800</td>\n",
       "      <td>автоматическая</td>\n",
       "      <td>задний</td>\n",
       "      <td>Левый</td>\n",
       "      <td>1</td>\n",
       "      <td>Растаможен</td>\n",
       "      <td>Оригинал</td>\n",
       "      <td>2009</td>\n",
       "      <td>1270000</td>\n",
       "      <td>CLS</td>\n",
       "      <td>3.0</td>\n",
       "      <td>224</td>\n",
       "      <td>Дизель</td>\n",
       "      <td>9.769231e+05</td>\n",
       "    </tr>\n",
       "    <tr>\n",
       "      <th>81815</th>\n",
       "      <td>седан</td>\n",
       "      <td>TOYOTA</td>\n",
       "      <td>5150</td>\n",
       "      <td>чёрный</td>\n",
       "      <td>7</td>\n",
       "      <td>2700</td>\n",
       "      <td>вариатор</td>\n",
       "      <td>передний</td>\n",
       "      <td>Левый</td>\n",
       "      <td>2</td>\n",
       "      <td>ТаможняРастаможен</td>\n",
       "      <td>ПТСОригинал</td>\n",
       "      <td>2021</td>\n",
       "      <td>2577000</td>\n",
       "      <td>CAMRY</td>\n",
       "      <td>2.0</td>\n",
       "      <td>150</td>\n",
       "      <td>Бензин</td>\n",
       "      <td>2.095122e+06</td>\n",
       "    </tr>\n",
       "    <tr>\n",
       "      <th>11288</th>\n",
       "      <td>седан</td>\n",
       "      <td>INFINITI</td>\n",
       "      <td>171000</td>\n",
       "      <td>чёрный</td>\n",
       "      <td>0</td>\n",
       "      <td>49950</td>\n",
       "      <td>автоматическая</td>\n",
       "      <td>полный</td>\n",
       "      <td>Левый</td>\n",
       "      <td>1</td>\n",
       "      <td>Растаможен</td>\n",
       "      <td>Оригинал</td>\n",
       "      <td>2012</td>\n",
       "      <td>1149000</td>\n",
       "      <td>M</td>\n",
       "      <td>3.7</td>\n",
       "      <td>333</td>\n",
       "      <td>Бензин</td>\n",
       "      <td>8.838462e+05</td>\n",
       "    </tr>\n",
       "    <tr>\n",
       "      <th>4297</th>\n",
       "      <td>внедорожник 5 дв.</td>\n",
       "      <td>BMW</td>\n",
       "      <td>105000</td>\n",
       "      <td>серый</td>\n",
       "      <td>0</td>\n",
       "      <td>38700</td>\n",
       "      <td>автоматическая</td>\n",
       "      <td>полный</td>\n",
       "      <td>Левый</td>\n",
       "      <td>1</td>\n",
       "      <td>Растаможен</td>\n",
       "      <td>Оригинал</td>\n",
       "      <td>2011</td>\n",
       "      <td>1420000</td>\n",
       "      <td>X3</td>\n",
       "      <td>3.0</td>\n",
       "      <td>258</td>\n",
       "      <td>Бензин</td>\n",
       "      <td>1.092308e+06</td>\n",
       "    </tr>\n",
       "    <tr>\n",
       "      <th>31872</th>\n",
       "      <td>седан</td>\n",
       "      <td>VOLVO</td>\n",
       "      <td>158306</td>\n",
       "      <td>красный</td>\n",
       "      <td>0</td>\n",
       "      <td>2650</td>\n",
       "      <td>механическая</td>\n",
       "      <td>передний</td>\n",
       "      <td>Левый</td>\n",
       "      <td>1</td>\n",
       "      <td>Растаможен</td>\n",
       "      <td>Оригинал</td>\n",
       "      <td>1990</td>\n",
       "      <td>60000</td>\n",
       "      <td>460</td>\n",
       "      <td>1.7</td>\n",
       "      <td>106</td>\n",
       "      <td>Бензин</td>\n",
       "      <td>4.615385e+04</td>\n",
       "    </tr>\n",
       "  </tbody>\n",
       "</table>\n",
       "</div>"
      ],
      "text/plain": [
       "                bodytype     brand  mileage    color  complectation    tax  \\\n",
       "46233              седан  MERCEDES   241689   чёрный              6  16800   \n",
       "81815              седан    TOYOTA     5150   чёрный              7   2700   \n",
       "11288              седан  INFINITI   171000   чёрный              0  49950   \n",
       "4297   внедорожник 5 дв.       BMW   105000    серый              0  38700   \n",
       "31872              седан     VOLVO   158306  красный              0   2650   \n",
       "\n",
       "         transmission     drive  wheel  owners            customs  \\\n",
       "46233  автоматическая    задний  Левый       1         Растаможен   \n",
       "81815        вариатор  передний  Левый       2  ТаможняРастаможен   \n",
       "11288  автоматическая    полный  Левый       1         Растаможен   \n",
       "4297   автоматическая    полный  Левый       1         Растаможен   \n",
       "31872    механическая  передний  Левый       1         Растаможен   \n",
       "\n",
       "               pts  year    price model_name  engineDisplacement  enginePower  \\\n",
       "46233     Оригинал  2009  1270000        CLS                 3.0          224   \n",
       "81815  ПТСОригинал  2021  2577000      CAMRY                 2.0          150   \n",
       "11288     Оригинал  2012  1149000          M                 3.7          333   \n",
       "4297      Оригинал  2011  1420000         X3                 3.0          258   \n",
       "31872     Оригинал  1990    60000        460                 1.7          106   \n",
       "\n",
       "      fuelType     new_price  \n",
       "46233   Дизель  9.769231e+05  \n",
       "81815   Бензин  2.095122e+06  \n",
       "11288   Бензин  8.838462e+05  \n",
       "4297    Бензин  1.092308e+06  \n",
       "31872   Бензин  4.615385e+04  "
      ]
     },
     "execution_count": 7,
     "metadata": {},
     "output_type": "execute_result"
    }
   ],
   "source": [
    "# в собранных данных автомобили некоторых моделей не совпадают по написанию с данными в файле test.csv\n",
    "# приведем их в соответствие\n",
    "model_name_train = ['MERCEDES-BENZ','7','5','3','E-КЛАСС','C-КЛАСС',\n",
    "                    'M-КЛАСС','S-КЛАСС','X-TRAIL','LAND','RAV4']\n",
    "model_name_test = ['MERCEDES','7ER','5ER','3ER','E_KLASSE','C_KLASSE',\n",
    "                   'M_KLASSE','S_KLASSE', 'X_TRAIL','LAND_CRUISER','RAV_4']\n",
    "\n",
    "for i in range (11):\n",
    "    train.replace(model_name_train[i], model_name_test[i], inplace=True)\n",
    "\n",
    "train.sample(5)"
   ]
  },
  {
   "cell_type": "code",
   "execution_count": 8,
   "id": "d75e3d4c",
   "metadata": {},
   "outputs": [
    {
     "data": {
      "text/plain": [
       "array(['AUDI', 'BMW', 'HONDA', 'INFINITI', 'LEXUS', 'MERCEDES',\n",
       "       'MITSUBISHI', 'NISSAN', 'SKODA', 'TOYOTA', 'VOLVO', 'VOLKSWAGEN'],\n",
       "      dtype=object)"
      ]
     },
     "execution_count": 8,
     "metadata": {},
     "output_type": "execute_result"
    }
   ],
   "source": [
    "# в тестовом датасете всего 12 брендов автомобилей\n",
    "# оставим в собранных данных train.csv только 12 брендов, чтобы структура датасетов была схожей\n",
    "test_brands = list(test.brand.unique())\n",
    "train_test = train.loc[train['brand'].isin(test_brands)]\n",
    "train_test.brand.unique()"
   ]
  },
  {
   "cell_type": "markdown",
   "id": "7199cbda",
   "metadata": {},
   "source": [
    "[Вверх к содержанию](#Содержание)"
   ]
  },
  {
   "cell_type": "markdown",
   "id": "3467da1d",
   "metadata": {},
   "source": [
    "## `2.2 Приведение test dataset в соответствие с train dataset`"
   ]
  },
  {
   "cell_type": "code",
   "execution_count": 9,
   "id": "b686f878",
   "metadata": {},
   "outputs": [
    {
     "data": {
      "text/plain": [
       "(Index(['bodyType', 'brand', 'car_url', 'color', 'complectation_dict',\n",
       "        'description', 'engineDisplacement', 'enginePower', 'equipment_dict',\n",
       "        'fuelType', 'image', 'mileage', 'modelDate', 'model_info', 'model_name',\n",
       "        'name', 'numberOfDoors', 'parsing_unixtime', 'priceCurrency',\n",
       "        'productionDate', 'sell_id', 'super_gen', 'vehicleConfiguration',\n",
       "        'vehicleTransmission', 'vendor', 'Владельцы', 'Владение', 'ПТС',\n",
       "        'Привод', 'Руль', 'Состояние', 'Таможня'],\n",
       "       dtype='object'),\n",
       " Index(['bodytype', 'brand', 'mileage', 'color', 'complectation', 'tax',\n",
       "        'transmission', 'drive', 'wheel', 'owners', 'customs', 'pts', 'year',\n",
       "        'price', 'model_name', 'engineDisplacement', 'enginePower', 'fuelType',\n",
       "        'new_price'],\n",
       "       dtype='object'))"
      ]
     },
     "execution_count": 9,
     "metadata": {},
     "output_type": "execute_result"
    }
   ],
   "source": [
    " #порядок и названия колонок не совпадают в тесте и трейне, а их необходимо склеить в один датасет для обработки\n",
    "test.columns, train_test.columns"
   ]
  },
  {
   "cell_type": "code",
   "execution_count": 10,
   "id": "5adccccc",
   "metadata": {},
   "outputs": [
    {
     "data": {
      "text/html": [
       "<div>\n",
       "<style scoped>\n",
       "    .dataframe tbody tr th:only-of-type {\n",
       "        vertical-align: middle;\n",
       "    }\n",
       "\n",
       "    .dataframe tbody tr th {\n",
       "        vertical-align: top;\n",
       "    }\n",
       "\n",
       "    .dataframe thead th {\n",
       "        text-align: right;\n",
       "    }\n",
       "</style>\n",
       "<table border=\"1\" class=\"dataframe\">\n",
       "  <thead>\n",
       "    <tr style=\"text-align: right;\">\n",
       "      <th></th>\n",
       "      <th>bodytype</th>\n",
       "      <th>brand</th>\n",
       "      <th>mileage</th>\n",
       "      <th>color</th>\n",
       "      <th>complectation</th>\n",
       "      <th>tax</th>\n",
       "      <th>transmission</th>\n",
       "      <th>drive</th>\n",
       "      <th>wheel</th>\n",
       "      <th>owners</th>\n",
       "      <th>customs</th>\n",
       "      <th>pts</th>\n",
       "      <th>year</th>\n",
       "      <th>model_name</th>\n",
       "      <th>engineDisplacement</th>\n",
       "      <th>enginePower</th>\n",
       "      <th>fuelType</th>\n",
       "    </tr>\n",
       "  </thead>\n",
       "  <tbody>\n",
       "    <tr>\n",
       "      <th>32527</th>\n",
       "      <td>внедорожник 5 дв.</td>\n",
       "      <td>NISSAN</td>\n",
       "      <td>101000</td>\n",
       "      <td>чёрный</td>\n",
       "      <td>{\"id\":\"7277685\",\"name\":\"LE\",\"available_options...</td>\n",
       "      <td>0</td>\n",
       "      <td>вариатор</td>\n",
       "      <td>передний</td>\n",
       "      <td>Левый</td>\n",
       "      <td>1 владелец</td>\n",
       "      <td>Растаможен</td>\n",
       "      <td>Оригинал</td>\n",
       "      <td>2012</td>\n",
       "      <td>JUKE</td>\n",
       "      <td>1.6 LTR</td>\n",
       "      <td>117 N12</td>\n",
       "      <td>бензин</td>\n",
       "    </tr>\n",
       "    <tr>\n",
       "      <th>29487</th>\n",
       "      <td>седан</td>\n",
       "      <td>BMW</td>\n",
       "      <td>272489</td>\n",
       "      <td>красный</td>\n",
       "      <td>NaN</td>\n",
       "      <td>0</td>\n",
       "      <td>механическая</td>\n",
       "      <td>задний</td>\n",
       "      <td>Левый</td>\n",
       "      <td>3 или более</td>\n",
       "      <td>Растаможен</td>\n",
       "      <td>Оригинал</td>\n",
       "      <td>1989</td>\n",
       "      <td>5ER</td>\n",
       "      <td>2.5 LTR</td>\n",
       "      <td>170 N12</td>\n",
       "      <td>бензин</td>\n",
       "    </tr>\n",
       "    <tr>\n",
       "      <th>11386</th>\n",
       "      <td>внедорожник 5 дв.</td>\n",
       "      <td>NISSAN</td>\n",
       "      <td>134000</td>\n",
       "      <td>серый</td>\n",
       "      <td>NaN</td>\n",
       "      <td>0</td>\n",
       "      <td>механическая</td>\n",
       "      <td>полный</td>\n",
       "      <td>Левый</td>\n",
       "      <td>2 владельца</td>\n",
       "      <td>Растаможен</td>\n",
       "      <td>Оригинал</td>\n",
       "      <td>2008</td>\n",
       "      <td>X_TRAIL</td>\n",
       "      <td>2.0 LTR</td>\n",
       "      <td>141 N12</td>\n",
       "      <td>бензин</td>\n",
       "    </tr>\n",
       "    <tr>\n",
       "      <th>30553</th>\n",
       "      <td>внедорожник 5 дв.</td>\n",
       "      <td>VOLKSWAGEN</td>\n",
       "      <td>185000</td>\n",
       "      <td>серый</td>\n",
       "      <td>NaN</td>\n",
       "      <td>0</td>\n",
       "      <td>автоматическая</td>\n",
       "      <td>полный</td>\n",
       "      <td>Левый</td>\n",
       "      <td>2 владельца</td>\n",
       "      <td>Растаможен</td>\n",
       "      <td>Оригинал</td>\n",
       "      <td>2005</td>\n",
       "      <td>TOUAREG</td>\n",
       "      <td>2.5 LTR</td>\n",
       "      <td>174 N12</td>\n",
       "      <td>дизель</td>\n",
       "    </tr>\n",
       "    <tr>\n",
       "      <th>25781</th>\n",
       "      <td>седан</td>\n",
       "      <td>VOLKSWAGEN</td>\n",
       "      <td>114531</td>\n",
       "      <td>серый</td>\n",
       "      <td>NaN</td>\n",
       "      <td>0</td>\n",
       "      <td>роботизированная</td>\n",
       "      <td>передний</td>\n",
       "      <td>Левый</td>\n",
       "      <td>3 или более</td>\n",
       "      <td>Растаможен</td>\n",
       "      <td>Оригинал</td>\n",
       "      <td>2014</td>\n",
       "      <td>PASSAT</td>\n",
       "      <td>1.4 LTR</td>\n",
       "      <td>122 N12</td>\n",
       "      <td>бензин</td>\n",
       "    </tr>\n",
       "    <tr>\n",
       "      <th>3384</th>\n",
       "      <td>купе</td>\n",
       "      <td>AUDI</td>\n",
       "      <td>180000</td>\n",
       "      <td>серый</td>\n",
       "      <td>NaN</td>\n",
       "      <td>0</td>\n",
       "      <td>вариатор</td>\n",
       "      <td>передний</td>\n",
       "      <td>Левый</td>\n",
       "      <td>3 или более</td>\n",
       "      <td>Растаможен</td>\n",
       "      <td>Оригинал</td>\n",
       "      <td>2007</td>\n",
       "      <td>A5</td>\n",
       "      <td>3.2 LTR</td>\n",
       "      <td>265 N12</td>\n",
       "      <td>бензин</td>\n",
       "    </tr>\n",
       "    <tr>\n",
       "      <th>9598</th>\n",
       "      <td>внедорожник 5 дв.</td>\n",
       "      <td>BMW</td>\n",
       "      <td>250000</td>\n",
       "      <td>чёрный</td>\n",
       "      <td>NaN</td>\n",
       "      <td>0</td>\n",
       "      <td>автоматическая</td>\n",
       "      <td>полный</td>\n",
       "      <td>Левый</td>\n",
       "      <td>2 владельца</td>\n",
       "      <td>Растаможен</td>\n",
       "      <td>Оригинал</td>\n",
       "      <td>2010</td>\n",
       "      <td>X1</td>\n",
       "      <td>3.0 LTR</td>\n",
       "      <td>218 N12</td>\n",
       "      <td>бензин</td>\n",
       "    </tr>\n",
       "    <tr>\n",
       "      <th>2865</th>\n",
       "      <td>купе</td>\n",
       "      <td>AUDI</td>\n",
       "      <td>29000</td>\n",
       "      <td>зелёный</td>\n",
       "      <td>NaN</td>\n",
       "      <td>0</td>\n",
       "      <td>автоматическая</td>\n",
       "      <td>полный</td>\n",
       "      <td>Левый</td>\n",
       "      <td>1 владелец</td>\n",
       "      <td>Растаможен</td>\n",
       "      <td>Оригинал</td>\n",
       "      <td>2018</td>\n",
       "      <td>RS5</td>\n",
       "      <td>2.9 LTR</td>\n",
       "      <td>450 N12</td>\n",
       "      <td>бензин</td>\n",
       "    </tr>\n",
       "    <tr>\n",
       "      <th>7089</th>\n",
       "      <td>седан</td>\n",
       "      <td>VOLVO</td>\n",
       "      <td>189031</td>\n",
       "      <td>чёрный</td>\n",
       "      <td>NaN</td>\n",
       "      <td>0</td>\n",
       "      <td>автоматическая</td>\n",
       "      <td>передний</td>\n",
       "      <td>Левый</td>\n",
       "      <td>3 или более</td>\n",
       "      <td>Растаможен</td>\n",
       "      <td>Дубликат</td>\n",
       "      <td>2007</td>\n",
       "      <td>S60</td>\n",
       "      <td>2.4 LTR</td>\n",
       "      <td>170 N12</td>\n",
       "      <td>бензин</td>\n",
       "    </tr>\n",
       "    <tr>\n",
       "      <th>20565</th>\n",
       "      <td>седан</td>\n",
       "      <td>TOYOTA</td>\n",
       "      <td>142183</td>\n",
       "      <td>серебристый</td>\n",
       "      <td>NaN</td>\n",
       "      <td>0</td>\n",
       "      <td>автоматическая</td>\n",
       "      <td>передний</td>\n",
       "      <td>Левый</td>\n",
       "      <td>2 владельца</td>\n",
       "      <td>Растаможен</td>\n",
       "      <td>Оригинал</td>\n",
       "      <td>2008</td>\n",
       "      <td>CAMRY</td>\n",
       "      <td>3.5 LTR</td>\n",
       "      <td>277 N12</td>\n",
       "      <td>бензин</td>\n",
       "    </tr>\n",
       "  </tbody>\n",
       "</table>\n",
       "</div>"
      ],
      "text/plain": [
       "                bodytype       brand  mileage        color  \\\n",
       "32527  внедорожник 5 дв.      NISSAN   101000       чёрный   \n",
       "29487              седан         BMW   272489      красный   \n",
       "11386  внедорожник 5 дв.      NISSAN   134000        серый   \n",
       "30553  внедорожник 5 дв.  VOLKSWAGEN   185000        серый   \n",
       "25781              седан  VOLKSWAGEN   114531        серый   \n",
       "3384                купе        AUDI   180000        серый   \n",
       "9598   внедорожник 5 дв.         BMW   250000       чёрный   \n",
       "2865                купе        AUDI    29000      зелёный   \n",
       "7089               седан       VOLVO   189031       чёрный   \n",
       "20565              седан      TOYOTA   142183  серебристый   \n",
       "\n",
       "                                           complectation  tax  \\\n",
       "32527  {\"id\":\"7277685\",\"name\":\"LE\",\"available_options...    0   \n",
       "29487                                                NaN    0   \n",
       "11386                                                NaN    0   \n",
       "30553                                                NaN    0   \n",
       "25781                                                NaN    0   \n",
       "3384                                                 NaN    0   \n",
       "9598                                                 NaN    0   \n",
       "2865                                                 NaN    0   \n",
       "7089                                                 NaN    0   \n",
       "20565                                                NaN    0   \n",
       "\n",
       "           transmission     drive  wheel       owners     customs       pts  \\\n",
       "32527          вариатор  передний  Левый   1 владелец  Растаможен  Оригинал   \n",
       "29487      механическая    задний  Левый  3 или более  Растаможен  Оригинал   \n",
       "11386      механическая    полный  Левый  2 владельца  Растаможен  Оригинал   \n",
       "30553    автоматическая    полный  Левый  2 владельца  Растаможен  Оригинал   \n",
       "25781  роботизированная  передний  Левый  3 или более  Растаможен  Оригинал   \n",
       "3384           вариатор  передний  Левый  3 или более  Растаможен  Оригинал   \n",
       "9598     автоматическая    полный  Левый  2 владельца  Растаможен  Оригинал   \n",
       "2865     автоматическая    полный  Левый   1 владелец  Растаможен  Оригинал   \n",
       "7089     автоматическая  передний  Левый  3 или более  Растаможен  Дубликат   \n",
       "20565    автоматическая  передний  Левый  2 владельца  Растаможен  Оригинал   \n",
       "\n",
       "       year model_name engineDisplacement enginePower fuelType  \n",
       "32527  2012       JUKE            1.6 LTR     117 N12   бензин  \n",
       "29487  1989        5ER            2.5 LTR     170 N12   бензин  \n",
       "11386  2008    X_TRAIL            2.0 LTR     141 N12   бензин  \n",
       "30553  2005    TOUAREG            2.5 LTR     174 N12   дизель  \n",
       "25781  2014     PASSAT            1.4 LTR     122 N12   бензин  \n",
       "3384   2007         A5            3.2 LTR     265 N12   бензин  \n",
       "9598   2010         X1            3.0 LTR     218 N12   бензин  \n",
       "2865   2018        RS5            2.9 LTR     450 N12   бензин  \n",
       "7089   2007        S60            2.4 LTR     170 N12   бензин  \n",
       "20565  2008      CAMRY            3.5 LTR     277 N12   бензин  "
      ]
     },
     "execution_count": 10,
     "metadata": {},
     "output_type": "execute_result"
    }
   ],
   "source": [
    "#приведем названия колонок тестового датасета в соответствие с тренинговым датасетом\n",
    "new_columns_test = ['bodytype', 'brand', 'car_url', 'color', 'complectation',\n",
    "       'description', 'engineDisplacement', 'enginePower', 'equipment',\n",
    "       'fuelType', 'image', 'mileage', 'modelDate', 'model_info', 'model_name',\n",
    "       'name', 'numberOfDoors', 'parsing_unixtime', 'priceCurrency',\n",
    "       'year', 'sell_id', 'super_gen', 'vehicleConfiguration',\n",
    "       'transmission', 'vendor', 'owners', 'Владение', 'pts',\n",
    "       'drive', 'wheel', 'Состояние', 'customs','tax']\n",
    "\n",
    "#добавим признак tax в test сет, так как этот признак есть в трейн сете\n",
    "#пока присвоим нулевые значения\n",
    "#и привдем колонки тест сета в соответствие с колонками трейн сета\n",
    "test['tax'] = 0\n",
    "test.columns = new_columns_test \n",
    "\n",
    "#создадим новый дата сет из тестового сета\n",
    "#оставим в нем только совпадающие с колонками train сета колонки в test датасете\n",
    "df_test = test[train_test.columns[:13].append(train_test.columns[14:-1])]\n",
    "df_test.sample(10)"
   ]
  },
  {
   "cell_type": "code",
   "execution_count": 11,
   "id": "ebef5d38",
   "metadata": {},
   "outputs": [
    {
     "data": {
      "text/plain": [
       "bodytype                  0\n",
       "brand                     0\n",
       "mileage                   0\n",
       "color                     0\n",
       "complectation         28268\n",
       "tax                       0\n",
       "transmission              0\n",
       "drive                     0\n",
       "wheel                     0\n",
       "owners                    0\n",
       "customs                   0\n",
       "pts                       1\n",
       "year                      0\n",
       "model_name                0\n",
       "engineDisplacement        0\n",
       "enginePower               0\n",
       "fuelType                  0\n",
       "dtype: int64"
      ]
     },
     "execution_count": 11,
     "metadata": {},
     "output_type": "execute_result"
    }
   ],
   "source": [
    "#в колонке pts есть один пропуск и много в комплектации\n",
    "df_test.isna().sum()"
   ]
  },
  {
   "cell_type": "code",
   "execution_count": 12,
   "id": "0ce1ceaf",
   "metadata": {},
   "outputs": [
    {
     "data": {
      "text/plain": [
       "bodytype              0\n",
       "brand                 0\n",
       "mileage               0\n",
       "color                 0\n",
       "complectation         0\n",
       "tax                   0\n",
       "transmission          0\n",
       "drive                 0\n",
       "wheel                 0\n",
       "owners                0\n",
       "customs               0\n",
       "pts                   0\n",
       "year                  0\n",
       "model_name            0\n",
       "engineDisplacement    0\n",
       "enginePower           0\n",
       "fuelType              0\n",
       "dtype: int64"
      ]
     },
     "execution_count": 12,
     "metadata": {},
     "output_type": "execute_result"
    }
   ],
   "source": [
    "df_test.loc[:]['pts'].fillna('Оригинал', inplace=True) # поставим Оригинал, как наиболее типичное значение pts\n",
    "df_test.loc[:]['complectation'].fillna(0, inplace=True) #комплектации с отсутствием описания - это, скорее всего,\n",
    "# скудные комплектации, поэтому поставим этим комплектациям 0\n",
    "df_test.isna().sum()#больше нет nan"
   ]
  },
  {
   "cell_type": "code",
   "execution_count": 13,
   "id": "d5eeda2f",
   "metadata": {},
   "outputs": [],
   "source": [
    "#обработаем df_test так, чтобы данные по типу и форме совпадали с данными в сете train\n",
    "\n",
    "def compl(compl):#там где есть словарь комплектации, поставим значение равное количеству комплектаций\n",
    "    try:\n",
    "        complectation_dictionary = json.loads(compl)\n",
    "        return len(complectation_dictionary['available_options'])\n",
    "    except:\n",
    "        return 0\n",
    "\n",
    "def own(owners):#функция вытаскивает число собственников и преобразовывает ее в формат int\n",
    "    try:\n",
    "        return int(re.sub(\"[^0-9]\",\"\",owners))\n",
    "    except:\n",
    "        return 1\n",
    "\n",
    "#функция разбивает строку на список и берет первый элемент с объемом двигателя,\n",
    "#преобразовав его в тип float   \n",
    "def eDispl(eDispl):\n",
    "    try:\n",
    "        return float(eDispl.split(' ')[0])\n",
    "    except:\n",
    "        return 1.8\n",
    "\n",
    "def epower(epower):\n",
    "    return int(epower.split(' ')[0])#функция разбивает строку, содержающую данные о мощности\n",
    "                                    #на список и берет первый элемент, преобразовав его в тип int"
   ]
  },
  {
   "cell_type": "code",
   "execution_count": 14,
   "id": "e363009a",
   "metadata": {},
   "outputs": [
    {
     "name": "stderr",
     "output_type": "stream",
     "text": [
      "c:\\users\\алексей третьяков\\appdata\\local\\programs\\python\\python39\\lib\\site-packages\\pandas\\core\\indexing.py:1676: SettingWithCopyWarning: \n",
      "A value is trying to be set on a copy of a slice from a DataFrame.\n",
      "Try using .loc[row_indexer,col_indexer] = value instead\n",
      "\n",
      "See the caveats in the documentation: https://pandas.pydata.org/pandas-docs/stable/user_guide/indexing.html#returning-a-view-versus-a-copy\n",
      "  self._setitem_single_column(ilocs[0], value, pi)\n"
     ]
    }
   ],
   "source": [
    "#применим все функции\n",
    "df_test.loc[:,'engineDisplacement'] = df_test.loc[:,'engineDisplacement'].apply(eDispl)\n",
    "df_test.loc[:,'enginePower'] = df_test.loc[:,'enginePower'].apply(epower)\n",
    "df_test.loc[:,'complectation'] = df_test.loc[:,'complectation'].apply(compl)\n",
    "df_test.loc[:,'owners'] = df_test.loc[:,'owners'].apply(own)"
   ]
  },
  {
   "cell_type": "code",
   "execution_count": 15,
   "id": "baf79dab",
   "metadata": {},
   "outputs": [
    {
     "name": "stdout",
     "output_type": "stream",
     "text": [
      "<class 'pandas.core.frame.DataFrame'>\n",
      "RangeIndex: 34686 entries, 0 to 34685\n",
      "Data columns (total 17 columns):\n",
      " #   Column              Non-Null Count  Dtype  \n",
      "---  ------              --------------  -----  \n",
      " 0   bodytype            34686 non-null  object \n",
      " 1   brand               34686 non-null  object \n",
      " 2   mileage             34686 non-null  int64  \n",
      " 3   color               34686 non-null  object \n",
      " 4   complectation       34686 non-null  int64  \n",
      " 5   tax                 34686 non-null  int64  \n",
      " 6   transmission        34686 non-null  object \n",
      " 7   drive               34686 non-null  object \n",
      " 8   wheel               34686 non-null  object \n",
      " 9   owners              34686 non-null  int64  \n",
      " 10  customs             34686 non-null  object \n",
      " 11  pts                 34686 non-null  object \n",
      " 12  year                34686 non-null  int64  \n",
      " 13  model_name          34686 non-null  object \n",
      " 14  engineDisplacement  34686 non-null  float64\n",
      " 15  enginePower         34686 non-null  int64  \n",
      " 16  fuelType            34686 non-null  object \n",
      "dtypes: float64(1), int64(6), object(10)\n",
      "memory usage: 4.5+ MB\n"
     ]
    },
    {
     "data": {
      "text/html": [
       "<div>\n",
       "<style scoped>\n",
       "    .dataframe tbody tr th:only-of-type {\n",
       "        vertical-align: middle;\n",
       "    }\n",
       "\n",
       "    .dataframe tbody tr th {\n",
       "        vertical-align: top;\n",
       "    }\n",
       "\n",
       "    .dataframe thead th {\n",
       "        text-align: right;\n",
       "    }\n",
       "</style>\n",
       "<table border=\"1\" class=\"dataframe\">\n",
       "  <thead>\n",
       "    <tr style=\"text-align: right;\">\n",
       "      <th></th>\n",
       "      <th>bodytype</th>\n",
       "      <th>brand</th>\n",
       "      <th>mileage</th>\n",
       "      <th>color</th>\n",
       "      <th>complectation</th>\n",
       "      <th>tax</th>\n",
       "      <th>transmission</th>\n",
       "      <th>drive</th>\n",
       "      <th>wheel</th>\n",
       "      <th>owners</th>\n",
       "      <th>customs</th>\n",
       "      <th>pts</th>\n",
       "      <th>year</th>\n",
       "      <th>model_name</th>\n",
       "      <th>engineDisplacement</th>\n",
       "      <th>enginePower</th>\n",
       "      <th>fuelType</th>\n",
       "    </tr>\n",
       "  </thead>\n",
       "  <tbody>\n",
       "    <tr>\n",
       "      <th>7573</th>\n",
       "      <td>седан</td>\n",
       "      <td>BMW</td>\n",
       "      <td>270000</td>\n",
       "      <td>синий</td>\n",
       "      <td>0</td>\n",
       "      <td>0</td>\n",
       "      <td>автоматическая</td>\n",
       "      <td>задний</td>\n",
       "      <td>Левый</td>\n",
       "      <td>3</td>\n",
       "      <td>Растаможен</td>\n",
       "      <td>Оригинал</td>\n",
       "      <td>2004</td>\n",
       "      <td>5ER</td>\n",
       "      <td>2.2</td>\n",
       "      <td>170</td>\n",
       "      <td>бензин</td>\n",
       "    </tr>\n",
       "    <tr>\n",
       "      <th>3520</th>\n",
       "      <td>внедорожник 5 дв.</td>\n",
       "      <td>AUDI</td>\n",
       "      <td>149084</td>\n",
       "      <td>чёрный</td>\n",
       "      <td>0</td>\n",
       "      <td>0</td>\n",
       "      <td>автоматическая</td>\n",
       "      <td>полный</td>\n",
       "      <td>Левый</td>\n",
       "      <td>2</td>\n",
       "      <td>Растаможен</td>\n",
       "      <td>Оригинал</td>\n",
       "      <td>2006</td>\n",
       "      <td>Q7</td>\n",
       "      <td>3.0</td>\n",
       "      <td>233</td>\n",
       "      <td>дизель</td>\n",
       "    </tr>\n",
       "    <tr>\n",
       "      <th>27702</th>\n",
       "      <td>внедорожник 5 дв.</td>\n",
       "      <td>MITSUBISHI</td>\n",
       "      <td>267000</td>\n",
       "      <td>чёрный</td>\n",
       "      <td>0</td>\n",
       "      <td>0</td>\n",
       "      <td>механическая</td>\n",
       "      <td>полный</td>\n",
       "      <td>Левый</td>\n",
       "      <td>3</td>\n",
       "      <td>Растаможен</td>\n",
       "      <td>Оригинал</td>\n",
       "      <td>2003</td>\n",
       "      <td>OUTLANDER</td>\n",
       "      <td>2.0</td>\n",
       "      <td>136</td>\n",
       "      <td>бензин</td>\n",
       "    </tr>\n",
       "    <tr>\n",
       "      <th>12922</th>\n",
       "      <td>внедорожник 5 дв.</td>\n",
       "      <td>NISSAN</td>\n",
       "      <td>50000</td>\n",
       "      <td>белый</td>\n",
       "      <td>0</td>\n",
       "      <td>0</td>\n",
       "      <td>вариатор</td>\n",
       "      <td>передний</td>\n",
       "      <td>Левый</td>\n",
       "      <td>1</td>\n",
       "      <td>Растаможен</td>\n",
       "      <td>Оригинал</td>\n",
       "      <td>2018</td>\n",
       "      <td>JUKE</td>\n",
       "      <td>1.6</td>\n",
       "      <td>117</td>\n",
       "      <td>бензин</td>\n",
       "    </tr>\n",
       "    <tr>\n",
       "      <th>24268</th>\n",
       "      <td>седан</td>\n",
       "      <td>VOLKSWAGEN</td>\n",
       "      <td>152000</td>\n",
       "      <td>серый</td>\n",
       "      <td>0</td>\n",
       "      <td>0</td>\n",
       "      <td>роботизированная</td>\n",
       "      <td>передний</td>\n",
       "      <td>Левый</td>\n",
       "      <td>1</td>\n",
       "      <td>Растаможен</td>\n",
       "      <td>Оригинал</td>\n",
       "      <td>2011</td>\n",
       "      <td>JETTA</td>\n",
       "      <td>1.4</td>\n",
       "      <td>122</td>\n",
       "      <td>бензин</td>\n",
       "    </tr>\n",
       "  </tbody>\n",
       "</table>\n",
       "</div>"
      ],
      "text/plain": [
       "                bodytype       brand  mileage   color  complectation  tax  \\\n",
       "7573               седан         BMW   270000   синий              0    0   \n",
       "3520   внедорожник 5 дв.        AUDI   149084  чёрный              0    0   \n",
       "27702  внедорожник 5 дв.  MITSUBISHI   267000  чёрный              0    0   \n",
       "12922  внедорожник 5 дв.      NISSAN    50000   белый              0    0   \n",
       "24268              седан  VOLKSWAGEN   152000   серый              0    0   \n",
       "\n",
       "           transmission     drive  wheel  owners     customs       pts  year  \\\n",
       "7573     автоматическая    задний  Левый       3  Растаможен  Оригинал  2004   \n",
       "3520     автоматическая    полный  Левый       2  Растаможен  Оригинал  2006   \n",
       "27702      механическая    полный  Левый       3  Растаможен  Оригинал  2003   \n",
       "12922          вариатор  передний  Левый       1  Растаможен  Оригинал  2018   \n",
       "24268  роботизированная  передний  Левый       1  Растаможен  Оригинал  2011   \n",
       "\n",
       "      model_name  engineDisplacement  enginePower fuelType  \n",
       "7573         5ER                 2.2          170   бензин  \n",
       "3520          Q7                 3.0          233   дизель  \n",
       "27702  OUTLANDER                 2.0          136   бензин  \n",
       "12922       JUKE                 1.6          117   бензин  \n",
       "24268      JETTA                 1.4          122   бензин  "
      ]
     },
     "execution_count": 15,
     "metadata": {},
     "output_type": "execute_result"
    }
   ],
   "source": [
    "df_test.info()\n",
    "df_test.sample(5)#получили идентичные структуре train сета данные"
   ]
  },
  {
   "cell_type": "markdown",
   "id": "33944535",
   "metadata": {},
   "source": [
    "[Вверх к содержанию](#Содержание)"
   ]
  },
  {
   "cell_type": "markdown",
   "id": "048e3c74",
   "metadata": {},
   "source": [
    "# **3. Feature engineering**"
   ]
  },
  {
   "cell_type": "code",
   "execution_count": 16,
   "id": "c565396e",
   "metadata": {},
   "outputs": [],
   "source": [
    "y = train_test['new_price'] #выделим таргет (с корректированной ценой)\n",
    "df_train = train_test.drop(['price','new_price'], axis=1) #выделим тренировочный сет"
   ]
  },
  {
   "cell_type": "code",
   "execution_count": 17,
   "id": "94da915d",
   "metadata": {},
   "outputs": [
    {
     "name": "stdout",
     "output_type": "stream",
     "text": [
      "<class 'pandas.core.frame.DataFrame'>\n",
      "RangeIndex: 112894 entries, 0 to 112893\n",
      "Data columns (total 18 columns):\n",
      " #   Column              Non-Null Count   Dtype  \n",
      "---  ------              --------------   -----  \n",
      " 0   bodytype            112894 non-null  object \n",
      " 1   brand               112894 non-null  object \n",
      " 2   mileage             112894 non-null  int64  \n",
      " 3   color               112894 non-null  object \n",
      " 4   complectation       112894 non-null  int64  \n",
      " 5   tax                 112894 non-null  int64  \n",
      " 6   transmission        112894 non-null  object \n",
      " 7   drive               112894 non-null  object \n",
      " 8   wheel               112894 non-null  object \n",
      " 9   owners              112894 non-null  int64  \n",
      " 10  customs             112893 non-null  object \n",
      " 11  pts                 112894 non-null  object \n",
      " 12  year                112894 non-null  int64  \n",
      " 13  model_name          112894 non-null  object \n",
      " 14  engineDisplacement  112894 non-null  float64\n",
      " 15  enginePower         112894 non-null  int64  \n",
      " 16  fuelType            112894 non-null  object \n",
      " 17  sample              112894 non-null  int64  \n",
      "dtypes: float64(1), int64(7), object(10)\n",
      "memory usage: 15.5+ MB\n"
     ]
    },
    {
     "name": "stderr",
     "output_type": "stream",
     "text": [
      "C:\\Users\\0707~1\\AppData\\Local\\Temp/ipykernel_3792/776147117.py:3: SettingWithCopyWarning: \n",
      "A value is trying to be set on a copy of a slice from a DataFrame.\n",
      "Try using .loc[row_indexer,col_indexer] = value instead\n",
      "\n",
      "See the caveats in the documentation: https://pandas.pydata.org/pandas-docs/stable/user_guide/indexing.html#returning-a-view-versus-a-copy\n",
      "  df_test['sample'] = 0 # помечаем где у нас тест\n"
     ]
    },
    {
     "data": {
      "text/html": [
       "<div>\n",
       "<style scoped>\n",
       "    .dataframe tbody tr th:only-of-type {\n",
       "        vertical-align: middle;\n",
       "    }\n",
       "\n",
       "    .dataframe tbody tr th {\n",
       "        vertical-align: top;\n",
       "    }\n",
       "\n",
       "    .dataframe thead th {\n",
       "        text-align: right;\n",
       "    }\n",
       "</style>\n",
       "<table border=\"1\" class=\"dataframe\">\n",
       "  <thead>\n",
       "    <tr style=\"text-align: right;\">\n",
       "      <th></th>\n",
       "      <th>bodytype</th>\n",
       "      <th>brand</th>\n",
       "      <th>mileage</th>\n",
       "      <th>color</th>\n",
       "      <th>complectation</th>\n",
       "      <th>tax</th>\n",
       "      <th>transmission</th>\n",
       "      <th>drive</th>\n",
       "      <th>wheel</th>\n",
       "      <th>owners</th>\n",
       "      <th>customs</th>\n",
       "      <th>pts</th>\n",
       "      <th>year</th>\n",
       "      <th>model_name</th>\n",
       "      <th>engineDisplacement</th>\n",
       "      <th>enginePower</th>\n",
       "      <th>fuelType</th>\n",
       "      <th>sample</th>\n",
       "    </tr>\n",
       "  </thead>\n",
       "  <tbody>\n",
       "    <tr>\n",
       "      <th>91666</th>\n",
       "      <td>седан</td>\n",
       "      <td>MITSUBISHI</td>\n",
       "      <td>195000</td>\n",
       "      <td>серебристый</td>\n",
       "      <td>0</td>\n",
       "      <td>1470</td>\n",
       "      <td>механическая</td>\n",
       "      <td>передний</td>\n",
       "      <td>Левый</td>\n",
       "      <td>1</td>\n",
       "      <td>Растаможен</td>\n",
       "      <td>Оригинал</td>\n",
       "      <td>2007</td>\n",
       "      <td>LANCER</td>\n",
       "      <td>1.6</td>\n",
       "      <td>98</td>\n",
       "      <td>Бензин</td>\n",
       "      <td>1</td>\n",
       "    </tr>\n",
       "    <tr>\n",
       "      <th>43248</th>\n",
       "      <td>компактвэн</td>\n",
       "      <td>HONDA</td>\n",
       "      <td>160000</td>\n",
       "      <td>серебристый</td>\n",
       "      <td>0</td>\n",
       "      <td>4550</td>\n",
       "      <td>автоматическая</td>\n",
       "      <td>передний</td>\n",
       "      <td>Правый</td>\n",
       "      <td>1</td>\n",
       "      <td>Растаможен</td>\n",
       "      <td>Оригинал</td>\n",
       "      <td>2004</td>\n",
       "      <td>STREAM</td>\n",
       "      <td>1.7</td>\n",
       "      <td>130</td>\n",
       "      <td>Бензин</td>\n",
       "      <td>1</td>\n",
       "    </tr>\n",
       "    <tr>\n",
       "      <th>64072</th>\n",
       "      <td>универсал 5 дв.</td>\n",
       "      <td>TOYOTA</td>\n",
       "      <td>76574</td>\n",
       "      <td>белый</td>\n",
       "      <td>0</td>\n",
       "      <td>1030</td>\n",
       "      <td>вариатор</td>\n",
       "      <td>полный</td>\n",
       "      <td>Правый</td>\n",
       "      <td>1</td>\n",
       "      <td>Растаможен</td>\n",
       "      <td>Оригинал</td>\n",
       "      <td>2017</td>\n",
       "      <td>COROLLA</td>\n",
       "      <td>1.5</td>\n",
       "      <td>103</td>\n",
       "      <td>Бензин</td>\n",
       "      <td>1</td>\n",
       "    </tr>\n",
       "    <tr>\n",
       "      <th>96131</th>\n",
       "      <td>внедорожник 5 дв.</td>\n",
       "      <td>MERCEDES</td>\n",
       "      <td>104000</td>\n",
       "      <td>серый</td>\n",
       "      <td>0</td>\n",
       "      <td>46560</td>\n",
       "      <td>автоматическая</td>\n",
       "      <td>полный</td>\n",
       "      <td>Левый</td>\n",
       "      <td>2</td>\n",
       "      <td>Растаможен</td>\n",
       "      <td>Оригинал</td>\n",
       "      <td>2013</td>\n",
       "      <td>G-КЛАСС</td>\n",
       "      <td>5.5</td>\n",
       "      <td>388</td>\n",
       "      <td>Бензин</td>\n",
       "      <td>1</td>\n",
       "    </tr>\n",
       "    <tr>\n",
       "      <th>18236</th>\n",
       "      <td>седан</td>\n",
       "      <td>MERCEDES</td>\n",
       "      <td>142000</td>\n",
       "      <td>чёрный</td>\n",
       "      <td>28</td>\n",
       "      <td>0</td>\n",
       "      <td>автоматическая</td>\n",
       "      <td>задний</td>\n",
       "      <td>Левый</td>\n",
       "      <td>3</td>\n",
       "      <td>Растаможен</td>\n",
       "      <td>Дубликат</td>\n",
       "      <td>2010</td>\n",
       "      <td>C_KLASSE</td>\n",
       "      <td>1.8</td>\n",
       "      <td>184</td>\n",
       "      <td>бензин</td>\n",
       "      <td>0</td>\n",
       "    </tr>\n",
       "  </tbody>\n",
       "</table>\n",
       "</div>"
      ],
      "text/plain": [
       "                bodytype       brand  mileage        color  complectation  \\\n",
       "91666              седан  MITSUBISHI   195000  серебристый              0   \n",
       "43248         компактвэн       HONDA   160000  серебристый              0   \n",
       "64072    универсал 5 дв.      TOYOTA    76574        белый              0   \n",
       "96131  внедорожник 5 дв.    MERCEDES   104000        серый              0   \n",
       "18236              седан    MERCEDES   142000       чёрный             28   \n",
       "\n",
       "         tax    transmission     drive   wheel  owners     customs       pts  \\\n",
       "91666   1470    механическая  передний   Левый       1  Растаможен  Оригинал   \n",
       "43248   4550  автоматическая  передний  Правый       1  Растаможен  Оригинал   \n",
       "64072   1030        вариатор    полный  Правый       1  Растаможен  Оригинал   \n",
       "96131  46560  автоматическая    полный   Левый       2  Растаможен  Оригинал   \n",
       "18236      0  автоматическая    задний   Левый       3  Растаможен  Дубликат   \n",
       "\n",
       "       year model_name  engineDisplacement  enginePower fuelType  sample  \n",
       "91666  2007     LANCER                 1.6           98   Бензин       1  \n",
       "43248  2004     STREAM                 1.7          130   Бензин       1  \n",
       "64072  2017    COROLLA                 1.5          103   Бензин       1  \n",
       "96131  2013    G-КЛАСС                 5.5          388   Бензин       1  \n",
       "18236  2010   C_KLASSE                 1.8          184   бензин       0  "
      ]
     },
     "execution_count": 17,
     "metadata": {},
     "output_type": "execute_result"
    }
   ],
   "source": [
    "# для корректной обработки признаков объединяем трейн и тест в один датасет\n",
    "df_train['sample'] = 1 # помечаем где у нас трейн\n",
    "df_test['sample'] = 0 # помечаем где у нас тест\n",
    "\n",
    "data = df_test.append(df_train, sort=False).reset_index(drop=True) # объединяем тестовый и тренировочный сеты\n",
    "data.info()\n",
    "data.sample(5)"
   ]
  },
  {
   "cell_type": "code",
   "execution_count": 18,
   "id": "096394f1",
   "metadata": {},
   "outputs": [
    {
     "data": {
      "image/png": "[encoded data removed]",
      "text/plain": [
       "<Figure size 1440x360 with 1 Axes>"
      ]
     },
     "metadata": {
      "needs_background": "light"
     },
     "output_type": "display_data"
    },
    {
     "data": {
      "image/png": "[encoded data removed]",
      "text/plain": [
       "<Figure size 1440x360 with 1 Axes>"
      ]
     },
     "metadata": {
      "needs_background": "light"
     },
     "output_type": "display_data"
    },
    {
     "data": {
      "image/png": "[encoded data removed]",
      "text/plain": [
       "<Figure size 1440x360 with 1 Axes>"
      ]
     },
     "metadata": {
      "needs_background": "light"
     },
     "output_type": "display_data"
    },
    {
     "data": {
      "image/png": "[encoded data removed]",
      "text/plain": [
       "<Figure size 1440x360 with 1 Axes>"
      ]
     },
     "metadata": {
      "needs_background": "light"
     },
     "output_type": "display_data"
    },
    {
     "data": {
      "image/png": "[encoded data removed]",
      "text/plain": [
       "<Figure size 1440x360 with 1 Axes>"
      ]
     },
     "metadata": {
      "needs_background": "light"
     },
     "output_type": "display_data"
    },
    {
     "data": {
      "image/png": "[encoded data removed]",
      "text/plain": [
       "<Figure size 1440x360 with 1 Axes>"
      ]
     },
     "metadata": {
      "needs_background": "light"
     },
     "output_type": "display_data"
    },
    {
     "data": {
      "image/png": "[encoded data removed]",
      "text/plain": [
       "<Figure size 1440x360 with 1 Axes>"
      ]
     },
     "metadata": {
      "needs_background": "light"
     },
     "output_type": "display_data"
    },
    {
     "data": {
      "image/png": "[encoded data removed]",
      "text/plain": [
       "<Figure size 1440x360 with 1 Axes>"
      ]
     },
     "metadata": {
      "needs_background": "light"
     },
     "output_type": "display_data"
    },
    {
     "data": {
      "image/png": "[encoded data removed]",
      "text/plain": [
       "<Figure size 1440x360 with 1 Axes>"
      ]
     },
     "metadata": {
      "needs_background": "light"
     },
     "output_type": "display_data"
    },
    {
     "data": {
      "image/png": "[encoded data removed]",
      "text/plain": [
       "<Figure size 1440x360 with 1 Axes>"
      ]
     },
     "metadata": {
      "needs_background": "light"
     },
     "output_type": "display_data"
    },
    {
     "data": {
      "image/png": "[encoded data removed]",
      "text/plain": [
       "<Figure size 1440x360 with 1 Axes>"
      ]
     },
     "metadata": {
      "needs_background": "light"
     },
     "output_type": "display_data"
    },
    {
     "data": {
      "image/png": "[encoded data removed]",
      "text/plain": [
       "<Figure size 1440x360 with 1 Axes>"
      ]
     },
     "metadata": {
      "needs_background": "light"
     },
     "output_type": "display_data"
    }
   ],
   "source": [
    "#посмотрим на структурное покрытие тестовых данных собранными данными в разрезе годов и брендов\n",
    "#данные более менее похожи по структуре в тестовом сете\n",
    "cols = data.brand.unique()\n",
    "\n",
    "for col in cols:\n",
    "    plt.figure(figsize=(20, 5))\n",
    "    plt.title(col)\n",
    "    df_train[df_train.brand == col].year.hist(bins=50), df_test[df_test.brand == col].year.hist(bins=50)"
   ]
  },
  {
   "cell_type": "code",
   "execution_count": 19,
   "id": "d2f95e6d",
   "metadata": {},
   "outputs": [],
   "source": [
    "data.drop('customs', axis=1, inplace=True) #удалим неинформативный признак"
   ]
  },
  {
   "cell_type": "code",
   "execution_count": 20,
   "id": "5fd8aa78",
   "metadata": {},
   "outputs": [
    {
     "data": {
      "text/html": [
       "<div>\n",
       "<style scoped>\n",
       "    .dataframe tbody tr th:only-of-type {\n",
       "        vertical-align: middle;\n",
       "    }\n",
       "\n",
       "    .dataframe tbody tr th {\n",
       "        vertical-align: top;\n",
       "    }\n",
       "\n",
       "    .dataframe thead th {\n",
       "        text-align: right;\n",
       "    }\n",
       "</style>\n",
       "<table border=\"1\" class=\"dataframe\">\n",
       "  <thead>\n",
       "    <tr style=\"text-align: right;\">\n",
       "      <th></th>\n",
       "      <th>bodytype</th>\n",
       "      <th>brand</th>\n",
       "      <th>mileage</th>\n",
       "      <th>color</th>\n",
       "      <th>complectation</th>\n",
       "      <th>tax</th>\n",
       "      <th>transmission</th>\n",
       "      <th>drive</th>\n",
       "      <th>wheel</th>\n",
       "      <th>owners</th>\n",
       "      <th>pts</th>\n",
       "      <th>year</th>\n",
       "      <th>model_name</th>\n",
       "      <th>engineDisplacement</th>\n",
       "      <th>enginePower</th>\n",
       "      <th>fuelType</th>\n",
       "      <th>sample</th>\n",
       "    </tr>\n",
       "  </thead>\n",
       "  <tbody>\n",
       "    <tr>\n",
       "      <th>111404</th>\n",
       "      <td>седан</td>\n",
       "      <td>AUDI</td>\n",
       "      <td>143172</td>\n",
       "      <td>серый</td>\n",
       "      <td>5</td>\n",
       "      <td>13715.000000</td>\n",
       "      <td>роботизированная</td>\n",
       "      <td>полный</td>\n",
       "      <td>Левый</td>\n",
       "      <td>1</td>\n",
       "      <td>Оригинал</td>\n",
       "      <td>2012</td>\n",
       "      <td>A4</td>\n",
       "      <td>2.0</td>\n",
       "      <td>211</td>\n",
       "      <td>Бензин</td>\n",
       "      <td>1</td>\n",
       "    </tr>\n",
       "    <tr>\n",
       "      <th>29686</th>\n",
       "      <td>седан</td>\n",
       "      <td>BMW</td>\n",
       "      <td>364417</td>\n",
       "      <td>серебристый</td>\n",
       "      <td>0</td>\n",
       "      <td>9033.167930</td>\n",
       "      <td>автоматическая</td>\n",
       "      <td>задний</td>\n",
       "      <td>Левый</td>\n",
       "      <td>3</td>\n",
       "      <td>Оригинал</td>\n",
       "      <td>1998</td>\n",
       "      <td>5ER</td>\n",
       "      <td>2.5</td>\n",
       "      <td>170</td>\n",
       "      <td>бензин</td>\n",
       "      <td>0</td>\n",
       "    </tr>\n",
       "    <tr>\n",
       "      <th>91410</th>\n",
       "      <td>хэтчбек 5 дв.</td>\n",
       "      <td>SKODA</td>\n",
       "      <td>76000</td>\n",
       "      <td>красный</td>\n",
       "      <td>0</td>\n",
       "      <td>1211.000000</td>\n",
       "      <td>механическая</td>\n",
       "      <td>передний</td>\n",
       "      <td>Левый</td>\n",
       "      <td>1</td>\n",
       "      <td>Оригинал</td>\n",
       "      <td>2013</td>\n",
       "      <td>FABIA</td>\n",
       "      <td>1.2</td>\n",
       "      <td>70</td>\n",
       "      <td>Бензин</td>\n",
       "      <td>1</td>\n",
       "    </tr>\n",
       "    <tr>\n",
       "      <th>50225</th>\n",
       "      <td>седан</td>\n",
       "      <td>MERCEDES</td>\n",
       "      <td>300000</td>\n",
       "      <td>серебристый</td>\n",
       "      <td>0</td>\n",
       "      <td>13440.000000</td>\n",
       "      <td>автоматическая</td>\n",
       "      <td>задний</td>\n",
       "      <td>Левый</td>\n",
       "      <td>1</td>\n",
       "      <td>Оригинал</td>\n",
       "      <td>2000</td>\n",
       "      <td>S_KLASSE</td>\n",
       "      <td>3.2</td>\n",
       "      <td>224</td>\n",
       "      <td>Бензин</td>\n",
       "      <td>1</td>\n",
       "    </tr>\n",
       "    <tr>\n",
       "      <th>104327</th>\n",
       "      <td>седан</td>\n",
       "      <td>LEXUS</td>\n",
       "      <td>51739</td>\n",
       "      <td>серый</td>\n",
       "      <td>0</td>\n",
       "      <td>10000.000000</td>\n",
       "      <td>автоматическая</td>\n",
       "      <td>передний</td>\n",
       "      <td>Левый</td>\n",
       "      <td>1</td>\n",
       "      <td>Оригинал</td>\n",
       "      <td>2018</td>\n",
       "      <td>ES</td>\n",
       "      <td>2.5</td>\n",
       "      <td>200</td>\n",
       "      <td>Бензин</td>\n",
       "      <td>1</td>\n",
       "    </tr>\n",
       "    <tr>\n",
       "      <th>37959</th>\n",
       "      <td>седан</td>\n",
       "      <td>BMW</td>\n",
       "      <td>16672</td>\n",
       "      <td>синий</td>\n",
       "      <td>20</td>\n",
       "      <td>9200.000000</td>\n",
       "      <td>автоматическая</td>\n",
       "      <td>полный</td>\n",
       "      <td>Левый</td>\n",
       "      <td>1</td>\n",
       "      <td>Оригинал</td>\n",
       "      <td>2020</td>\n",
       "      <td>3ER</td>\n",
       "      <td>2.0</td>\n",
       "      <td>184</td>\n",
       "      <td>Бензин</td>\n",
       "      <td>1</td>\n",
       "    </tr>\n",
       "    <tr>\n",
       "      <th>11544</th>\n",
       "      <td>внедорожник 5 дв.</td>\n",
       "      <td>NISSAN</td>\n",
       "      <td>131667</td>\n",
       "      <td>серебристый</td>\n",
       "      <td>0</td>\n",
       "      <td>3275.243059</td>\n",
       "      <td>вариатор</td>\n",
       "      <td>передний</td>\n",
       "      <td>Левый</td>\n",
       "      <td>2</td>\n",
       "      <td>Оригинал</td>\n",
       "      <td>2013</td>\n",
       "      <td>QASHQAI</td>\n",
       "      <td>1.6</td>\n",
       "      <td>117</td>\n",
       "      <td>бензин</td>\n",
       "      <td>0</td>\n",
       "    </tr>\n",
       "    <tr>\n",
       "      <th>90084</th>\n",
       "      <td>седан</td>\n",
       "      <td>TOYOTA</td>\n",
       "      <td>270000</td>\n",
       "      <td>белый</td>\n",
       "      <td>0</td>\n",
       "      <td>7600.000000</td>\n",
       "      <td>автоматическая</td>\n",
       "      <td>передний</td>\n",
       "      <td>Левый</td>\n",
       "      <td>1</td>\n",
       "      <td>Оригинал</td>\n",
       "      <td>2004</td>\n",
       "      <td>CAMRY</td>\n",
       "      <td>2.4</td>\n",
       "      <td>152</td>\n",
       "      <td>Бензин</td>\n",
       "      <td>1</td>\n",
       "    </tr>\n",
       "    <tr>\n",
       "      <th>3568</th>\n",
       "      <td>седан</td>\n",
       "      <td>AUDI</td>\n",
       "      <td>65000</td>\n",
       "      <td>чёрный</td>\n",
       "      <td>0</td>\n",
       "      <td>8827.957325</td>\n",
       "      <td>роботизированная</td>\n",
       "      <td>передний</td>\n",
       "      <td>Левый</td>\n",
       "      <td>1</td>\n",
       "      <td>Оригинал</td>\n",
       "      <td>2016</td>\n",
       "      <td>A6</td>\n",
       "      <td>2.0</td>\n",
       "      <td>190</td>\n",
       "      <td>дизель</td>\n",
       "      <td>0</td>\n",
       "    </tr>\n",
       "    <tr>\n",
       "      <th>61189</th>\n",
       "      <td>лифтбек</td>\n",
       "      <td>SKODA</td>\n",
       "      <td>66000</td>\n",
       "      <td>белый</td>\n",
       "      <td>0</td>\n",
       "      <td>3125.000000</td>\n",
       "      <td>роботизированная</td>\n",
       "      <td>передний</td>\n",
       "      <td>Левый</td>\n",
       "      <td>1</td>\n",
       "      <td>Оригинал</td>\n",
       "      <td>2019</td>\n",
       "      <td>RAPID</td>\n",
       "      <td>1.4</td>\n",
       "      <td>125</td>\n",
       "      <td>Бензин</td>\n",
       "      <td>1</td>\n",
       "    </tr>\n",
       "  </tbody>\n",
       "</table>\n",
       "</div>"
      ],
      "text/plain": [
       "                 bodytype     brand  mileage        color  complectation  \\\n",
       "111404              седан      AUDI   143172        серый              5   \n",
       "29686               седан       BMW   364417  серебристый              0   \n",
       "91410       хэтчбек 5 дв.     SKODA    76000      красный              0   \n",
       "50225               седан  MERCEDES   300000  серебристый              0   \n",
       "104327              седан     LEXUS    51739        серый              0   \n",
       "37959               седан       BMW    16672        синий             20   \n",
       "11544   внедорожник 5 дв.    NISSAN   131667  серебристый              0   \n",
       "90084               седан    TOYOTA   270000        белый              0   \n",
       "3568                седан      AUDI    65000       чёрный              0   \n",
       "61189             лифтбек     SKODA    66000        белый              0   \n",
       "\n",
       "                 tax      transmission     drive  wheel  owners       pts  \\\n",
       "111404  13715.000000  роботизированная    полный  Левый       1  Оригинал   \n",
       "29686    9033.167930    автоматическая    задний  Левый       3  Оригинал   \n",
       "91410    1211.000000      механическая  передний  Левый       1  Оригинал   \n",
       "50225   13440.000000    автоматическая    задний  Левый       1  Оригинал   \n",
       "104327  10000.000000    автоматическая  передний  Левый       1  Оригинал   \n",
       "37959    9200.000000    автоматическая    полный  Левый       1  Оригинал   \n",
       "11544    3275.243059          вариатор  передний  Левый       2  Оригинал   \n",
       "90084    7600.000000    автоматическая  передний  Левый       1  Оригинал   \n",
       "3568     8827.957325  роботизированная  передний  Левый       1  Оригинал   \n",
       "61189    3125.000000  роботизированная  передний  Левый       1  Оригинал   \n",
       "\n",
       "        year model_name  engineDisplacement  enginePower fuelType  sample  \n",
       "111404  2012         A4                 2.0          211   Бензин       1  \n",
       "29686   1998        5ER                 2.5          170   бензин       0  \n",
       "91410   2013      FABIA                 1.2           70   Бензин       1  \n",
       "50225   2000   S_KLASSE                 3.2          224   Бензин       1  \n",
       "104327  2018         ES                 2.5          200   Бензин       1  \n",
       "37959   2020        3ER                 2.0          184   Бензин       1  \n",
       "11544   2013    QASHQAI                 1.6          117   бензин       0  \n",
       "90084   2004      CAMRY                 2.4          152   Бензин       1  \n",
       "3568    2016         A6                 2.0          190   дизель       0  \n",
       "61189   2019      RAPID                 1.4          125   Бензин       1  "
      ]
     },
     "execution_count": 20,
     "metadata": {},
     "output_type": "execute_result"
    }
   ],
   "source": [
    "#в тестовом сете не было колонки tax, мы ее создали и заполнили предварительно нулями\n",
    "#заполним теперь ее значениями, спрогнозированными с помощью алгоритма KNeighbors\n",
    "#для прогнозирования tax возьмем следующие признаки:['mileage', 'year', 'engineDisplacement', 'enginePower']\n",
    "\n",
    "data_tax = data[data['tax'] !=0][['mileage', 'year', 'engineDisplacement', 'enginePower']]#тренировочный сет\n",
    "\n",
    "y_tax = data[data['tax'] !=0]['tax']#таргет для тренировки\n",
    "\n",
    "data_test_tax = data[data['tax'] ==0][['mileage', 'year', 'engineDisplacement', 'enginePower']]#сет для прогнозирования налога\n",
    "\n",
    "clusterer = KNeighborsRegressor(n_neighbors = 7, weights='distance')\n",
    "clusterer.fit(data_tax,y_tax) #создаем экземпляр модели с 11-ю соседями\n",
    "\n",
    "y_tax_pred = clusterer.predict(data_test_tax)# делаем предсказание налога\n",
    "y_tax_pred_df = pd.DataFrame(data=y_tax_pred, columns=['tax_new']) #создаем даатфрейм с колонкой прогнозных значений\n",
    "\n",
    "data.loc[(data['tax'] ==0), 'tax'] = y_tax_pred_df['tax_new'].values #меняем нули в колонке tax на прогнозные значения\n",
    "data.sample(10)"
   ]
  },
  {
   "cell_type": "code",
   "execution_count": 21,
   "id": "0ed39e41",
   "metadata": {},
   "outputs": [
    {
     "data": {
      "text/plain": [
       "Text(0.5, 1.0, 'year')"
      ]
     },
     "execution_count": 21,
     "metadata": {},
     "output_type": "execute_result"
    },
    {
     "data": {
      "image/png": "[encoded data removed]",
      "text/plain": [
       "<Figure size 1440x360 with 5 Axes>"
      ]
     },
     "metadata": {
      "needs_background": "light"
     },
     "output_type": "display_data"
    }
   ],
   "source": [
    "# посмотрим на распределение признаков и наличие выбросов\n",
    "plt.figure(figsize=(20, 5))\n",
    "\n",
    "plt.subplot(1, 5, 1)\n",
    "data.mileage.hist(bins=50)\n",
    "plt.title('mileage')\n",
    "\n",
    "plt.subplot(1, 5, 2)\n",
    "data.tax.hist(bins=50)\n",
    "plt.title('tax')\n",
    "\n",
    "plt.subplot(1, 5, 3)\n",
    "data.enginePower.hist(bins=50)\n",
    "plt.title('enginePower')\n",
    "\n",
    "plt.subplot(1, 5, 4)\n",
    "data.engineDisplacement.hist(bins=50)\n",
    "plt.title('engineDisplacement')\n",
    "\n",
    "plt.subplot(1, 5, 5)\n",
    "data.year.hist(bins=50)\n",
    "plt.title('year')"
   ]
  },
  {
   "cell_type": "code",
   "execution_count": 22,
   "id": "feecdc2d",
   "metadata": {},
   "outputs": [],
   "source": [
    "#Разобьем признаки на группы:\n",
    "nums = ['mileage', 'year', 'engineDisplacement', 'enginePower', 'tax'] #численные\n",
    "ords = ['complectation', 'owners', 'brand', 'transmission', 'fuelType']#ориднальные\n",
    "cats = ['bodytype', 'color', 'drive', 'wheel', 'pts']#категориальные"
   ]
  },
  {
   "cell_type": "code",
   "execution_count": 23,
   "id": "3eb556a6",
   "metadata": {},
   "outputs": [
    {
     "data": {
      "text/plain": [
       "<AxesSubplot:>"
      ]
     },
     "execution_count": 23,
     "metadata": {},
     "output_type": "execute_result"
    },
    {
     "data": {
      "image/png": "[encoded data removed]",
      "text/plain": [
       "<Figure size 720x360 with 2 Axes>"
      ]
     },
     "metadata": {
      "needs_background": "light"
     },
     "output_type": "display_data"
    }
   ],
   "source": [
    "plt.figure(figsize=(10, 5))\n",
    "sns.heatmap(data=data[nums].corr(), annot=True)\n",
    "#посмотрим на корреляцию численных признаков"
   ]
  },
  {
   "cell_type": "code",
   "execution_count": 24,
   "id": "b76d01f1",
   "metadata": {},
   "outputs": [
    {
     "data": {
      "text/plain": [
       "Text(0.5, 1.0, 'engine_new')"
      ]
     },
     "execution_count": 24,
     "metadata": {},
     "output_type": "execute_result"
    },
    {
     "data": {
      "image/png": "[encoded data removed]",
      "text/plain": [
       "<Figure size 432x288 with 1 Axes>"
      ]
     },
     "metadata": {
      "needs_background": "light"
     },
     "output_type": "display_data"
    }
   ],
   "source": [
    "#engineDisplacement и enginePower сильно коррелируют\n",
    "#удалять один из них не будем, а сделаем из них новый признак с помощью выделения главной компоненты\n",
    "corr_matrix = data[['engineDisplacement','enginePower']].corr()\n",
    "eigenvalues, eigenvectors = np.linalg.eig(corr_matrix)#найдем собственные векторы и значения матрицы корреляций признаков\n",
    "\n",
    "index = np.argmax(eigenvalues)\n",
    "eigenvectors.T[index]#выберем собственный вектор с максимальным собственным значением\n",
    "\n",
    "a1 = eigenvectors.T[index][0]#первая координата собственного вектора\n",
    "a2 = eigenvectors.T[index][1]#первая координата собственного вектора\n",
    "\n",
    "data['engine_new'] = (a1*data['engineDisplacement']+a2*data['enginePower'])**2 #новый признак сделаем нелинейным к таргету, возведя его в квадрат\n",
    "#так как цена, скорее всего ускоряется при росте мощности авто (премия за люксовость)\n",
    "data.engine_new.hist(bins=50)\n",
    "plt.title('engine_new')"
   ]
  },
  {
   "cell_type": "code",
   "execution_count": 25,
   "id": "21655f19",
   "metadata": {},
   "outputs": [],
   "source": [
    "#остальные численные признаки и complectation сузим до диапазонов, более близких к диапазонам ориднальных признаков\n",
    "data['mileage'] = data[:]['mileage'].apply(lambda x: np.log(x))\n",
    "data['tax'] = data[:]['tax'].apply(lambda x: np.log(x))\n",
    "data['year'] = data[:]['year'].apply(lambda x: np.sqrt(x))\n",
    "data['engineDisplacement'] = data[:]['engineDisplacement'].apply(lambda x: np.sqrt(x))\n",
    "data['enginePower'] = data[:]['enginePower'].apply(lambda x: np.log(x))\n",
    "data['engine_new'] = data[:]['engine_new'].apply(lambda x: np.log(x))\n",
    "data['complectation'] = data[:]['complectation'].apply(lambda x: np.sqrt(x))"
   ]
  },
  {
   "cell_type": "code",
   "execution_count": 26,
   "id": "e5f8862f",
   "metadata": {},
   "outputs": [],
   "source": [
    "#колонку color преобразуем в ординальный признак с порядковой нумерацией\n",
    "#сортированной по средней цене цвета авто\n",
    "cols = list(train_test.groupby('color').price.mean().sort_values(ascending=False).index)\n",
    "\n",
    "def colors_to_numbers(colors):\n",
    "    if colors in cols:\n",
    "        return cols.index(colors)\n",
    "    else:\n",
    "        return len(cols)+1\n",
    "\n",
    "data['color'] = data[:]['color'].apply(colors_to_numbers)"
   ]
  },
  {
   "cell_type": "code",
   "execution_count": 27,
   "id": "2891be9e",
   "metadata": {},
   "outputs": [],
   "source": [
    "#колонку bodytype также преобразуем в ординальный признак с порядковой нумерацией\n",
    "#сортированной по средней цене типа кузова авто\n",
    "bodies = list(train_test.groupby('bodytype').price.mean().sort_values(ascending=False).index)\n",
    "\n",
    "def bodies_to_numbers(bodytype):\n",
    "    if bodytype in bodies:\n",
    "        return bodies.index(bodytype)\n",
    "    else:\n",
    "        return len(bodies)+1\n",
    "\n",
    "data['bodytype'] = data[:]['bodytype'].apply(bodies_to_numbers)"
   ]
  },
  {
   "cell_type": "code",
   "execution_count": 28,
   "id": "70369c7c",
   "metadata": {},
   "outputs": [],
   "source": [
    "#колонку brand также преобразуем в ординальный признак с порядковой нумерацией\n",
    "#сортированной по средней цене брэнда авто\n",
    "brands = list(train_test.groupby('brand').price.mean().sort_values(ascending=False).index)\n",
    "\n",
    "def brands_to_numbers(brand):\n",
    "    if brand in brands:\n",
    "        return brands.index(brand)\n",
    "    else:\n",
    "        return len(brands)+1\n",
    "\n",
    "data['brand'] = data[:]['brand'].apply(brands_to_numbers)"
   ]
  },
  {
   "cell_type": "code",
   "execution_count": 29,
   "id": "8100b2fe",
   "metadata": {},
   "outputs": [
    {
     "data": {
      "text/html": [
       "<div>\n",
       "<style scoped>\n",
       "    .dataframe tbody tr th:only-of-type {\n",
       "        vertical-align: middle;\n",
       "    }\n",
       "\n",
       "    .dataframe tbody tr th {\n",
       "        vertical-align: top;\n",
       "    }\n",
       "\n",
       "    .dataframe thead th {\n",
       "        text-align: right;\n",
       "    }\n",
       "</style>\n",
       "<table border=\"1\" class=\"dataframe\">\n",
       "  <thead>\n",
       "    <tr style=\"text-align: right;\">\n",
       "      <th></th>\n",
       "      <th>bodytype</th>\n",
       "      <th>brand</th>\n",
       "      <th>mileage</th>\n",
       "      <th>color</th>\n",
       "      <th>complectation</th>\n",
       "      <th>tax</th>\n",
       "      <th>transmission</th>\n",
       "      <th>drive</th>\n",
       "      <th>wheel</th>\n",
       "      <th>owners</th>\n",
       "      <th>pts</th>\n",
       "      <th>year</th>\n",
       "      <th>model_name</th>\n",
       "      <th>engineDisplacement</th>\n",
       "      <th>enginePower</th>\n",
       "      <th>fuelType</th>\n",
       "      <th>sample</th>\n",
       "      <th>engine_new</th>\n",
       "    </tr>\n",
       "  </thead>\n",
       "  <tbody>\n",
       "    <tr>\n",
       "      <th>21747</th>\n",
       "      <td>6</td>\n",
       "      <td>4</td>\n",
       "      <td>11.643954</td>\n",
       "      <td>2</td>\n",
       "      <td>0.0</td>\n",
       "      <td>8.473157</td>\n",
       "      <td>1</td>\n",
       "      <td>передний</td>\n",
       "      <td>Правый</td>\n",
       "      <td>2</td>\n",
       "      <td>Оригинал</td>\n",
       "      <td>44.855323</td>\n",
       "      <td>648</td>\n",
       "      <td>1.341641</td>\n",
       "      <td>4.969813</td>\n",
       "      <td>0</td>\n",
       "      <td>0</td>\n",
       "      <td>9.271324</td>\n",
       "    </tr>\n",
       "    <tr>\n",
       "      <th>52961</th>\n",
       "      <td>5</td>\n",
       "      <td>1</td>\n",
       "      <td>10.480045</td>\n",
       "      <td>2</td>\n",
       "      <td>0.0</td>\n",
       "      <td>10.818778</td>\n",
       "      <td>0</td>\n",
       "      <td>полный</td>\n",
       "      <td>Левый</td>\n",
       "      <td>1</td>\n",
       "      <td>Оригинал</td>\n",
       "      <td>44.877611</td>\n",
       "      <td>385</td>\n",
       "      <td>1.732051</td>\n",
       "      <td>5.808142</td>\n",
       "      <td>0</td>\n",
       "      <td>1</td>\n",
       "      <td>10.941075</td>\n",
       "    </tr>\n",
       "    <tr>\n",
       "      <th>194</th>\n",
       "      <td>12</td>\n",
       "      <td>8</td>\n",
       "      <td>10.839581</td>\n",
       "      <td>2</td>\n",
       "      <td>0.0</td>\n",
       "      <td>8.933818</td>\n",
       "      <td>3</td>\n",
       "      <td>передний</td>\n",
       "      <td>Левый</td>\n",
       "      <td>1</td>\n",
       "      <td>Оригинал</td>\n",
       "      <td>44.899889</td>\n",
       "      <td>565</td>\n",
       "      <td>1.341641</td>\n",
       "      <td>5.192957</td>\n",
       "      <td>0</td>\n",
       "      <td>0</td>\n",
       "      <td>9.712667</td>\n",
       "    </tr>\n",
       "    <tr>\n",
       "      <th>45228</th>\n",
       "      <td>20</td>\n",
       "      <td>11</td>\n",
       "      <td>11.884489</td>\n",
       "      <td>2</td>\n",
       "      <td>0.0</td>\n",
       "      <td>6.926577</td>\n",
       "      <td>1</td>\n",
       "      <td>передний</td>\n",
       "      <td>Правый</td>\n",
       "      <td>1</td>\n",
       "      <td>Оригинал</td>\n",
       "      <td>44.833024</td>\n",
       "      <td>171</td>\n",
       "      <td>1.224745</td>\n",
       "      <td>4.718499</td>\n",
       "      <td>4</td>\n",
       "      <td>1</td>\n",
       "      <td>8.770458</td>\n",
       "    </tr>\n",
       "    <tr>\n",
       "      <th>4836</th>\n",
       "      <td>14</td>\n",
       "      <td>5</td>\n",
       "      <td>12.931203</td>\n",
       "      <td>4</td>\n",
       "      <td>0.0</td>\n",
       "      <td>8.781136</td>\n",
       "      <td>0</td>\n",
       "      <td>полный</td>\n",
       "      <td>Левый</td>\n",
       "      <td>3</td>\n",
       "      <td>Дубликат</td>\n",
       "      <td>44.743715</td>\n",
       "      <td>68</td>\n",
       "      <td>1.643168</td>\n",
       "      <td>5.521461</td>\n",
       "      <td>0</td>\n",
       "      <td>0</td>\n",
       "      <td>10.371259</td>\n",
       "    </tr>\n",
       "  </tbody>\n",
       "</table>\n",
       "</div>"
      ],
      "text/plain": [
       "       bodytype  brand    mileage  color  complectation        tax  \\\n",
       "21747         6      4  11.643954      2            0.0   8.473157   \n",
       "52961         5      1  10.480045      2            0.0  10.818778   \n",
       "194          12      8  10.839581      2            0.0   8.933818   \n",
       "45228        20     11  11.884489      2            0.0   6.926577   \n",
       "4836         14      5  12.931203      4            0.0   8.781136   \n",
       "\n",
       "       transmission     drive   wheel  owners       pts       year  \\\n",
       "21747             1  передний  Правый       2  Оригинал  44.855323   \n",
       "52961             0    полный   Левый       1  Оригинал  44.877611   \n",
       "194               3  передний   Левый       1  Оригинал  44.899889   \n",
       "45228             1  передний  Правый       1  Оригинал  44.833024   \n",
       "4836              0    полный   Левый       3  Дубликат  44.743715   \n",
       "\n",
       "       model_name  engineDisplacement  enginePower  fuelType  sample  \\\n",
       "21747         648            1.341641     4.969813         0       0   \n",
       "52961         385            1.732051     5.808142         0       1   \n",
       "194           565            1.341641     5.192957         0       0   \n",
       "45228         171            1.224745     4.718499         4       1   \n",
       "4836           68            1.643168     5.521461         0       0   \n",
       "\n",
       "       engine_new  \n",
       "21747    9.271324  \n",
       "52961   10.941075  \n",
       "194      9.712667  \n",
       "45228    8.770458  \n",
       "4836    10.371259  "
      ]
     },
     "execution_count": 29,
     "metadata": {},
     "output_type": "execute_result"
    }
   ],
   "source": [
    "#для остальных ориднальгых признаков применим LabelEncoder\n",
    "labelencoder = LabelEncoder()\n",
    "\n",
    "data['transmission'] = labelencoder.fit_transform(data['transmission'])\n",
    "data['fuelType'] = data.loc[:]['fuelType'].apply(lambda x: x.lower().strip())\n",
    "data['fuelType'] = labelencoder.fit_transform(data['fuelType'])\n",
    "data['model_name'] = labelencoder.fit_transform(data['model_name'])\n",
    "\n",
    "data.sample(5)"
   ]
  },
  {
   "cell_type": "code",
   "execution_count": 30,
   "id": "b6fd3305",
   "metadata": {},
   "outputs": [],
   "source": [
    "#из трех признаков сделаем бинарные признаки\n",
    "data = pd.get_dummies(data, columns = ['drive', 'wheel', 'pts'])"
   ]
  },
  {
   "cell_type": "code",
   "execution_count": 31,
   "id": "a10703f8",
   "metadata": {},
   "outputs": [
    {
     "data": {
      "text/html": [
       "<div>\n",
       "<style scoped>\n",
       "    .dataframe tbody tr th:only-of-type {\n",
       "        vertical-align: middle;\n",
       "    }\n",
       "\n",
       "    .dataframe tbody tr th {\n",
       "        vertical-align: top;\n",
       "    }\n",
       "\n",
       "    .dataframe thead th {\n",
       "        text-align: right;\n",
       "    }\n",
       "</style>\n",
       "<table border=\"1\" class=\"dataframe\">\n",
       "  <thead>\n",
       "    <tr style=\"text-align: right;\">\n",
       "      <th></th>\n",
       "      <th>bodytype</th>\n",
       "      <th>brand</th>\n",
       "      <th>mileage</th>\n",
       "      <th>color</th>\n",
       "      <th>complectation</th>\n",
       "      <th>tax</th>\n",
       "      <th>transmission</th>\n",
       "      <th>owners</th>\n",
       "      <th>year</th>\n",
       "      <th>model_name</th>\n",
       "      <th>engineDisplacement</th>\n",
       "      <th>enginePower</th>\n",
       "      <th>fuelType</th>\n",
       "      <th>sample</th>\n",
       "      <th>engine_new</th>\n",
       "      <th>drive_задний</th>\n",
       "      <th>drive_передний</th>\n",
       "      <th>drive_полный</th>\n",
       "      <th>wheel_Левый</th>\n",
       "      <th>wheel_Правый</th>\n",
       "      <th>pts_Дубликат</th>\n",
       "      <th>pts_Оригинал</th>\n",
       "      <th>pts_ПТСДубликат</th>\n",
       "      <th>pts_ПТСОригинал</th>\n",
       "      <th>mileage_year</th>\n",
       "      <th>eDispl_tax</th>\n",
       "    </tr>\n",
       "  </thead>\n",
       "  <tbody>\n",
       "    <tr>\n",
       "      <th>9233</th>\n",
       "      <td>5</td>\n",
       "      <td>2</td>\n",
       "      <td>10.858999</td>\n",
       "      <td>0</td>\n",
       "      <td>7.745967</td>\n",
       "      <td>11.182261</td>\n",
       "      <td>0</td>\n",
       "      <td>2</td>\n",
       "      <td>44.899889</td>\n",
       "      <td>656</td>\n",
       "      <td>1.732051</td>\n",
       "      <td>5.746203</td>\n",
       "      <td>6</td>\n",
       "      <td>0</td>\n",
       "      <td>10.818337</td>\n",
       "      <td>0</td>\n",
       "      <td>0</td>\n",
       "      <td>1</td>\n",
       "      <td>1</td>\n",
       "      <td>0</td>\n",
       "      <td>0</td>\n",
       "      <td>1</td>\n",
       "      <td>0</td>\n",
       "      <td>0</td>\n",
       "      <td>487.567846</td>\n",
       "      <td>19.368245</td>\n",
       "    </tr>\n",
       "    <tr>\n",
       "      <th>70892</th>\n",
       "      <td>5</td>\n",
       "      <td>7</td>\n",
       "      <td>12.345835</td>\n",
       "      <td>5</td>\n",
       "      <td>0.000000</td>\n",
       "      <td>7.293018</td>\n",
       "      <td>2</td>\n",
       "      <td>1</td>\n",
       "      <td>44.620623</td>\n",
       "      <td>271</td>\n",
       "      <td>1.341641</td>\n",
       "      <td>4.584967</td>\n",
       "      <td>0</td>\n",
       "      <td>1</td>\n",
       "      <td>8.513189</td>\n",
       "      <td>0</td>\n",
       "      <td>0</td>\n",
       "      <td>1</td>\n",
       "      <td>1</td>\n",
       "      <td>0</td>\n",
       "      <td>0</td>\n",
       "      <td>1</td>\n",
       "      <td>0</td>\n",
       "      <td>0</td>\n",
       "      <td>550.878831</td>\n",
       "      <td>9.784610</td>\n",
       "    </tr>\n",
       "    <tr>\n",
       "      <th>26119</th>\n",
       "      <td>5</td>\n",
       "      <td>7</td>\n",
       "      <td>11.589887</td>\n",
       "      <td>5</td>\n",
       "      <td>0.000000</td>\n",
       "      <td>8.942461</td>\n",
       "      <td>0</td>\n",
       "      <td>1</td>\n",
       "      <td>44.855323</td>\n",
       "      <td>580</td>\n",
       "      <td>1.414214</td>\n",
       "      <td>5.135798</td>\n",
       "      <td>0</td>\n",
       "      <td>0</td>\n",
       "      <td>9.601842</td>\n",
       "      <td>0</td>\n",
       "      <td>0</td>\n",
       "      <td>1</td>\n",
       "      <td>1</td>\n",
       "      <td>0</td>\n",
       "      <td>0</td>\n",
       "      <td>1</td>\n",
       "      <td>0</td>\n",
       "      <td>0</td>\n",
       "      <td>519.868103</td>\n",
       "      <td>12.646550</td>\n",
       "    </tr>\n",
       "    <tr>\n",
       "      <th>47296</th>\n",
       "      <td>5</td>\n",
       "      <td>0</td>\n",
       "      <td>10.591622</td>\n",
       "      <td>4</td>\n",
       "      <td>2.000000</td>\n",
       "      <td>10.315332</td>\n",
       "      <td>0</td>\n",
       "      <td>1</td>\n",
       "      <td>44.933284</td>\n",
       "      <td>286</td>\n",
       "      <td>2.144761</td>\n",
       "      <td>5.690359</td>\n",
       "      <td>0</td>\n",
       "      <td>1</td>\n",
       "      <td>10.718414</td>\n",
       "      <td>0</td>\n",
       "      <td>0</td>\n",
       "      <td>1</td>\n",
       "      <td>1</td>\n",
       "      <td>0</td>\n",
       "      <td>0</td>\n",
       "      <td>1</td>\n",
       "      <td>0</td>\n",
       "      <td>0</td>\n",
       "      <td>475.916367</td>\n",
       "      <td>22.123923</td>\n",
       "    </tr>\n",
       "    <tr>\n",
       "      <th>90000</th>\n",
       "      <td>11</td>\n",
       "      <td>4</td>\n",
       "      <td>11.373663</td>\n",
       "      <td>2</td>\n",
       "      <td>2.645751</td>\n",
       "      <td>9.005160</td>\n",
       "      <td>0</td>\n",
       "      <td>1</td>\n",
       "      <td>44.911023</td>\n",
       "      <td>116</td>\n",
       "      <td>1.581139</td>\n",
       "      <td>5.198497</td>\n",
       "      <td>0</td>\n",
       "      <td>1</td>\n",
       "      <td>9.731282</td>\n",
       "      <td>0</td>\n",
       "      <td>1</td>\n",
       "      <td>0</td>\n",
       "      <td>1</td>\n",
       "      <td>0</td>\n",
       "      <td>0</td>\n",
       "      <td>1</td>\n",
       "      <td>0</td>\n",
       "      <td>0</td>\n",
       "      <td>510.802860</td>\n",
       "      <td>14.238407</td>\n",
       "    </tr>\n",
       "  </tbody>\n",
       "</table>\n",
       "</div>"
      ],
      "text/plain": [
       "       bodytype  brand    mileage  color  complectation        tax  \\\n",
       "9233          5      2  10.858999      0       7.745967  11.182261   \n",
       "70892         5      7  12.345835      5       0.000000   7.293018   \n",
       "26119         5      7  11.589887      5       0.000000   8.942461   \n",
       "47296         5      0  10.591622      4       2.000000  10.315332   \n",
       "90000        11      4  11.373663      2       2.645751   9.005160   \n",
       "\n",
       "       transmission  owners       year  model_name  engineDisplacement  \\\n",
       "9233              0       2  44.899889         656            1.732051   \n",
       "70892             2       1  44.620623         271            1.341641   \n",
       "26119             0       1  44.855323         580            1.414214   \n",
       "47296             0       1  44.933284         286            2.144761   \n",
       "90000             0       1  44.911023         116            1.581139   \n",
       "\n",
       "       enginePower  fuelType  sample  engine_new  drive_задний  \\\n",
       "9233      5.746203         6       0   10.818337             0   \n",
       "70892     4.584967         0       1    8.513189             0   \n",
       "26119     5.135798         0       0    9.601842             0   \n",
       "47296     5.690359         0       1   10.718414             0   \n",
       "90000     5.198497         0       1    9.731282             0   \n",
       "\n",
       "       drive_передний  drive_полный  wheel_Левый  wheel_Правый  pts_Дубликат  \\\n",
       "9233                0             1            1             0             0   \n",
       "70892               0             1            1             0             0   \n",
       "26119               0             1            1             0             0   \n",
       "47296               0             1            1             0             0   \n",
       "90000               1             0            1             0             0   \n",
       "\n",
       "       pts_Оригинал  pts_ПТСДубликат  pts_ПТСОригинал  mileage_year  \\\n",
       "9233              1                0                0    487.567846   \n",
       "70892             1                0                0    550.878831   \n",
       "26119             1                0                0    519.868103   \n",
       "47296             1                0                0    475.916367   \n",
       "90000             1                0                0    510.802860   \n",
       "\n",
       "       eDispl_tax  \n",
       "9233    19.368245  \n",
       "70892    9.784610  \n",
       "26119   12.646550  \n",
       "47296   22.123923  \n",
       "90000   14.238407  "
      ]
     },
     "execution_count": 31,
     "metadata": {},
     "output_type": "execute_result"
    }
   ],
   "source": [
    "#из сильно коррелирующих признаков сделаем еще два новых ниленейных признака\n",
    "data['mileage_year'] = data.loc[:]['mileage']*data.loc[:]['year']\n",
    "data['eDispl_tax'] = data.loc[:]['engineDisplacement']*data.loc[:]['tax']\n",
    "\n",
    "#наименований моделей очень много, приведем численную нумерацию моделей в более узкий диапазон\n",
    "#data['model_name'] = data[:]['model_name'].apply(lambda x: int(np.log(x+1)))\n",
    "data.sample(5)"
   ]
  },
  {
   "cell_type": "code",
   "execution_count": 32,
   "id": "ac43b55e",
   "metadata": {},
   "outputs": [
    {
     "name": "stdout",
     "output_type": "stream",
     "text": [
      "<class 'pandas.core.frame.DataFrame'>\n",
      "RangeIndex: 112894 entries, 0 to 112893\n",
      "Data columns (total 26 columns):\n",
      " #   Column              Non-Null Count   Dtype  \n",
      "---  ------              --------------   -----  \n",
      " 0   bodytype            112894 non-null  int64  \n",
      " 1   brand               112894 non-null  int64  \n",
      " 2   mileage             112894 non-null  float64\n",
      " 3   color               112894 non-null  int64  \n",
      " 4   complectation       112894 non-null  float64\n",
      " 5   tax                 112894 non-null  float64\n",
      " 6   transmission        112894 non-null  int32  \n",
      " 7   owners              112894 non-null  int64  \n",
      " 8   year                112894 non-null  float64\n",
      " 9   model_name          112894 non-null  int32  \n",
      " 10  engineDisplacement  112894 non-null  float64\n",
      " 11  enginePower         112894 non-null  float64\n",
      " 12  fuelType            112894 non-null  int32  \n",
      " 13  sample              112894 non-null  int64  \n",
      " 14  engine_new          112894 non-null  float64\n",
      " 15  drive_задний        112894 non-null  uint8  \n",
      " 16  drive_передний      112894 non-null  uint8  \n",
      " 17  drive_полный        112894 non-null  uint8  \n",
      " 18  wheel_Левый         112894 non-null  uint8  \n",
      " 19  wheel_Правый        112894 non-null  uint8  \n",
      " 20  pts_Дубликат        112894 non-null  uint8  \n",
      " 21  pts_Оригинал        112894 non-null  uint8  \n",
      " 22  pts_ПТСДубликат     112894 non-null  uint8  \n",
      " 23  pts_ПТСОригинал     112894 non-null  uint8  \n",
      " 24  mileage_year        112894 non-null  float64\n",
      " 25  eDispl_tax          112894 non-null  float64\n",
      "dtypes: float64(9), int32(3), int64(5), uint8(9)\n",
      "memory usage: 14.3 MB\n"
     ]
    }
   ],
   "source": [
    "data.info()"
   ]
  },
  {
   "cell_type": "markdown",
   "id": "762ef2ae",
   "metadata": {},
   "source": [
    "[Вверх к содержанию](#Содержание)"
   ]
  },
  {
   "cell_type": "markdown",
   "id": "eb19b8b8",
   "metadata": {},
   "source": [
    "# **4. Моделирование**"
   ]
  },
  {
   "cell_type": "markdown",
   "id": "0e5eb120",
   "metadata": {},
   "source": [
    "## ``4.1 Наивное моделирование``"
   ]
  },
  {
   "cell_type": "markdown",
   "id": "8c43fab7",
   "metadata": {},
   "source": [
    "```\n",
    "В этом разделе построим модель, основанную на линейной регрессии. Посмотрим какие оценки дает линейная регрессия.\n",
    "Также попробуем применть штрафные коэффициенты к регрессии и посмотрим, улучшит ли это наш прогноз.\n",
    "```"
   ]
  },
  {
   "cell_type": "code",
   "execution_count": 33,
   "id": "de15b068",
   "metadata": {},
   "outputs": [],
   "source": [
    "#создадим функцию для оценки MAPE\n",
    "def MAPE(y_true, y_pred):\n",
    "    y_true, y_pred = np.array(y_true), np.array(y_pred)\n",
    "    return np.mean(np.abs((y_true - y_pred) / y_true)) * 100\n",
    "\n",
    "#создадим оценщика для кросс валидации и learning curve\n",
    "score = make_scorer(MAPE)\n",
    "\n",
    "RANDOM_SEED = 42"
   ]
  },
  {
   "cell_type": "code",
   "execution_count": 34,
   "id": "9066145b",
   "metadata": {},
   "outputs": [],
   "source": [
    "X = data.query('sample == 1').drop(['sample','tax'], axis=1) #отделим тренинговый сет\n",
    "X_sub = data.query('sample == 0').drop(['sample','tax'], axis=1) #отделим тестовый для submission сет данных"
   ]
  },
  {
   "cell_type": "code",
   "execution_count": 35,
   "id": "01dcd432",
   "metadata": {},
   "outputs": [
    {
     "data": {
      "text/plain": [
       "((78208, 24), (34686, 24), (78208,))"
      ]
     },
     "execution_count": 35,
     "metadata": {},
     "output_type": "execute_result"
    }
   ],
   "source": [
    "#сделаем контроль размерности сетов\n",
    "X.shape, X_sub.shape, y.shape"
   ]
  },
  {
   "cell_type": "code",
   "execution_count": 36,
   "id": "30cbb05d",
   "metadata": {},
   "outputs": [],
   "source": [
    "#разобьем данные на тест и трейн\n",
    "X_train, X_test, y_train, y_test = train_test_split(X, y, test_size=0.2, shuffle=True, random_state=RANDOM_SEED)"
   ]
  },
  {
   "cell_type": "code",
   "execution_count": 37,
   "id": "e06c32c6",
   "metadata": {},
   "outputs": [
    {
     "data": {
      "text/plain": [
       "24.025810559600835"
      ]
     },
     "execution_count": 37,
     "metadata": {},
     "output_type": "execute_result"
    }
   ],
   "source": [
    "#сделаем прогноз и оценку точности прогноза с помощью простой линейной регрессии\n",
    "regressor_LR = LinearRegression()\n",
    "model_LR = regressor_LR.fit(X_train, np.log(y_train))\n",
    "y_pred = np.exp(model_LR.predict(X_test))\n",
    "\n",
    "MAPE(y_test, y_pred)\n",
    "#оценка на тестовом сете в kagle.com дала результат 22,07%\n",
    "#что лучше, чем прогноз по тренинговому сету, но не является хорошей точностью"
   ]
  },
  {
   "cell_type": "code",
   "execution_count": 41,
   "id": "4ef9cef0",
   "metadata": {},
   "outputs": [
    {
     "name": "stdout",
     "output_type": "stream",
     "text": [
      "alpha = 0.1\n"
     ]
    }
   ],
   "source": [
    "#проверим есть ли эффект от применения штрафа в регрессии\n",
    "regressor_ridge = Ridge()\n",
    "alpha = np.linspace(0.1, 1, 20, dtype=float)\n",
    "\n",
    "hyperparameters = dict(alpha=alpha)\n",
    "rsearch = GridSearchCV(regressor_ridge,\n",
    "                       hyperparameters,\n",
    "                       cv=5,\n",
    "                       verbose=0)\n",
    "\n",
    "model_ridge = rsearch.fit(X, np.log(y))\n",
    "print('alpha =', model_ridge.best_estimator_.get_params()['alpha'])\n",
    "#оценка на тестовом сете в kagle.com дала результат 22,07%, что так же, как прогноз без штрафа\n",
    "#также видно, что выбор регрессии со штрафом стремится к минимальной альфе, то есть к чистой линейной регрессии"
   ]
  },
  {
   "cell_type": "code",
   "execution_count": 42,
   "id": "4910465f",
   "metadata": {},
   "outputs": [
    {
     "name": "stdout",
     "output_type": "stream",
     "text": [
      "alpha = 0.1\n"
     ]
    }
   ],
   "source": [
    "regressor_lasso = Lasso()\n",
    "alpha = np.linspace(0.1, 1, 20, dtype=float)\n",
    "\n",
    "hyperparameters = dict(alpha=alpha)\n",
    "rsearch = GridSearchCV(regressor_ridge,\n",
    "                       hyperparameters,\n",
    "                       cv=5,\n",
    "                       verbose=0)\n",
    "\n",
    "model_lasso = rsearch.fit(X, np.log(y))\n",
    "print('alpha =', model_lasso.best_estimator_.get_params()['alpha'])\n",
    "#с линейным штрафом получили аналогичный результат"
   ]
  },
  {
   "cell_type": "markdown",
   "id": "754f18df",
   "metadata": {},
   "source": [
    "```\n",
    "наилучшим образом себя показала линейная регрессия без штрафа\n",
    "попробуем в дальнейшем использовать ее в стекинге моделей\n",
    "```"
   ]
  },
  {
   "cell_type": "markdown",
   "id": "a9999568",
   "metadata": {},
   "source": [
    "[Вверх к содержанию](#Содержание)"
   ]
  },
  {
   "cell_type": "markdown",
   "id": "5efb50b2",
   "metadata": {},
   "source": [
    "## ``4.2 Ранжирование дефолтных моделей``"
   ]
  },
  {
   "cell_type": "code",
   "execution_count": 44,
   "id": "9b0c0069",
   "metadata": {},
   "outputs": [],
   "source": [
    "# Создаем конвейер задач, в который включим несколько моделей с дефолтными значениями\n",
    "#по итогам моделирование ранжируем дефолтные модели по результативности\n",
    "pipe = Pipeline([('regressor', RandomForestRegressor(random_state=RANDOM_SEED))])\n",
    "\n",
    "# Создадим словарь вариантов алгоритмов\n",
    "search_space = [{'regressor': [RandomForestRegressor(n_jobs=-1, random_state=RANDOM_SEED)]},\n",
    "                {'regressor': [LinearRegression()]},\n",
    "                {'regressor': [ExtraTreesRegressor(n_jobs=-1, random_state=RANDOM_SEED)]},\n",
    "                {'regressor': [AdaBoostRegressor(random_state=RANDOM_SEED)]},\n",
    "                {'regressor': [GradientBoostingRegressor(random_state=RANDOM_SEED)]},\n",
    "                {'regressor': [KNeighborsRegressor()]},\n",
    "                {'regressor': [BaggingRegressor(n_jobs=-1, random_state=RANDOM_SEED)]},\n",
    "                {'regressor': [DecisionTreeRegressor()]}]\n",
    "\n",
    "# Создадим экземпляр решетечного поиска\n",
    "gridsearch = GridSearchCV(pipe, search_space, scoring=score, cv=5, verbose=0)\n",
    "\n",
    "# выполним поиск наилучшей модели в заданном диапазоне гиперпараметров с логарифмом целевых значений\n",
    "best_default_model = gridsearch.fit(X, np.log(y))"
   ]
  },
  {
   "cell_type": "code",
   "execution_count": 45,
   "id": "674a409a",
   "metadata": {},
   "outputs": [
    {
     "data": {
      "text/html": [
       "<div>\n",
       "<style scoped>\n",
       "    .dataframe tbody tr th:only-of-type {\n",
       "        vertical-align: middle;\n",
       "    }\n",
       "\n",
       "    .dataframe tbody tr th {\n",
       "        vertical-align: top;\n",
       "    }\n",
       "\n",
       "    .dataframe thead th {\n",
       "        text-align: right;\n",
       "    }\n",
       "</style>\n",
       "<table border=\"1\" class=\"dataframe\">\n",
       "  <thead>\n",
       "    <tr style=\"text-align: right;\">\n",
       "      <th></th>\n",
       "      <th>param_regressor</th>\n",
       "      <th>mean_test_score</th>\n",
       "    </tr>\n",
       "  </thead>\n",
       "  <tbody>\n",
       "    <tr>\n",
       "      <th>0</th>\n",
       "      <td>RandomForestRegressor(n_jobs=-1, random_state=42)</td>\n",
       "      <td>1.081079</td>\n",
       "    </tr>\n",
       "    <tr>\n",
       "      <th>1</th>\n",
       "      <td>LinearRegression()</td>\n",
       "      <td>1.807133</td>\n",
       "    </tr>\n",
       "    <tr>\n",
       "      <th>2</th>\n",
       "      <td>ExtraTreesRegressor(n_jobs=-1, random_state=42)</td>\n",
       "      <td>1.053616</td>\n",
       "    </tr>\n",
       "    <tr>\n",
       "      <th>3</th>\n",
       "      <td>AdaBoostRegressor(random_state=42)</td>\n",
       "      <td>2.373723</td>\n",
       "    </tr>\n",
       "    <tr>\n",
       "      <th>4</th>\n",
       "      <td>GradientBoostingRegressor(random_state=42)</td>\n",
       "      <td>1.430435</td>\n",
       "    </tr>\n",
       "    <tr>\n",
       "      <th>5</th>\n",
       "      <td>KNeighborsRegressor()</td>\n",
       "      <td>2.553820</td>\n",
       "    </tr>\n",
       "    <tr>\n",
       "      <th>6</th>\n",
       "      <td>BaggingRegressor(n_jobs=-1, random_state=42)</td>\n",
       "      <td>1.138428</td>\n",
       "    </tr>\n",
       "    <tr>\n",
       "      <th>7</th>\n",
       "      <td>DecisionTreeRegressor()</td>\n",
       "      <td>1.432122</td>\n",
       "    </tr>\n",
       "  </tbody>\n",
       "</table>\n",
       "</div>"
      ],
      "text/plain": [
       "                                     param_regressor  mean_test_score\n",
       "0  RandomForestRegressor(n_jobs=-1, random_state=42)         1.081079\n",
       "1                                 LinearRegression()         1.807133\n",
       "2    ExtraTreesRegressor(n_jobs=-1, random_state=42)         1.053616\n",
       "3                 AdaBoostRegressor(random_state=42)         2.373723\n",
       "4         GradientBoostingRegressor(random_state=42)         1.430435\n",
       "5                              KNeighborsRegressor()         2.553820\n",
       "6       BaggingRegressor(n_jobs=-1, random_state=42)         1.138428\n",
       "7                            DecisionTreeRegressor()         1.432122"
      ]
     },
     "execution_count": 45,
     "metadata": {},
     "output_type": "execute_result"
    }
   ],
   "source": [
    "best_model_results = pd.DataFrame(data=best_default_model.cv_results_)\n",
    "best_model_results[['param_regressor','mean_test_score']]\n",
    "#наилучшим алгоритмом с дефолтными значениями оказался ExtraTreesRegressor\n",
    "#рейтинг алогоритмов ниже в таблице будет использован далее для выбора моделей в стекинге"
   ]
  },
  {
   "cell_type": "code",
   "execution_count": 46,
   "id": "40e30c0b",
   "metadata": {},
   "outputs": [
    {
     "data": {
      "text/plain": [
       "13.418752153678145"
      ]
     },
     "execution_count": 46,
     "metadata": {},
     "output_type": "execute_result"
    }
   ],
   "source": [
    "#ExtraTreesRegressor оказалось лучшей моделью\n",
    "#сделаем прогноз на лучшей дефолтной модели\n",
    "regressor_etree = ExtraTreesRegressor(n_jobs=-1, random_state=RANDOM_SEED)\n",
    "model_default_extree = regressor_etree.fit(X_train, np.log(y_train))\n",
    "y_pred = np.exp(model_default_extree.predict(X_test))\n",
    "\n",
    "MAPE(y_test, y_pred)\n",
    "#мы получили значительное улучшение в точности модели относительно линейных регрессий\n",
    "#оценка на тестовом сете в kagle.com дала точность прогноза в размере 15,33%"
   ]
  },
  {
   "cell_type": "code",
   "execution_count": 48,
   "id": "33b96a0f",
   "metadata": {},
   "outputs": [],
   "source": [
    "#дополнительно в этом разделе посмотрим динамику обучающей кривой (роста точности моделирования\n",
    "#в зависимости от количества данных)\n",
    "#будем смотреть стоит ли еще добрать данные для повышения точности\n",
    "kf = KFold(n_splits = 3, shuffle=True, random_state=42)\n",
    "train_sizes, train_scores, test_scores = learning_curve(regressor_etree, X, y,\n",
    "                               cv=kf,\n",
    "                               scoring=score,\n",
    "                               n_jobs=-1,\n",
    "                               train_sizes=np.linspace(0.01, 1.0,7))"
   ]
  },
  {
   "cell_type": "code",
   "execution_count": 49,
   "id": "6576ab37",
   "metadata": {},
   "outputs": [],
   "source": [
    "train_mean = np.mean(train_scores, axis=1)\n",
    "train_std = np.std(train_scores, axis=1)\n",
    "test_mean = np.mean(test_scores, axis=1)\n",
    "test_std = np.std(test_scores, axis=1)"
   ]
  },
  {
   "cell_type": "code",
   "execution_count": 50,
   "id": "94209568",
   "metadata": {},
   "outputs": [
    {
     "data": {
      "image/png": "[encoded data removed]",
      "text/plain": [
       "<Figure size 864x504 with 1 Axes>"
      ]
     },
     "metadata": {
      "needs_background": "light"
     },
     "output_type": "display_data"
    }
   ],
   "source": [
    "# значительного улучшения точности уже не наблюдается, поэтому добирать данные больше не будем\n",
    "plt.figure(figsize=(12, 7))\n",
    "\n",
    "plt.plot(train_sizes, train_mean)\n",
    "plt.plot(train_sizes, test_mean)\n",
    "plt.show()"
   ]
  },
  {
   "cell_type": "markdown",
   "id": "946875bb",
   "metadata": {},
   "source": [
    "[Вверх к содержанию](#Содержание)"
   ]
  },
  {
   "cell_type": "markdown",
   "id": "648987f6",
   "metadata": {},
   "source": [
    "## `4.3 Поиск лучших гиперпараметров`"
   ]
  },
  {
   "cell_type": "markdown",
   "id": "7aca291a",
   "metadata": {},
   "source": [
    " ```\n",
    " Попробуем найти лучшие гиперпараметры для наилучшей дефолтной модели ExtraTreesRegressor\n",
    "  ```"
   ]
  },
  {
   "cell_type": "code",
   "execution_count": 66,
   "id": "6d9419b1",
   "metadata": {},
   "outputs": [
    {
     "data": {
      "text/plain": [
       "{'bootstrap': False,\n",
       " 'ccp_alpha': 0.0,\n",
       " 'criterion': 'mse',\n",
       " 'max_depth': None,\n",
       " 'max_features': 'auto',\n",
       " 'max_leaf_nodes': None,\n",
       " 'max_samples': None,\n",
       " 'min_impurity_decrease': 0.0,\n",
       " 'min_impurity_split': None,\n",
       " 'min_samples_leaf': 1,\n",
       " 'min_samples_split': 2,\n",
       " 'min_weight_fraction_leaf': 0.0,\n",
       " 'n_estimators': 500,\n",
       " 'n_jobs': -1,\n",
       " 'oob_score': False,\n",
       " 'random_state': 42,\n",
       " 'verbose': 0,\n",
       " 'warm_start': False}"
      ]
     },
     "execution_count": 66,
     "metadata": {},
     "output_type": "execute_result"
    }
   ],
   "source": [
    "regressor_etree = ExtraTreesRegressor(random_state=RANDOM_SEED,  n_jobs=-1)\n",
    "\n",
    "max_features = np.linspace(1, 22, 5, dtype=int)\n",
    "n_estimators = np.linspace(50, 500, 5, dtype=int)\n",
    "\n",
    "hyperparameters = dict(n_estimators=n_estimators)\n",
    "rsearch = GridSearchCV(regressor_etree,\n",
    "                       hyperparameters,\n",
    "                       cv=5,\n",
    "                       verbose=0)\n",
    "\n",
    "best_model_etree = rsearch.fit(X, np.log(y))\n",
    "best_model_etree.best_estimator_.get_params()"
   ]
  },
  {
   "cell_type": "code",
   "execution_count": 51,
   "id": "e4bd52ec",
   "metadata": {},
   "outputs": [
    {
     "data": {
      "text/plain": [
       "13.249838398648958"
      ]
     },
     "execution_count": 51,
     "metadata": {},
     "output_type": "execute_result"
    }
   ],
   "source": [
    "# в Gridsearch отдельно пришлось искать лучшие n_estimators и max_features, долго считает\n",
    "# в итоге лучшими параметрами стали 16 фичей и 500 деревьев\n",
    "#сделаем предсказание модели ExtraTreesRegressor с такими гиперпараметрами\n",
    "regressor_etree = ExtraTreesRegressor(random_state=RANDOM_SEED,\n",
    "                                      n_estimators = 500,\n",
    "                                      max_features = 16,\n",
    "                                      n_jobs=-1)\n",
    "best_model_extree = regressor_etree.fit(X_train, np.log(y_train))\n",
    "y_pred = np.exp(best_model_extree.predict(X_test))\n",
    "\n",
    "MAPE(y_test, y_pred)\n",
    "#получили улучшение относительно дефолтной модели\n",
    "#точность прогноза на тестовом сете в kagle.com также улучшилась и стала 15,06%"
   ]
  },
  {
   "cell_type": "code",
   "execution_count": 53,
   "id": "02c845e6",
   "metadata": {},
   "outputs": [
    {
     "name": "stdout",
     "output_type": "stream",
     "text": [
      "                    importance\n",
      "feature                       \n",
      "year                     0.377\n",
      "drive_полный             0.143\n",
      "mileage                  0.066\n",
      "mileage_year             0.066\n",
      "enginePower              0.063\n",
      "engine_new               0.055\n",
      "drive_передний           0.046\n",
      "bodytype                 0.030\n",
      "brand                    0.026\n",
      "eDispl_tax               0.021\n",
      "engineDisplacement       0.019\n",
      "transmission             0.017\n",
      "fuelType                 0.014\n",
      "model_name               0.013\n",
      "wheel_Левый              0.009\n",
      "color                    0.009\n",
      "wheel_Правый             0.007\n",
      "pts_Дубликат             0.007\n",
      "drive_задний             0.005\n",
      "complectation            0.004\n",
      "owners                   0.002\n",
      "pts_Оригинал             0.002\n",
      "pts_ПТСДубликат          0.000\n",
      "pts_ПТСОригинал          0.000\n"
     ]
    },
    {
     "data": {
      "text/plain": [
       "<AxesSubplot:ylabel='feature'>"
      ]
     },
     "execution_count": 53,
     "metadata": {},
     "output_type": "execute_result"
    },
    {
     "data": {
      "image/png": "[encoded data removed]",
      "text/plain": [
       "<Figure size 432x288 with 1 Axes>"
      ]
     },
     "metadata": {
      "needs_background": "light"
     },
     "output_type": "display_data"
    }
   ],
   "source": [
    "#посмотрим какие признаки используются чаще всего в деревьях\n",
    "importances = pd.DataFrame({'feature':X.columns,'importance':np.round(regressor_etree.feature_importances_,3)})\n",
    "importances = importances.sort_values('importance',ascending=False).set_index('feature')\n",
    "print (importances)\n",
    "importances.plot.barh()"
   ]
  },
  {
   "cell_type": "markdown",
   "id": "39137b36",
   "metadata": {},
   "source": [
    "```\n",
    " Для стекинга лучше брать разные по природе модели. Возьмем три слабые: Ridge,Kneighbors,DecisionTree и пару сильных GBRegressor и ExtraTreesRegressor. Для ExtraTreesRegressor гиперпараметры подобрали. Теперь подберем их для Kneighbors,DecisionTree и GBRegressor. Потом эти модели с такими параметрами используем в стекинге.\n",
    "  ```"
   ]
  },
  {
   "cell_type": "code",
   "execution_count": 73,
   "id": "5b88638f",
   "metadata": {},
   "outputs": [
    {
     "data": {
      "text/plain": [
       "{'ccp_alpha': 0.0,\n",
       " 'criterion': 'mse',\n",
       " 'max_depth': 90,\n",
       " 'max_features': 19,\n",
       " 'max_leaf_nodes': None,\n",
       " 'min_impurity_decrease': 0.0,\n",
       " 'min_impurity_split': None,\n",
       " 'min_samples_leaf': 1,\n",
       " 'min_samples_split': 2,\n",
       " 'min_weight_fraction_leaf': 0.0,\n",
       " 'random_state': 42,\n",
       " 'splitter': 'best'}"
      ]
     },
     "execution_count": 73,
     "metadata": {},
     "output_type": "execute_result"
    }
   ],
   "source": [
    "#прогноим гиперпараметры для одного дерева\n",
    "regressor_dtree = DecisionTreeRegressor(random_state=RANDOM_SEED)\n",
    "\n",
    "max_features = np.linspace(1, 22, 9, dtype=int)\n",
    "max_depth = np.linspace(3, 700, 9, dtype=int)\n",
    "\n",
    "hyperparameters = dict(max_features=max_features,\n",
    "                      max_depth=max_depth)\n",
    "rsearch = GridSearchCV(regressor_dtree,\n",
    "                       hyperparameters,\n",
    "                       cv=5,\n",
    "                       verbose=0)\n",
    "\n",
    "best_model_dtree = rsearch.fit(X, np.log(y))\n",
    "best_model_dtree.best_estimator_.get_params()"
   ]
  },
  {
   "cell_type": "code",
   "execution_count": 74,
   "id": "99b29824",
   "metadata": {},
   "outputs": [
    {
     "data": {
      "text/plain": [
       "0.17238685972460932"
      ]
     },
     "execution_count": 74,
     "metadata": {},
     "output_type": "execute_result"
    }
   ],
   "source": [
    "# сделаем предсказание по лучшей выбранной модели дерева решений\n",
    "y_pred = np.exp(best_model_dtree.predict(X_test))\n",
    "\n",
    "MAPE(y_test, y_pred)"
   ]
  },
  {
   "cell_type": "code",
   "execution_count": 80,
   "id": "ee5b3412",
   "metadata": {},
   "outputs": [
    {
     "data": {
      "text/plain": [
       "{'algorithm': 'auto',\n",
       " 'leaf_size': 30,\n",
       " 'metric': 'minkowski',\n",
       " 'metric_params': None,\n",
       " 'n_jobs': None,\n",
       " 'n_neighbors': 6,\n",
       " 'p': 2,\n",
       " 'weights': 'uniform'}"
      ]
     },
     "execution_count": 80,
     "metadata": {},
     "output_type": "execute_result"
    }
   ],
   "source": [
    "#прогноим гиперпараметры для соседей\n",
    "regressor_neighbor = KNeighborsRegressor()\n",
    "n_neighbors = np.linspace(3, 9, 3, dtype=int)\n",
    "\n",
    "hyperparameters = dict(n_neighbors=n_neighbors)\n",
    "rsearch = GridSearchCV(regressor_neighbor,\n",
    "                       hyperparameters,\n",
    "                       cv=5,\n",
    "                       verbose=0)\n",
    "\n",
    "best_model_neighbor = rsearch.fit(X, np.log(y))\n",
    "best_model_neighbor.best_estimator_.get_params()"
   ]
  },
  {
   "cell_type": "code",
   "execution_count": 81,
   "id": "13dcd825",
   "metadata": {},
   "outputs": [
    {
     "data": {
      "text/plain": [
       "28.054417621406202"
      ]
     },
     "execution_count": 81,
     "metadata": {},
     "output_type": "execute_result"
    }
   ],
   "source": [
    "# сделаем предсказание по лучшей выбранной модели K соседей\n",
    "y_pred = np.exp(best_model_neighbor.predict(X_test))\n",
    "\n",
    "MAPE(y_test, y_pred)"
   ]
  },
  {
   "cell_type": "code",
   "execution_count": 54,
   "id": "1c57195a",
   "metadata": {},
   "outputs": [
    {
     "data": {
      "text/plain": [
       "{'alpha': 0.9,\n",
       " 'ccp_alpha': 0.0,\n",
       " 'criterion': 'friedman_mse',\n",
       " 'init': None,\n",
       " 'learning_rate': 0.1,\n",
       " 'loss': 'ls',\n",
       " 'max_depth': 3,\n",
       " 'max_features': None,\n",
       " 'max_leaf_nodes': None,\n",
       " 'min_impurity_decrease': 0.0,\n",
       " 'min_impurity_split': None,\n",
       " 'min_samples_leaf': 1,\n",
       " 'min_samples_split': 2,\n",
       " 'min_weight_fraction_leaf': 0.0,\n",
       " 'n_estimators': 500,\n",
       " 'n_iter_no_change': None,\n",
       " 'random_state': 42,\n",
       " 'subsample': 1.0,\n",
       " 'tol': 0.0001,\n",
       " 'validation_fraction': 0.1,\n",
       " 'verbose': 0,\n",
       " 'warm_start': False}"
      ]
     },
     "execution_count": 54,
     "metadata": {},
     "output_type": "execute_result"
    }
   ],
   "source": [
    "#прогоним гиперпараметры для грпдиентного спуска\n",
    "regressor_gbt = GradientBoostingRegressor(random_state=RANDOM_SEED)\n",
    "n_estimators = np.linspace(200, 500, 3, dtype=int)\n",
    "learning_rate = np.linspace(0.2, 0.6, 4, dtype=float)\n",
    "\n",
    "hyperparameters = dict(n_estimators=n_estimators)\n",
    "rsearch = GridSearchCV(regressor_gbt,\n",
    "                       hyperparameters,\n",
    "                       cv=5,\n",
    "                       verbose=0)\n",
    "\n",
    "best_model_gbt = rsearch.fit(X_train, np.log(y_train))\n",
    "best_model_gbt.best_estimator_.get_params()"
   ]
  },
  {
   "cell_type": "code",
   "execution_count": 57,
   "id": "4867b954",
   "metadata": {},
   "outputs": [
    {
     "data": {
      "text/plain": [
       "14.872304687947135"
      ]
     },
     "execution_count": 57,
     "metadata": {},
     "output_type": "execute_result"
    }
   ],
   "source": [
    "# в Gridsearch отдельно пришлось искать лучшие n_estimators и learning_rate, долго считает\n",
    "# в итоге лучшими параметрами стали 0.47 скорость обучения и 500 деревьев\n",
    "#сделаем предсказание модели  GradientBoostingRegressor с такими гиперпараметрами\n",
    "regressor_gbt =  GradientBoostingRegressor(random_state=RANDOM_SEED,\n",
    "                                      n_estimators = 500,\n",
    "                                      learning_rate = 0.47)\n",
    "best_model_gbt = regressor_gbt.fit(X_train, np.log(y_train))\n",
    "y_pred = np.exp(best_model_gbt.predict(X_test))\n",
    "\n",
    "MAPE(y_test, y_pred)"
   ]
  },
  {
   "cell_type": "markdown",
   "id": "9d37e6a7",
   "metadata": {},
   "source": [
    "[Вверх к содержанию](#Содержание)"
   ]
  },
  {
   "cell_type": "markdown",
   "id": "938fbbd3",
   "metadata": {},
   "source": [
    "## `4.4 Стекинг алгоритмов`"
   ]
  },
  {
   "cell_type": "markdown",
   "id": "8d1b78f4",
   "metadata": {},
   "source": [
    "```\n",
    " В этом разделе попробуем улучшить точность прогноза с помощью стекинга (сочетания) различных по природе моделей. Также попробуем из meta features сделать нелинейные metafeatures. Прогнозы моделей делаются на 5-ти фолдах, и для каждого фолда подбираются немного разные коэффициенты (параметры) моделей. По этой причине meta features имеют небольшой разброс относительно друг друга на разных кусках(фолдах) данных, попробуем этот разброс сузить, применив взаимное перемножение metafeatures.\n",
    "  ```"
   ]
  },
  {
   "cell_type": "code",
   "execution_count": 58,
   "id": "3684549b",
   "metadata": {},
   "outputs": [],
   "source": [
    "# функция прогнозирования metafetures для отдельной модели\n",
    "def compute_meta_feature(clf, X_train, X_test, y_train, cv):\n",
    "    X_meta_train = np.zeros_like(y_train, dtype=np.float32)\n",
    "    for train_fold_index, predict_fold_index in cv.split(X_train):\n",
    "        X_fold_train, X_fold_predict = X_train[train_fold_index], X_train[predict_fold_index]\n",
    "        y_fold_train = y_train[train_fold_index]\n",
    "        \n",
    "        folded_clf = clone(clf)\n",
    "        folded_clf.fit(X_fold_train, y_fold_train)\n",
    "        X_meta_train[predict_fold_index] = folded_clf.predict(X_fold_predict)\n",
    "    \n",
    "    meta_clf = clone(clf)\n",
    "    meta_clf.fit(X_train, y_train)\n",
    "    \n",
    "    X_meta_test = meta_clf.predict(X_test)\n",
    "    \n",
    "    return X_meta_train, X_meta_test"
   ]
  },
  {
   "cell_type": "code",
   "execution_count": 59,
   "id": "bd90f9c8",
   "metadata": {},
   "outputs": [],
   "source": [
    "# функция сбора metafeatures в один массив\n",
    "def generate_meta_features(classifiers, X_train, X_test, y_train, cv):\n",
    "\n",
    "    features = [compute_meta_feature(clf, X_train, X_test, y_train, cv) for clf in tqdm(classifiers)]\n",
    "    stacked_features_train = np.vstack([features_train for features_train, features_test in features]).T\n",
    "    stacked_features_test = np.vstack([features_test for features_train, features_test in features]).T\n",
    "    \n",
    "    return stacked_features_train, stacked_features_test"
   ]
  },
  {
   "cell_type": "code",
   "execution_count": 89,
   "id": "eb7fbc25",
   "metadata": {},
   "outputs": [
    {
     "data": {
      "application/vnd.jupyter.widget-view+json": {
       "model_id": "9e841652a5d14563bf28041f550ad8eb",
       "version_major": 2,
       "version_minor": 0
      },
      "text/plain": [
       "  0%|          | 0/5 [00:00<?, ?it/s]"
      ]
     },
     "metadata": {},
     "output_type": "display_data"
    }
   ],
   "source": [
    "#сделаем прогноз сначала на дефолтных моделях\n",
    "# потом сделаем прогноз на лучших моделях (кроме Ridge)\n",
    "cv = KFold(n_splits=5, shuffle=True)\n",
    "\n",
    "stacked_features_train, stacked_features_test = generate_meta_features([\n",
    "    LinearRegression(),\n",
    "    KNeighborsRegressor(n_neighbors=6),\n",
    "    GradientBoostingRegressor(n_estimators = 500, learning_rate = 0.47, random_state=RANDOM_SEED),\n",
    "    DecisionTreeRegressor(max_features = 19, max_depth = 90, random_state=RANDOM_SEED),\n",
    "    ExtraTreesRegressor(n_estimators = 500, max_features = 16, random_state=RANDOM_SEED, n_jobs=-1)],\n",
    "    X.values,\n",
    "    X_sub.values,\n",
    "    np.log(y.values),\n",
    "    cv)"
   ]
  },
  {
   "cell_type": "code",
   "execution_count": 90,
   "id": "2e67e579",
   "metadata": {},
   "outputs": [
    {
     "data": {
      "text/plain": [
       "((78208, 5), (34686, 5))"
      ]
     },
     "execution_count": 90,
     "metadata": {},
     "output_type": "execute_result"
    }
   ],
   "source": [
    "#посмотрим размер массивов\n",
    "#мы получили 5 metafeatures, как и должно быть\n",
    "stacked_features_train.shape, stacked_features_test.shape"
   ]
  },
  {
   "cell_type": "code",
   "execution_count": 91,
   "id": "14be387b",
   "metadata": {},
   "outputs": [],
   "source": [
    "#сделаем прогноз на 5 metafeatures, в качестве модели выберем линейную регрессию\n",
    "regressor_stacked = LinearRegression()\n",
    "regressor_stacked.fit(stacked_features_train, np.log(y.values))\n",
    "y_pred = np.exp(regressor_stacked.predict(stacked_features_test))\n",
    "\n",
    "#на дефолтных моделях получили незначительное улучшение, точность оказалась 15,015%\n",
    "#а вот на моделях с лучшими выбранными гиперпараметрами улучшение оказалось заметнее,\n",
    "#точность выросла до 14,55%"
   ]
  },
  {
   "cell_type": "code",
   "execution_count": 93,
   "id": "76ed6d48",
   "metadata": {},
   "outputs": [],
   "source": [
    "#из metafeatures составим новые нелинейные metafetures\n",
    "poly = PolynomialFeatures(degree=2,\n",
    "                          interaction_only=True,\n",
    "                          include_bias=False)\n",
    "poly_train = poly.fit_transform(stacked_features_train)\n",
    "poly_test = poly.fit_transform(stacked_features_test)"
   ]
  },
  {
   "cell_type": "code",
   "execution_count": 94,
   "id": "05bfd919",
   "metadata": {},
   "outputs": [
    {
     "data": {
      "text/plain": [
       "((78208, 15), (34686, 15))"
      ]
     },
     "execution_count": 94,
     "metadata": {},
     "output_type": "execute_result"
    }
   ],
   "source": [
    "#количество мета признаков выросло до 15\n",
    "poly_train.shape, poly_test.shape"
   ]
  },
  {
   "cell_type": "code",
   "execution_count": 95,
   "id": "ce563e53",
   "metadata": {},
   "outputs": [],
   "source": [
    "#сделаем прогноз по дополненным мета признакам\n",
    "regressor_stacked = LinearRegression()\n",
    "regressor_stacked.fit(poly_train, np.log(y.values))\n",
    "y_pred = np.exp(regressor_stacked.predict(poly_test))\n",
    "\n",
    "#метод дал улучшение точности, но не сильное - до 14,53%"
   ]
  },
  {
   "cell_type": "code",
   "execution_count": 79,
   "id": "af048461",
   "metadata": {},
   "outputs": [],
   "source": [
    "#сделаем прогноз на сиключительно нелинейных мета признаках\n",
    "regressor_stacked = LinearRegression()\n",
    "regressor_stacked.fit(poly_train[:,5:], np.log(y.values))\n",
    "y_pred = np.exp(regressor_stacked.predict(poly_test[:,5:]))\n",
    "\n",
    "#метод дал ухудшение точности до 14,72%"
   ]
  },
  {
   "cell_type": "markdown",
   "id": "cf959f88",
   "metadata": {},
   "source": [
    "## `4.5 Формирование файла Submission`"
   ]
  },
  {
   "cell_type": "code",
   "execution_count": 99,
   "id": "9ee3bcbc",
   "metadata": {},
   "outputs": [
    {
     "data": {
      "text/html": [
       "<div>\n",
       "<style scoped>\n",
       "    .dataframe tbody tr th:only-of-type {\n",
       "        vertical-align: middle;\n",
       "    }\n",
       "\n",
       "    .dataframe tbody tr th {\n",
       "        vertical-align: top;\n",
       "    }\n",
       "\n",
       "    .dataframe thead th {\n",
       "        text-align: right;\n",
       "    }\n",
       "</style>\n",
       "<table border=\"1\" class=\"dataframe\">\n",
       "  <thead>\n",
       "    <tr style=\"text-align: right;\">\n",
       "      <th></th>\n",
       "      <th>sell_id</th>\n",
       "      <th>price</th>\n",
       "    </tr>\n",
       "  </thead>\n",
       "  <tbody>\n",
       "    <tr>\n",
       "      <th>0</th>\n",
       "      <td>1100575026</td>\n",
       "      <td>6.958578e+05</td>\n",
       "    </tr>\n",
       "    <tr>\n",
       "      <th>1</th>\n",
       "      <td>1100549428</td>\n",
       "      <td>1.010880e+06</td>\n",
       "    </tr>\n",
       "    <tr>\n",
       "      <th>2</th>\n",
       "      <td>1100658222</td>\n",
       "      <td>8.887171e+05</td>\n",
       "    </tr>\n",
       "    <tr>\n",
       "      <th>3</th>\n",
       "      <td>1100937408</td>\n",
       "      <td>8.267429e+05</td>\n",
       "    </tr>\n",
       "    <tr>\n",
       "      <th>4</th>\n",
       "      <td>1101037972</td>\n",
       "      <td>8.349998e+05</td>\n",
       "    </tr>\n",
       "    <tr>\n",
       "      <th>5</th>\n",
       "      <td>1100912634</td>\n",
       "      <td>7.387870e+05</td>\n",
       "    </tr>\n",
       "    <tr>\n",
       "      <th>6</th>\n",
       "      <td>1101228730</td>\n",
       "      <td>6.584602e+05</td>\n",
       "    </tr>\n",
       "    <tr>\n",
       "      <th>7</th>\n",
       "      <td>1100165896</td>\n",
       "      <td>4.062655e+05</td>\n",
       "    </tr>\n",
       "    <tr>\n",
       "      <th>8</th>\n",
       "      <td>1100768262</td>\n",
       "      <td>1.906940e+06</td>\n",
       "    </tr>\n",
       "    <tr>\n",
       "      <th>9</th>\n",
       "      <td>1101218501</td>\n",
       "      <td>7.438704e+05</td>\n",
       "    </tr>\n",
       "  </tbody>\n",
       "</table>\n",
       "</div>"
      ],
      "text/plain": [
       "      sell_id         price\n",
       "0  1100575026  6.958578e+05\n",
       "1  1100549428  1.010880e+06\n",
       "2  1100658222  8.887171e+05\n",
       "3  1100937408  8.267429e+05\n",
       "4  1101037972  8.349998e+05\n",
       "5  1100912634  7.387870e+05\n",
       "6  1101228730  6.584602e+05\n",
       "7  1100165896  4.062655e+05\n",
       "8  1100768262  1.906940e+06\n",
       "9  1101218501  7.438704e+05"
      ]
     },
     "execution_count": 99,
     "metadata": {},
     "output_type": "execute_result"
    }
   ],
   "source": [
    "#predict_submission = np.exp(best_model_extree.predict(X_sub))\n",
    "predict_submission = y_pred\n",
    "sample_submission['price'] = predict_submission\n",
    "sample_submission.to_csv(DIR + 'submission.csv', index=False)\n",
    "\n",
    "submission = pd.read_csv(DIR + 'submission.csv')\n",
    "submission.head(10)"
   ]
  },
  {
   "cell_type": "markdown",
   "id": "70b8d31c",
   "metadata": {},
   "source": [
    "[Вверх к содержанию](#Содержание)"
   ]
  }
 ],
 "metadata": {
  "kernelspec": {
   "display_name": "Python 3 (ipykernel)",
   "language": "python",
   "name": "python3"
  },
  "language_info": {
   "codemirror_mode": {
    "name": "ipython",
    "version": 3
   },
   "file_extension": ".py",
   "mimetype": "text/x-python",
   "name": "python",
   "nbconvert_exporter": "python",
   "pygments_lexer": "ipython3",
   "version": "3.9.1"
  }
 },
 "nbformat": 4,
 "nbformat_minor": 5
}
