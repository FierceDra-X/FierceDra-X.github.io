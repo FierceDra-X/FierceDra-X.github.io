{
 "cells": [
  {
   "cell_type": "code",
   "execution_count": 17,
   "metadata": {
    "_cell_guid": "b1076dfc-b9ad-4769-8c92-a6c4dae69d19",
    "_uuid": "8f2839f25d086af736a60e9eeb907d3b93b6e0e5",
    "colab": {},
    "colab_type": "code",
    "id": "U2D2gTdJVp90"
   },
   "outputs": [],
   "source": [
    "import itertools \n",
    "import numpy as np\n",
    "import pandas as pd\n",
    "import seaborn as sns\n",
    "import matplotlib.pyplot as plt\n",
    "from collections import Counter"
   ]
  },
  {
   "cell_type": "code",
   "execution_count": 18,
   "metadata": {
    "_cell_guid": "79c7e3d0-c299-4dcb-8224-4455121ee9b0",
    "_uuid": "d629ff2d2480ee46fbb7e2d37f6b5fab8052498a",
    "colab": {},
    "colab_type": "code",
    "id": "oyGfxL3eVp9-"
   },
   "outputs": [
    {
     "data": {
      "text/html": [
       "<div>\n",
       "<style scoped>\n",
       "    .dataframe tbody tr th:only-of-type {\n",
       "        vertical-align: middle;\n",
       "    }\n",
       "\n",
       "    .dataframe tbody tr th {\n",
       "        vertical-align: top;\n",
       "    }\n",
       "\n",
       "    .dataframe thead th {\n",
       "        text-align: right;\n",
       "    }\n",
       "</style>\n",
       "<table border=\"1\" class=\"dataframe\">\n",
       "  <thead>\n",
       "    <tr style=\"text-align: right;\">\n",
       "      <th></th>\n",
       "      <th>imdb_id</th>\n",
       "      <th>budget</th>\n",
       "      <th>revenue</th>\n",
       "      <th>original_title</th>\n",
       "      <th>cast</th>\n",
       "      <th>director</th>\n",
       "      <th>tagline</th>\n",
       "      <th>overview</th>\n",
       "      <th>runtime</th>\n",
       "      <th>genres</th>\n",
       "      <th>production_companies</th>\n",
       "      <th>release_date</th>\n",
       "      <th>vote_average</th>\n",
       "      <th>release_year</th>\n",
       "    </tr>\n",
       "  </thead>\n",
       "  <tbody>\n",
       "    <tr>\n",
       "      <td>1483</td>\n",
       "      <td>tt0449089</td>\n",
       "      <td>50000000</td>\n",
       "      <td>87528173</td>\n",
       "      <td>RV</td>\n",
       "      <td>Robin Williams|Cheryl Hines|Joanna 'JoJo' Leve...</td>\n",
       "      <td>Barry Sonnenfeld</td>\n",
       "      <td>One Family. Eight Wheels. No brakes.</td>\n",
       "      <td>Climbing aboard their mammoth recreational veh...</td>\n",
       "      <td>99</td>\n",
       "      <td>Comedy|Family|Adventure</td>\n",
       "      <td>Columbia Pictures</td>\n",
       "      <td>4/28/2006</td>\n",
       "      <td>5.7</td>\n",
       "      <td>2006</td>\n",
       "    </tr>\n",
       "    <tr>\n",
       "      <td>753</td>\n",
       "      <td>tt1464540</td>\n",
       "      <td>50000000</td>\n",
       "      <td>144492830</td>\n",
       "      <td>I Am Number Four</td>\n",
       "      <td>Alex Pettyfer|Timothy Olyphant|Teresa Palmer|D...</td>\n",
       "      <td>D.J. Caruso</td>\n",
       "      <td>Three like him have already been killedâ€¦he i...</td>\n",
       "      <td>A teenage fugitive with an incredible secret r...</td>\n",
       "      <td>109</td>\n",
       "      <td>Action|Thriller|Science Fiction|Adventure</td>\n",
       "      <td>DreamWorks SKG|Reliance BIG Entertainment|Bay ...</td>\n",
       "      <td>2/18/2011</td>\n",
       "      <td>6.0</td>\n",
       "      <td>2011</td>\n",
       "    </tr>\n",
       "    <tr>\n",
       "      <td>251</td>\n",
       "      <td>tt1190080</td>\n",
       "      <td>200000000</td>\n",
       "      <td>769653595</td>\n",
       "      <td>2012</td>\n",
       "      <td>John Cusack|Amanda Peet|Chiwetel Ejiofor|Thand...</td>\n",
       "      <td>Roland Emmerich</td>\n",
       "      <td>We Were Warned.</td>\n",
       "      <td>Dr. Adrian Helmsley, part of a worldwide geoph...</td>\n",
       "      <td>158</td>\n",
       "      <td>Action|Adventure|Science Fiction</td>\n",
       "      <td>Columbia Pictures|Centropolis Entertainment|Th...</td>\n",
       "      <td>10/10/2009</td>\n",
       "      <td>5.6</td>\n",
       "      <td>2009</td>\n",
       "    </tr>\n",
       "    <tr>\n",
       "      <td>737</td>\n",
       "      <td>tt0433035</td>\n",
       "      <td>110000000</td>\n",
       "      <td>299268508</td>\n",
       "      <td>Real Steel</td>\n",
       "      <td>Hugh Jackman|Dakota Goyo|Evangeline Lilly|Anth...</td>\n",
       "      <td>Shawn Levy</td>\n",
       "      <td>If you get one shot, make it real.</td>\n",
       "      <td>In the near-future, Charlie Kenton is a washed...</td>\n",
       "      <td>127</td>\n",
       "      <td>Action|Science Fiction|Drama</td>\n",
       "      <td>DreamWorks SKG|21 Laps Entertainment|Reliance ...</td>\n",
       "      <td>9/28/2011</td>\n",
       "      <td>6.5</td>\n",
       "      <td>2011</td>\n",
       "    </tr>\n",
       "    <tr>\n",
       "      <td>462</td>\n",
       "      <td>tt0977855</td>\n",
       "      <td>22000000</td>\n",
       "      <td>24188922</td>\n",
       "      <td>Fair Game</td>\n",
       "      <td>Naomi Watts|Sean Penn|Ty Burrell|Brooke Smith|...</td>\n",
       "      <td>Doug Liman</td>\n",
       "      <td>Wife. Mother. Spy.</td>\n",
       "      <td>Wife and mother Valerie Plame (Naomi Watts) ha...</td>\n",
       "      <td>108</td>\n",
       "      <td>Drama|Thriller</td>\n",
       "      <td>River Road Entertainment|Participant Media</td>\n",
       "      <td>5/20/2010</td>\n",
       "      <td>6.4</td>\n",
       "      <td>2010</td>\n",
       "    </tr>\n",
       "  </tbody>\n",
       "</table>\n",
       "</div>"
      ],
      "text/plain": [
       "        imdb_id     budget    revenue    original_title  \\\n",
       "1483  tt0449089   50000000   87528173                RV   \n",
       "753   tt1464540   50000000  144492830  I Am Number Four   \n",
       "251   tt1190080  200000000  769653595              2012   \n",
       "737   tt0433035  110000000  299268508        Real Steel   \n",
       "462   tt0977855   22000000   24188922         Fair Game   \n",
       "\n",
       "                                                   cast          director  \\\n",
       "1483  Robin Williams|Cheryl Hines|Joanna 'JoJo' Leve...  Barry Sonnenfeld   \n",
       "753   Alex Pettyfer|Timothy Olyphant|Teresa Palmer|D...       D.J. Caruso   \n",
       "251   John Cusack|Amanda Peet|Chiwetel Ejiofor|Thand...   Roland Emmerich   \n",
       "737   Hugh Jackman|Dakota Goyo|Evangeline Lilly|Anth...        Shawn Levy   \n",
       "462   Naomi Watts|Sean Penn|Ty Burrell|Brooke Smith|...        Doug Liman   \n",
       "\n",
       "                                                tagline  \\\n",
       "1483               One Family. Eight Wheels. No brakes.   \n",
       "753   Three like him have already been killedâ€¦he i...   \n",
       "251                                     We Were Warned.   \n",
       "737                  If you get one shot, make it real.   \n",
       "462                                  Wife. Mother. Spy.   \n",
       "\n",
       "                                               overview  runtime  \\\n",
       "1483  Climbing aboard their mammoth recreational veh...       99   \n",
       "753   A teenage fugitive with an incredible secret r...      109   \n",
       "251   Dr. Adrian Helmsley, part of a worldwide geoph...      158   \n",
       "737   In the near-future, Charlie Kenton is a washed...      127   \n",
       "462   Wife and mother Valerie Plame (Naomi Watts) ha...      108   \n",
       "\n",
       "                                         genres  \\\n",
       "1483                    Comedy|Family|Adventure   \n",
       "753   Action|Thriller|Science Fiction|Adventure   \n",
       "251            Action|Adventure|Science Fiction   \n",
       "737                Action|Science Fiction|Drama   \n",
       "462                              Drama|Thriller   \n",
       "\n",
       "                                   production_companies release_date  \\\n",
       "1483                                  Columbia Pictures    4/28/2006   \n",
       "753   DreamWorks SKG|Reliance BIG Entertainment|Bay ...    2/18/2011   \n",
       "251   Columbia Pictures|Centropolis Entertainment|Th...   10/10/2009   \n",
       "737   DreamWorks SKG|21 Laps Entertainment|Reliance ...    9/28/2011   \n",
       "462          River Road Entertainment|Participant Media    5/20/2010   \n",
       "\n",
       "      vote_average  release_year  \n",
       "1483           5.7          2006  \n",
       "753            6.0          2011  \n",
       "251            5.6          2009  \n",
       "737            6.5          2011  \n",
       "462            6.4          2010  "
      ]
     },
     "execution_count": 18,
     "metadata": {},
     "output_type": "execute_result"
    }
   ],
   "source": [
    "kino = pd.read_csv('C:/Users/Admin/Downloads/movie_bd_v5.csv')\n",
    "kino.sample(5)"
   ]
  },
  {
   "cell_type": "code",
   "execution_count": 19,
   "metadata": {
    "colab": {},
    "colab_type": "code",
    "id": "CoYUnagMVp-C"
   },
   "outputs": [
    {
     "name": "stdout",
     "output_type": "stream",
     "text": [
      "<class 'pandas.core.frame.DataFrame'>\n",
      "RangeIndex: 1889 entries, 0 to 1888\n",
      "Data columns (total 14 columns):\n",
      "imdb_id                 1889 non-null object\n",
      "budget                  1889 non-null int64\n",
      "revenue                 1889 non-null int64\n",
      "original_title          1889 non-null object\n",
      "cast                    1889 non-null object\n",
      "director                1889 non-null object\n",
      "tagline                 1889 non-null object\n",
      "overview                1889 non-null object\n",
      "runtime                 1889 non-null int64\n",
      "genres                  1889 non-null object\n",
      "production_companies    1889 non-null object\n",
      "release_date            1889 non-null object\n",
      "vote_average            1889 non-null float64\n",
      "release_year            1889 non-null int64\n",
      "dtypes: float64(1), int64(4), object(9)\n",
      "memory usage: 206.7+ KB\n"
     ]
    }
   ],
   "source": [
    "kino.info() # изучим состав датафрейма"
   ]
  },
  {
   "cell_type": "markdown",
   "metadata": {
    "colab_type": "text",
    "id": "DTIt7ezGVp-G"
   },
   "source": [
    "# Предобработка"
   ]
  },
  {
   "cell_type": "code",
   "execution_count": 14,
   "metadata": {
    "colab": {},
    "colab_type": "code",
    "id": "jNb40DwKVp-H"
   },
   "outputs": [
    {
     "name": "stdout",
     "output_type": "stream",
     "text": [
      "imdb_id - 0.0%\n",
      "budget - 0.0%\n",
      "revenue - 0.0%\n",
      "original_title - 0.0%\n",
      "cast - 0.0%\n",
      "director - 0.0%\n",
      "tagline - 0.0%\n",
      "overview - 0.0%\n",
      "runtime - 0.0%\n",
      "genres - 0.0%\n",
      "production_companies - 0.0%\n",
      "release_date - 0.0%\n",
      "vote_average - 0.0%\n",
      "release_year - 0.0%\n",
      "profit - 0.0%\n"
     ]
    },
    {
     "data": {
      "image/png": "[encoded data removed]",
      "text/plain": [
       "<Figure size 432x288 with 2 Axes>"
      ]
     },
     "metadata": {
      "needs_background": "light"
     },
     "output_type": "display_data"
    }
   ],
   "source": [
    "answers = {} # создадим словарь для ответов\n",
    " \n",
    "# тут другие ваши предобработки колонок например:\n",
    "kino['profit'] = kino.revenue - kino.budget # создадим новый столбец с прибылью компаний\n",
    "kino.head()\n",
    "\n",
    "def month(x):      # функция выделяет месяц в столбце release_date\n",
    "    if x[1] == '/':\n",
    "        x = x[0]+' '\n",
    "    else:\n",
    "        x = x[:2]\n",
    "    return x\n",
    "\n",
    "\n",
    "# Нарисуем тепловую карту, посмотрим, есть ли пропущенные значения\n",
    "cols = kino.columns[:15] # первые 30 колонок\n",
    "# определяем цвета \n",
    "# желтый - пропущенные данные, синий - не пропущенные\n",
    "colours = ['#ffff00','#000099'] \n",
    "sns.heatmap(kino[cols].isnull(), cmap=sns.color_palette(colours))\n",
    "\n",
    "# Как вариант посмотрим в % кол-во пропущенных значений по признакам\n",
    "for col in kino.columns:\n",
    "    pct_missing = np.mean(kino[col].isnull())\n",
    "    print('{} - {}%'.format(col, round(pct_missing*100)))\n",
    "# реузльтат не показал пустых значений"
   ]
  },
  {
   "cell_type": "markdown",
   "metadata": {
    "colab_type": "text",
    "id": "YxZaH-nPVp-L"
   },
   "source": [
    "# 1. У какого фильма из списка самый большой бюджет?"
   ]
  },
  {
   "cell_type": "markdown",
   "metadata": {
    "colab_type": "text",
    "id": "Nd-G5gX6Vp-M"
   },
   "source": [
    "Использовать варианты ответов в коде решения запрещено.    \n",
    "Вы думаете и в жизни у вас будут варианты ответов?)"
   ]
  },
  {
   "cell_type": "code",
   "execution_count": 21,
   "metadata": {
    "colab": {},
    "colab_type": "code",
    "id": "uVnXAY5RVp-O"
   },
   "outputs": [],
   "source": [
    "# в словарь вставляем номер вопроса и ваш ответ на него\n",
    "# запишите свой вариант ответа\n",
    "\n",
    "answers['1'] = '5. Pirates of the Caribbean: On Stranger Tides' # +"
   ]
  },
  {
   "cell_type": "code",
   "execution_count": 37,
   "metadata": {
    "colab": {},
    "colab_type": "code",
    "id": "dZwb3m28Vp-S"
   },
   "outputs": [
    {
     "data": {
      "text/html": [
       "<div>\n",
       "<style scoped>\n",
       "    .dataframe tbody tr th:only-of-type {\n",
       "        vertical-align: middle;\n",
       "    }\n",
       "\n",
       "    .dataframe tbody tr th {\n",
       "        vertical-align: top;\n",
       "    }\n",
       "\n",
       "    .dataframe thead th {\n",
       "        text-align: right;\n",
       "    }\n",
       "</style>\n",
       "<table border=\"1\" class=\"dataframe\">\n",
       "  <thead>\n",
       "    <tr style=\"text-align: right;\">\n",
       "      <th></th>\n",
       "      <th>budget</th>\n",
       "      <th>imdb_id</th>\n",
       "      <th>original_title</th>\n",
       "    </tr>\n",
       "  </thead>\n",
       "  <tbody>\n",
       "    <tr>\n",
       "      <td>723</td>\n",
       "      <td>380000000</td>\n",
       "      <td>tt1298650</td>\n",
       "      <td>Pirates of the Caribbean: On Stranger Tides</td>\n",
       "    </tr>\n",
       "  </tbody>\n",
       "</table>\n",
       "</div>"
      ],
      "text/plain": [
       "        budget    imdb_id                               original_title\n",
       "723  380000000  tt1298650  Pirates of the Caribbean: On Stranger Tides"
      ]
     },
     "execution_count": 37,
     "metadata": {},
     "output_type": "execute_result"
    }
   ],
   "source": [
    "# тут пишем ваш код для решения данного вопроса:\n",
    "kino[kino.budget == kino.budget.max()][['budget', 'imdb_id','original_title']]"
   ]
  },
  {
   "cell_type": "markdown",
   "metadata": {
    "colab_type": "text",
    "id": "K7L3nbRXVp-X"
   },
   "source": [
    "ВАРИАНТ 2"
   ]
  },
  {
   "cell_type": "code",
   "execution_count": 0,
   "metadata": {
    "colab": {},
    "colab_type": "code",
    "id": "OGaoQI7rVp-X"
   },
   "outputs": [],
   "source": [
    "# можно добавлять разные варианты решения"
   ]
  },
  {
   "cell_type": "markdown",
   "metadata": {
    "colab_type": "text",
    "id": "FNRbbI3vVp-c"
   },
   "source": [
    "# 2. Какой из фильмов самый длительный (в минутах)?"
   ]
  },
  {
   "cell_type": "code",
   "execution_count": 24,
   "metadata": {
    "colab": {},
    "colab_type": "code",
    "id": "vHAoEXNTVp-d"
   },
   "outputs": [],
   "source": [
    "# думаю логику работы с этим словарем вы уже поняли, \n",
    "# по этому не буду больше его дублировать\n",
    "answers['2'] = '2. Gods and Generals' # +"
   ]
  },
  {
   "cell_type": "code",
   "execution_count": 38,
   "metadata": {
    "colab": {},
    "colab_type": "code",
    "id": "ot-VX2XrVp-g"
   },
   "outputs": [
    {
     "data": {
      "text/html": [
       "<div>\n",
       "<style scoped>\n",
       "    .dataframe tbody tr th:only-of-type {\n",
       "        vertical-align: middle;\n",
       "    }\n",
       "\n",
       "    .dataframe tbody tr th {\n",
       "        vertical-align: top;\n",
       "    }\n",
       "\n",
       "    .dataframe thead th {\n",
       "        text-align: right;\n",
       "    }\n",
       "</style>\n",
       "<table border=\"1\" class=\"dataframe\">\n",
       "  <thead>\n",
       "    <tr style=\"text-align: right;\">\n",
       "      <th></th>\n",
       "      <th>imdb_id</th>\n",
       "      <th>original_title</th>\n",
       "      <th>runtime</th>\n",
       "    </tr>\n",
       "  </thead>\n",
       "  <tbody>\n",
       "    <tr>\n",
       "      <td>1157</td>\n",
       "      <td>tt0279111</td>\n",
       "      <td>Gods and Generals</td>\n",
       "      <td>214</td>\n",
       "    </tr>\n",
       "  </tbody>\n",
       "</table>\n",
       "</div>"
      ],
      "text/plain": [
       "        imdb_id     original_title  runtime\n",
       "1157  tt0279111  Gods and Generals      214"
      ]
     },
     "execution_count": 38,
     "metadata": {},
     "output_type": "execute_result"
    }
   ],
   "source": [
    "kino[kino.runtime == kino.runtime.max()][['imdb_id','original_title', 'runtime']]"
   ]
  },
  {
   "cell_type": "markdown",
   "metadata": {
    "colab_type": "text",
    "id": "bapLlpW8Vp-k"
   },
   "source": [
    "# 3. Какой из фильмов самый короткий (в минутах)?\n",
    "\n",
    "\n",
    "\n"
   ]
  },
  {
   "cell_type": "code",
   "execution_count": 25,
   "metadata": {},
   "outputs": [],
   "source": [
    "answers['3'] = '3. Winnie the Pooh' # +"
   ]
  },
  {
   "cell_type": "code",
   "execution_count": 39,
   "metadata": {},
   "outputs": [
    {
     "data": {
      "text/html": [
       "<div>\n",
       "<style scoped>\n",
       "    .dataframe tbody tr th:only-of-type {\n",
       "        vertical-align: middle;\n",
       "    }\n",
       "\n",
       "    .dataframe tbody tr th {\n",
       "        vertical-align: top;\n",
       "    }\n",
       "\n",
       "    .dataframe thead th {\n",
       "        text-align: right;\n",
       "    }\n",
       "</style>\n",
       "<table border=\"1\" class=\"dataframe\">\n",
       "  <thead>\n",
       "    <tr style=\"text-align: right;\">\n",
       "      <th></th>\n",
       "      <th>imdb_id</th>\n",
       "      <th>original_title</th>\n",
       "      <th>runtime</th>\n",
       "    </tr>\n",
       "  </thead>\n",
       "  <tbody>\n",
       "    <tr>\n",
       "      <td>768</td>\n",
       "      <td>tt1449283</td>\n",
       "      <td>Winnie the Pooh</td>\n",
       "      <td>63</td>\n",
       "    </tr>\n",
       "  </tbody>\n",
       "</table>\n",
       "</div>"
      ],
      "text/plain": [
       "       imdb_id   original_title  runtime\n",
       "768  tt1449283  Winnie the Pooh       63"
      ]
     },
     "execution_count": 39,
     "metadata": {},
     "output_type": "execute_result"
    }
   ],
   "source": [
    "kino[kino.runtime == kino.runtime.min()][['imdb_id','original_title', 'runtime']]"
   ]
  },
  {
   "cell_type": "markdown",
   "metadata": {
    "colab_type": "text",
    "id": "TfQbxbfNVp-p"
   },
   "source": [
    "# 4. Какова средняя длительность фильмов?\n"
   ]
  },
  {
   "cell_type": "code",
   "execution_count": 26,
   "metadata": {
    "colab": {},
    "colab_type": "code",
    "id": "5K6dKZYVVp-q"
   },
   "outputs": [],
   "source": [
    "answers['4'] = '2. 110' # +"
   ]
  },
  {
   "cell_type": "code",
   "execution_count": 40,
   "metadata": {},
   "outputs": [
    {
     "data": {
      "text/plain": [
       "109.6585494970884"
      ]
     },
     "execution_count": 40,
     "metadata": {},
     "output_type": "execute_result"
    }
   ],
   "source": [
    "kino.runtime.mean()"
   ]
  },
  {
   "cell_type": "markdown",
   "metadata": {
    "colab_type": "text",
    "id": "r5TvbnT_Vp-u"
   },
   "source": [
    "# 5. Каково медианное значение длительности фильмов? "
   ]
  },
  {
   "cell_type": "code",
   "execution_count": 27,
   "metadata": {
    "colab": {},
    "colab_type": "code",
    "id": "iBROplKnVp-v"
   },
   "outputs": [],
   "source": [
    "answers['5'] = '1. 107' # +"
   ]
  },
  {
   "cell_type": "code",
   "execution_count": 41,
   "metadata": {},
   "outputs": [
    {
     "data": {
      "text/plain": [
       "107.0"
      ]
     },
     "execution_count": 41,
     "metadata": {},
     "output_type": "execute_result"
    }
   ],
   "source": [
    "kino.runtime.median()"
   ]
  },
  {
   "cell_type": "markdown",
   "metadata": {
    "colab_type": "text",
    "id": "39P-deDSVp-y"
   },
   "source": [
    "# 6. Какой самый прибыльный фильм?\n",
    "#### Внимание! Здесь и далее под «прибылью» или «убытками» понимается разность между сборами и бюджетом фильма. (прибыль = сборы - бюджет) в нашем датасете это будет (profit = revenue - budget) "
   ]
  },
  {
   "cell_type": "code",
   "execution_count": 28,
   "metadata": {
    "colab": {},
    "colab_type": "code",
    "id": "UYZh4T9WVp-y"
   },
   "outputs": [],
   "source": [
    "answers['6'] = '5. Avatar' # +"
   ]
  },
  {
   "cell_type": "code",
   "execution_count": 42,
   "metadata": {},
   "outputs": [
    {
     "data": {
      "text/html": [
       "<div>\n",
       "<style scoped>\n",
       "    .dataframe tbody tr th:only-of-type {\n",
       "        vertical-align: middle;\n",
       "    }\n",
       "\n",
       "    .dataframe tbody tr th {\n",
       "        vertical-align: top;\n",
       "    }\n",
       "\n",
       "    .dataframe thead th {\n",
       "        text-align: right;\n",
       "    }\n",
       "</style>\n",
       "<table border=\"1\" class=\"dataframe\">\n",
       "  <thead>\n",
       "    <tr style=\"text-align: right;\">\n",
       "      <th></th>\n",
       "      <th>profit</th>\n",
       "      <th>original_title</th>\n",
       "      <th>imdb_id</th>\n",
       "    </tr>\n",
       "  </thead>\n",
       "  <tbody>\n",
       "    <tr>\n",
       "      <td>239</td>\n",
       "      <td>2544505847</td>\n",
       "      <td>Avatar</td>\n",
       "      <td>tt0499549</td>\n",
       "    </tr>\n",
       "  </tbody>\n",
       "</table>\n",
       "</div>"
      ],
      "text/plain": [
       "         profit original_title    imdb_id\n",
       "239  2544505847         Avatar  tt0499549"
      ]
     },
     "execution_count": 42,
     "metadata": {},
     "output_type": "execute_result"
    }
   ],
   "source": [
    "kino[kino.profit == kino.profit.max()][['profit', 'original_title', 'imdb_id']]"
   ]
  },
  {
   "cell_type": "markdown",
   "metadata": {
    "colab_type": "text",
    "id": "M99JmIX4Vp-2"
   },
   "source": [
    "# 7. Какой фильм самый убыточный? "
   ]
  },
  {
   "cell_type": "code",
   "execution_count": 29,
   "metadata": {
    "colab": {},
    "colab_type": "code",
    "id": "w-D2m4XPVp-3"
   },
   "outputs": [],
   "source": [
    "answers['7'] = '5. The Lone Ranger' # +"
   ]
  },
  {
   "cell_type": "code",
   "execution_count": 43,
   "metadata": {},
   "outputs": [
    {
     "data": {
      "text/html": [
       "<div>\n",
       "<style scoped>\n",
       "    .dataframe tbody tr th:only-of-type {\n",
       "        vertical-align: middle;\n",
       "    }\n",
       "\n",
       "    .dataframe tbody tr th {\n",
       "        vertical-align: top;\n",
       "    }\n",
       "\n",
       "    .dataframe thead th {\n",
       "        text-align: right;\n",
       "    }\n",
       "</style>\n",
       "<table border=\"1\" class=\"dataframe\">\n",
       "  <thead>\n",
       "    <tr style=\"text-align: right;\">\n",
       "      <th></th>\n",
       "      <th>profit</th>\n",
       "      <th>original_title</th>\n",
       "      <th>imdb_id</th>\n",
       "    </tr>\n",
       "  </thead>\n",
       "  <tbody>\n",
       "    <tr>\n",
       "      <td>1245</td>\n",
       "      <td>-165710090</td>\n",
       "      <td>The Lone Ranger</td>\n",
       "      <td>tt1210819</td>\n",
       "    </tr>\n",
       "  </tbody>\n",
       "</table>\n",
       "</div>"
      ],
      "text/plain": [
       "         profit   original_title    imdb_id\n",
       "1245 -165710090  The Lone Ranger  tt1210819"
      ]
     },
     "execution_count": 43,
     "metadata": {},
     "output_type": "execute_result"
    }
   ],
   "source": [
    "kino[(kino.profit == kino.profit.min())][['profit', 'original_title', 'imdb_id']]"
   ]
  },
  {
   "cell_type": "markdown",
   "metadata": {
    "colab_type": "text",
    "id": "wEOM5ERVVp-6"
   },
   "source": [
    "# 8. У скольких фильмов из датасета объем сборов оказался выше бюджета?"
   ]
  },
  {
   "cell_type": "code",
   "execution_count": 30,
   "metadata": {
    "colab": {},
    "colab_type": "code",
    "id": "y00_7HD6Vp-7"
   },
   "outputs": [],
   "source": [
    "answers['8'] = '1. 1478' # +"
   ]
  },
  {
   "cell_type": "code",
   "execution_count": 66,
   "metadata": {},
   "outputs": [
    {
     "data": {
      "text/plain": [
       "1478"
      ]
     },
     "execution_count": 66,
     "metadata": {},
     "output_type": "execute_result"
    }
   ],
   "source": [
    "kino[kino.revenue > kino.budget].imdb_id.count()"
   ]
  },
  {
   "cell_type": "markdown",
   "metadata": {
    "colab_type": "text",
    "id": "xhpspA9KVp_A"
   },
   "source": [
    "# 9. Какой фильм оказался самым кассовым в 2008 году?"
   ]
  },
  {
   "cell_type": "code",
   "execution_count": 31,
   "metadata": {
    "colab": {},
    "colab_type": "code",
    "id": "MoUyQr9RVp_B"
   },
   "outputs": [],
   "source": [
    "answers['9'] = '4. The Dark Knight' # +"
   ]
  },
  {
   "cell_type": "code",
   "execution_count": 68,
   "metadata": {},
   "outputs": [
    {
     "data": {
      "text/html": [
       "<div>\n",
       "<style scoped>\n",
       "    .dataframe tbody tr th:only-of-type {\n",
       "        vertical-align: middle;\n",
       "    }\n",
       "\n",
       "    .dataframe tbody tr th {\n",
       "        vertical-align: top;\n",
       "    }\n",
       "\n",
       "    .dataframe thead th {\n",
       "        text-align: right;\n",
       "    }\n",
       "</style>\n",
       "<table border=\"1\" class=\"dataframe\">\n",
       "  <thead>\n",
       "    <tr style=\"text-align: right;\">\n",
       "      <th></th>\n",
       "      <th>revenue</th>\n",
       "      <th>original_title</th>\n",
       "      <th>imdb_id</th>\n",
       "    </tr>\n",
       "  </thead>\n",
       "  <tbody>\n",
       "    <tr>\n",
       "      <td>599</td>\n",
       "      <td>1001921825</td>\n",
       "      <td>The Dark Knight</td>\n",
       "      <td>tt0468569</td>\n",
       "    </tr>\n",
       "  </tbody>\n",
       "</table>\n",
       "</div>"
      ],
      "text/plain": [
       "        revenue   original_title    imdb_id\n",
       "599  1001921825  The Dark Knight  tt0468569"
      ]
     },
     "execution_count": 68,
     "metadata": {},
     "output_type": "execute_result"
    }
   ],
   "source": [
    "kino_2008 = kino[kino.release_year == 2008] #фильтруем по 2008 году строки\n",
    "kino_2008[kino_2008.revenue == kino_2008.revenue.max()][['revenue', 'original_title', 'imdb_id']]"
   ]
  },
  {
   "cell_type": "markdown",
   "metadata": {
    "colab_type": "text",
    "id": "Zi4hDKidVp_F"
   },
   "source": [
    "# 10. Самый убыточный фильм за период с 2012 по 2014 г. (включительно)?\n"
   ]
  },
  {
   "cell_type": "code",
   "execution_count": 32,
   "metadata": {
    "colab": {},
    "colab_type": "code",
    "id": "XqyRmufJVp_F"
   },
   "outputs": [],
   "source": [
    "answers['10'] = '5. The Lone Ranger' # +"
   ]
  },
  {
   "cell_type": "code",
   "execution_count": 70,
   "metadata": {},
   "outputs": [
    {
     "data": {
      "text/html": [
       "<div>\n",
       "<style scoped>\n",
       "    .dataframe tbody tr th:only-of-type {\n",
       "        vertical-align: middle;\n",
       "    }\n",
       "\n",
       "    .dataframe tbody tr th {\n",
       "        vertical-align: top;\n",
       "    }\n",
       "\n",
       "    .dataframe thead th {\n",
       "        text-align: right;\n",
       "    }\n",
       "</style>\n",
       "<table border=\"1\" class=\"dataframe\">\n",
       "  <thead>\n",
       "    <tr style=\"text-align: right;\">\n",
       "      <th></th>\n",
       "      <th>profit</th>\n",
       "      <th>original_title</th>\n",
       "      <th>imdb_id</th>\n",
       "    </tr>\n",
       "  </thead>\n",
       "  <tbody>\n",
       "    <tr>\n",
       "      <td>1245</td>\n",
       "      <td>-165710090</td>\n",
       "      <td>The Lone Ranger</td>\n",
       "      <td>tt1210819</td>\n",
       "    </tr>\n",
       "  </tbody>\n",
       "</table>\n",
       "</div>"
      ],
      "text/plain": [
       "         profit   original_title    imdb_id\n",
       "1245 -165710090  The Lone Ranger  tt1210819"
      ]
     },
     "execution_count": 70,
     "metadata": {},
     "output_type": "execute_result"
    }
   ],
   "source": [
    "kino_2012_2014 = kino.query('2012 <= release_year <= 2014') #фильтруем строки по диапазону годов выпуска фильмов\n",
    "kino_2012_2014[kino_2012_2014.profit == kino_2012_2014.profit.min()][['profit', 'original_title', 'imdb_id']]"
   ]
  },
  {
   "cell_type": "markdown",
   "metadata": {
    "colab_type": "text",
    "id": "EA7Sa9dkVp_I"
   },
   "source": [
    "# 11. Какого жанра фильмов больше всего?"
   ]
  },
  {
   "cell_type": "code",
   "execution_count": 33,
   "metadata": {
    "colab": {},
    "colab_type": "code",
    "id": "zsJAwJ8QVp_J"
   },
   "outputs": [],
   "source": [
    "answers['11'] = '3. Drama' # +"
   ]
  },
  {
   "cell_type": "code",
   "execution_count": 115,
   "metadata": {
    "scrolled": true
   },
   "outputs": [
    {
     "data": {
      "text/plain": [
       "Drama              782\n",
       "Comedy             683\n",
       "Thriller           596\n",
       "Action             582\n",
       "Adventure          415\n",
       "Crime              315\n",
       "Romance            308\n",
       "Family             260\n",
       "Science Fiction    248\n",
       "Fantasy            222\n",
       "Horror             176\n",
       "Mystery            168\n",
       "Animation          139\n",
       "Music               64\n",
       "History             62\n",
       "War                 58\n",
       "Western             19\n",
       "Documentary          8\n",
       "Foreign              2\n",
       "dtype: int32"
      ]
     },
     "metadata": {},
     "output_type": "display_data"
    }
   ],
   "source": [
    "genres_unique = kino['genres'].unique() # вытаскиваем уникальные значения в столбце жанры\n",
    "genres_unique_separated = [] # создаем список для заполнения его уникальными жанрами\n",
    "for i in range(kino['genres'].nunique()):\n",
    "    genres_unique_separated.append(genres_unique[i].split('|'))  #разделяем по | слова и добавляем их к списку\n",
    "genres_unique_separated = list(set(itertools.chain.from_iterable(genres_unique_separated))) # списка с вложенными списками создаем единый список\n",
    "\n",
    "Genres={} # создаем словарь длязаполнения жанрами и количеством фильмов такого жанра\n",
    "for i in range(len(genres_unique_separated)):\n",
    "    kino_genre = kino[kino.genres.str.contains(genres_unique_separated[i])]['imdb_id'].count() # фильтруем по жанру изсписка и подсчитываем количество\n",
    "    Genres[genres_unique_separated[i]] = kino_genre #количество добавляем в словарь к жанру\n",
    "Genres = pd.DataFrame(Genres, index = [1])#словарь в датафрейм преобразуем\n",
    "Genres = Genres.max().sort_values(ascending=False)# сортируем и печатаем\n",
    "display(Genres) \n",
    "\n",
    "#сложновато с двумя циклами.по-моему методом explode можно проще, но узнал о нем только на последнем блоке задач"
   ]
  },
  {
   "cell_type": "markdown",
   "metadata": {
    "colab_type": "text",
    "id": "Ax6g2C8SVp_M"
   },
   "source": [
    "ВАРИАНТ 2"
   ]
  },
  {
   "cell_type": "code",
   "execution_count": 0,
   "metadata": {
    "colab": {},
    "colab_type": "code",
    "id": "otO3SbrSVp_N"
   },
   "outputs": [],
   "source": []
  },
  {
   "cell_type": "markdown",
   "metadata": {
    "colab_type": "text",
    "id": "T9_bPWpkVp_Q"
   },
   "source": [
    "# 12. Фильмы какого жанра чаще всего становятся прибыльными? "
   ]
  },
  {
   "cell_type": "code",
   "execution_count": 34,
   "metadata": {
    "colab": {},
    "colab_type": "code",
    "id": "Tmt8MaK1Vp_R"
   },
   "outputs": [],
   "source": [
    "answers['12'] = '1. Drama' # +"
   ]
  },
  {
   "cell_type": "code",
   "execution_count": 119,
   "metadata": {},
   "outputs": [
    {
     "data": {
      "text/plain": [
       "Drama              560\n",
       "Comedy             551\n",
       "Thriller           446\n",
       "Action             444\n",
       "Adventure          337\n",
       "Romance            242\n",
       "Crime              231\n",
       "Family             226\n",
       "Science Fiction    195\n",
       "Fantasy            188\n",
       "Horror             150\n",
       "Animation          120\n",
       "Mystery            119\n",
       "Music               47\n",
       "History             46\n",
       "War                 41\n",
       "Western             12\n",
       "Documentary          7\n",
       "Foreign              0\n",
       "dtype: int32"
      ]
     },
     "metadata": {},
     "output_type": "display_data"
    }
   ],
   "source": [
    "genres_unique = kino['genres'].unique() #комментарии такие же как в вопросе 11\n",
    "genres_unique_separated = []\n",
    "for i in range(kino['genres'].nunique()):\n",
    "    genres_unique_separated.append(genres_unique[i].split('|'))\n",
    "genres_unique_separated = list(set(itertools.chain.from_iterable(genres_unique_separated)))\n",
    "\n",
    "Genres_profit={}\n",
    "for i in range(len(genres_unique_separated)):\n",
    "    kino_genre = kino[kino.genres.str.contains(genres_unique_separated[i])]\n",
    "    kino_genre_profit = kino_genre[kino_genre.profit>=0]['imdb_id'].count() #только тут еще фильтр по прибыльности добавил\n",
    "    Genres_profit[genres_unique_separated[i]] = kino_genre_profit\n",
    "Genres = pd.DataFrame(Genres_profit, index = [1])\n",
    "Genres = Genres.max().sort_values(ascending=False) \n",
    "display(Genres)"
   ]
  },
  {
   "cell_type": "markdown",
   "metadata": {
    "colab_type": "text",
    "id": "0F23bgsDVp_U"
   },
   "source": [
    "# 13. У какого режиссера самые большие суммарные кассовые сборы?"
   ]
  },
  {
   "cell_type": "code",
   "execution_count": 35,
   "metadata": {
    "colab": {},
    "colab_type": "code",
    "id": "K6Z3J8ygVp_X"
   },
   "outputs": [],
   "source": [
    "answers['13'] = '5. Peter Jackson' # +"
   ]
  },
  {
   "cell_type": "code",
   "execution_count": 122,
   "metadata": {},
   "outputs": [
    {
     "data": {
      "text/plain": [
       "Peter Jackson        6490593685\n",
       "Christopher Nolan    4167548502\n",
       "David Yates          4154295625\n",
       "Michael Bay          3886938960\n",
       "J.J. Abrams          3579169916\n",
       "dtype: int64"
      ]
     },
     "metadata": {},
     "output_type": "display_data"
    }
   ],
   "source": [
    "director_unique = kino['director'].unique()#комментарии такие же как в вопросе 11\n",
    "director_unique_separated = []\n",
    "for i in range(kino['director'].nunique()):\n",
    "    director_unique_separated.append(director_unique[i].split('|'))\n",
    "director_unique_separated = list(set(itertools.chain.from_iterable(director_unique_separated)))\n",
    "\n",
    "Directors={}\n",
    "for i in range(len(director_unique_separated)):\n",
    "    kino_director = kino[kino.director.str.contains(director_unique_separated[i])]['revenue'].sum()\n",
    "    Directors[director_unique_separated[i]] = kino_director\n",
    "Directors = pd.DataFrame(Directors, index = [1])\n",
    "Directors = Directors.max().sort_values(ascending=False)\n",
    "display(Directors.head())"
   ]
  },
  {
   "cell_type": "markdown",
   "metadata": {
    "colab_type": "text",
    "id": "PsYC9FgRVp_a"
   },
   "source": [
    "# 14. Какой режисер снял больше всего фильмов в стиле Action?"
   ]
  },
  {
   "cell_type": "code",
   "execution_count": 36,
   "metadata": {
    "colab": {},
    "colab_type": "code",
    "id": "wd2M-wHeVp_b"
   },
   "outputs": [],
   "source": [
    "answers['14'] = '3. Robert Rodriguez' # +"
   ]
  },
  {
   "cell_type": "code",
   "execution_count": 121,
   "metadata": {},
   "outputs": [
    {
     "data": {
      "text/plain": [
       "Robert Rodriguez      9\n",
       "Paul W.S. Anderson    7\n",
       "Michael Bay           7\n",
       "Ridley Scott          6\n",
       "Antoine Fuqua         6\n",
       "dtype: int32"
      ]
     },
     "metadata": {},
     "output_type": "display_data"
    }
   ],
   "source": [
    "director_unique = kino['director'].unique() #комментарии такие же как в вопросе 11\n",
    "director_unique_separated = []\n",
    "for i in range(kino['director'].nunique()):\n",
    "    director_unique_separated.append(director_unique[i].split('|'))\n",
    "director_unique_separated = list(set(itertools.chain.from_iterable(director_unique_separated)))\n",
    "\n",
    "Directors={}\n",
    "for i in range(len(director_unique_separated)):\n",
    "    kino_director = kino[(kino.director.str.contains(director_unique_separated[i]))&\n",
    "                        (kino.genres.str.contains('Action'))]['imdb_id'].count()\n",
    "    Directors[director_unique_separated[i]] = kino_director\n",
    "Directors = pd.DataFrame(Directors, index = [1])\n",
    "Directors = Directors.max().sort_values(ascending=False)\n",
    "display(Directors_3.head())"
   ]
  },
  {
   "cell_type": "markdown",
   "metadata": {
    "colab_type": "text",
    "id": "PQ0KciD7Vp_f"
   },
   "source": [
    "# 15. Фильмы с каким актером принесли самые высокие кассовые сборы в 2012 году? "
   ]
  },
  {
   "cell_type": "code",
   "execution_count": 37,
   "metadata": {
    "colab": {},
    "colab_type": "code",
    "id": "aga62oeKVp_g"
   },
   "outputs": [],
   "source": [
    "answers['15'] = '3. Chris Hemsworth' # +"
   ]
  },
  {
   "cell_type": "code",
   "execution_count": 127,
   "metadata": {},
   "outputs": [
    {
     "data": {
      "text/plain": [
       "'Robert Downey Jr.|Chris Evans|Mark Ruffalo|Chris Hemsworth|Scarlett Johansson'"
      ]
     },
     "execution_count": 127,
     "metadata": {},
     "output_type": "execute_result"
    }
   ],
   "source": [
    "kino_profit_cast = kino[kino.release_year == 2012]\n",
    "kino_profit_cast = kino[kino.profit == kino_profit_cast['profit'].max()]\n",
    "kino_profit_cast.iloc[0]['cast']"
   ]
  },
  {
   "cell_type": "markdown",
   "metadata": {
    "colab_type": "text",
    "id": "mWHyyL7QVp_j"
   },
   "source": [
    "# 16. Какой актер снялся в большем количестве высокобюджетных фильмов?"
   ]
  },
  {
   "cell_type": "code",
   "execution_count": 38,
   "metadata": {
    "colab": {},
    "colab_type": "code",
    "id": "qQtmHKTFVp_k"
   },
   "outputs": [],
   "source": [
    "answers['16'] = '3. Matt Damon' # +"
   ]
  },
  {
   "cell_type": "code",
   "execution_count": 130,
   "metadata": {},
   "outputs": [
    {
     "data": {
      "text/plain": [
       "Matt Damon        18\n",
       "Adam Sandler      17\n",
       "Angelina Jolie    16\n",
       "Tom Cruise        15\n",
       "Eddie Murphy      15\n",
       "dtype: int32"
      ]
     },
     "metadata": {},
     "output_type": "display_data"
    }
   ],
   "source": [
    "cast_unique = kino['cast'].unique()#комментарии такие же как в вопросе 11\n",
    "cast_unique_separated = []\n",
    "for i in range(kino['cast'].nunique()):\n",
    "    cast_unique_separated.append(cast_unique[i].split('|'))\n",
    "cast_unique_separated = list(set(itertools.chain.from_iterable(cast_unique_separated)))\n",
    "\n",
    "Cast={}\n",
    "for i in range(len(cast_unique_separated)):\n",
    "    kino_cast = kino[(kino.cast.str.contains(cast_unique_separated[i]))&\n",
    "                    (kino.budget > kino.budget.mean())]['imdb_id'].count()\n",
    "    Cast[cast_unique_separated[i]] = kino_cast\n",
    "Cast = pd.DataFrame(Cast, index = [1])\n",
    "Cast = Cast.max().sort_values(ascending=False)\n",
    "display(Cast.head())"
   ]
  },
  {
   "cell_type": "markdown",
   "metadata": {
    "colab_type": "text",
    "id": "NIh6AaW5Vp_n"
   },
   "source": [
    "# 17. В фильмах какого жанра больше всего снимался Nicolas Cage? "
   ]
  },
  {
   "cell_type": "code",
   "execution_count": 39,
   "metadata": {
    "colab": {},
    "colab_type": "code",
    "id": "H74SJDIBVp_n"
   },
   "outputs": [],
   "source": [
    "answers['17'] = '2. Action' # +"
   ]
  },
  {
   "cell_type": "code",
   "execution_count": 133,
   "metadata": {},
   "outputs": [
    {
     "data": {
      "text/plain": [
       "Action      17\n",
       "Thriller    15\n",
       "dtype: int32"
      ]
     },
     "metadata": {},
     "output_type": "display_data"
    }
   ],
   "source": [
    "genres_unique = kino['genres'].unique()#комментарии такие же как в вопросе 11\n",
    "genres_unique_separated = []\n",
    "for i in range(kino['genres'].nunique()):\n",
    "    genres_unique_separated.append(genres_unique[i].split('|'))\n",
    "genres_unique_separated = list(set(itertools.chain.from_iterable(genres_unique_separated)))\n",
    "\n",
    "Cast={}\n",
    "for i in range(len(genres_unique_separated)):\n",
    "    kino_cast = kino[(kino.genres.str.contains(genres_unique_separated[i]))&\n",
    "                    (kino.cast.str.contains('Nicolas Cage'))]['imdb_id'].count()\n",
    "    Cast[genres_unique_separated[i]] = kino_cast\n",
    "Cast = pd.DataFrame(Cast, index = [1])\n",
    "Cast = Cast.max().sort_values(ascending=False)\n",
    "display(Cast.head(2))"
   ]
  },
  {
   "cell_type": "markdown",
   "metadata": {
    "colab_type": "text",
    "id": "RqOmPRfWVp_q"
   },
   "source": [
    "# 18. Самый убыточный фильм от Paramount Pictures"
   ]
  },
  {
   "cell_type": "code",
   "execution_count": 40,
   "metadata": {
    "colab": {},
    "colab_type": "code",
    "id": "9E_B0Y96Vp_r"
   },
   "outputs": [],
   "source": [
    "answers['18'] = '1. K-19: The Widowmaker' # +"
   ]
  },
  {
   "cell_type": "code",
   "execution_count": 135,
   "metadata": {},
   "outputs": [
    {
     "data": {
      "text/html": [
       "<div>\n",
       "<style scoped>\n",
       "    .dataframe tbody tr th:only-of-type {\n",
       "        vertical-align: middle;\n",
       "    }\n",
       "\n",
       "    .dataframe tbody tr th {\n",
       "        vertical-align: top;\n",
       "    }\n",
       "\n",
       "    .dataframe thead th {\n",
       "        text-align: right;\n",
       "    }\n",
       "</style>\n",
       "<table border=\"1\" class=\"dataframe\">\n",
       "  <thead>\n",
       "    <tr style=\"text-align: right;\">\n",
       "      <th></th>\n",
       "      <th>production_companies</th>\n",
       "      <th>profit</th>\n",
       "      <th>original_title</th>\n",
       "      <th>imdb_id</th>\n",
       "    </tr>\n",
       "  </thead>\n",
       "  <tbody>\n",
       "    <tr>\n",
       "      <td>925</td>\n",
       "      <td>Paramount Pictures|Intermedia Films|National G...</td>\n",
       "      <td>-64831034</td>\n",
       "      <td>K-19: The Widowmaker</td>\n",
       "      <td>tt0267626</td>\n",
       "    </tr>\n",
       "  </tbody>\n",
       "</table>\n",
       "</div>"
      ],
      "text/plain": [
       "                                  production_companies    profit  \\\n",
       "925  Paramount Pictures|Intermedia Films|National G... -64831034   \n",
       "\n",
       "           original_title    imdb_id  \n",
       "925  K-19: The Widowmaker  tt0267626  "
      ]
     },
     "execution_count": 135,
     "metadata": {},
     "output_type": "execute_result"
    }
   ],
   "source": [
    "# Вариант 1\n",
    "k_min = kino[kino.production_companies.str.contains('Paramount Pictures')][['production_companies', 'profit', 'original_title','imdb_id']]\n",
    "k_min = k_min[k_min.profit == k_min.profit.min()] \n",
    "k_min"
   ]
  },
  {
   "cell_type": "code",
   "execution_count": 136,
   "metadata": {},
   "outputs": [
    {
     "name": "stdout",
     "output_type": "stream",
     "text": [
      "       imdb_id        original_title    profit\n",
      "925  tt0267626  K-19: The Widowmaker -64831034\n"
     ]
    }
   ],
   "source": [
    "# Вариант 2\n",
    "kino_paramount = kino[kino.production_companies.str.contains('Paramount Pictures')]\n",
    "kino_paramount_lost = kino_paramount[kino_paramount.profit == kino_paramount['profit'].min()]\n",
    "print(kino_paramount_lost[['imdb_id','original_title','profit']])"
   ]
  },
  {
   "cell_type": "markdown",
   "metadata": {
    "colab_type": "text",
    "id": "vS8Ur6ddVp_u"
   },
   "source": [
    "# 19. Какой год стал самым успешным по суммарным кассовым сборам?"
   ]
  },
  {
   "cell_type": "code",
   "execution_count": 41,
   "metadata": {
    "colab": {},
    "colab_type": "code",
    "id": "Dnbt4GdIVp_v"
   },
   "outputs": [],
   "source": [
    "answers['19'] = '5. 2015' # +"
   ]
  },
  {
   "cell_type": "code",
   "execution_count": 138,
   "metadata": {},
   "outputs": [
    {
     "name": "stdout",
     "output_type": "stream",
     "text": [
      "release_year\n",
      "2015    25449202382\n",
      "2014    23405862953\n",
      "2013    23213799791\n",
      "2012    23079001687\n",
      "2011    22676791872\n",
      "Name: revenue, dtype: int64\n"
     ]
    }
   ],
   "source": [
    "kino_grouped = kino.groupby(['release_year'])['revenue'].sum().sort_values(ascending=False) # применяем группировку с методом groupby\n",
    "print(kino_grouped.head())"
   ]
  },
  {
   "cell_type": "markdown",
   "metadata": {
    "colab_type": "text",
    "id": "JAzJh4QAVp_z"
   },
   "source": [
    "# 20. Какой самый прибыльный год для студии Warner Bros?"
   ]
  },
  {
   "cell_type": "code",
   "execution_count": 42,
   "metadata": {
    "colab": {},
    "colab_type": "code",
    "id": "wgVu02DEVp_0"
   },
   "outputs": [],
   "source": [
    "answers['20'] = '1. 2014'"
   ]
  },
  {
   "cell_type": "code",
   "execution_count": 140,
   "metadata": {},
   "outputs": [
    {
     "name": "stdout",
     "output_type": "stream",
     "text": [
      "release_year\n",
      "2014    2295464519\n",
      "2007    2201675217\n",
      "2008    2134595031\n",
      "2010    1974712985\n",
      "2011    1871393682\n",
      "Name: profit, dtype: int64\n"
     ]
    }
   ],
   "source": [
    "kino_warner = kino[kino.production_companies.str.contains('Warner Bros')]\n",
    "kino_warner_grouped = kino_warner.groupby(['release_year'])['profit'].sum().sort_values(ascending=False)\n",
    "print(kino_warner_grouped.head())"
   ]
  },
  {
   "cell_type": "markdown",
   "metadata": {
    "colab_type": "text",
    "id": "8Im1S2HRVp_4"
   },
   "source": [
    "# 21. В каком месяце за все годы суммарно вышло больше всего фильмов?"
   ]
  },
  {
   "cell_type": "code",
   "execution_count": 43,
   "metadata": {
    "colab": {},
    "colab_type": "code",
    "id": "lev6TH7gVp_4"
   },
   "outputs": [],
   "source": [
    "answers['21'] = '4. Сентябрь' # +"
   ]
  },
  {
   "cell_type": "code",
   "execution_count": 162,
   "metadata": {},
   "outputs": [
    {
     "name": "stdout",
     "output_type": "stream",
     "text": [
      "release_date\n",
      "9     227\n",
      "12    190\n",
      "10    186\n",
      "8     161\n",
      "3     156\n",
      "4     149\n",
      "6     147\n",
      "11    146\n",
      "7     142\n",
      "5     140\n",
      "2     135\n",
      "1     110\n",
      "Name: release_date_month, dtype: int64\n"
     ]
    }
   ],
   "source": [
    "kino['release_date_month'] = kino.release_date.apply(month)# применяем функцию выделения номера месяца из данных столбца release_date\n",
    "kino_month_grouped = kino.groupby(['release_date'])['release_date_month'].count().sort_values(ascending=False)\n",
    "print(kino_month_grouped)"
   ]
  },
  {
   "cell_type": "markdown",
   "metadata": {
    "colab_type": "text",
    "id": "uAJsZ_NeVp_7"
   },
   "source": [
    "# 22. Сколько суммарно вышло фильмов летом? (за июнь, июль, август)"
   ]
  },
  {
   "cell_type": "code",
   "execution_count": 44,
   "metadata": {
    "colab": {},
    "colab_type": "code",
    "id": "Aa-hEREoVp_8"
   },
   "outputs": [],
   "source": [
    "answers['22'] = '2. 450' # +"
   ]
  },
  {
   "cell_type": "code",
   "execution_count": 163,
   "metadata": {},
   "outputs": [
    {
     "name": "stdout",
     "output_type": "stream",
     "text": [
      "450\n"
     ]
    }
   ],
   "source": [
    "kino_summer = 0\n",
    "for i in range(6,9):\n",
    "    kino_i = kino[kino.release_date.str.contains(str(i))]['imdb_id'].count()\n",
    "    kino_summer += kino_i\n",
    "print(kino_summer)"
   ]
  },
  {
   "cell_type": "markdown",
   "metadata": {
    "colab_type": "text",
    "id": "G94ppOY1VqAA"
   },
   "source": [
    "# 23. Для какого режиссера зима – самое продуктивное время года? "
   ]
  },
  {
   "cell_type": "code",
   "execution_count": 45,
   "metadata": {
    "colab": {},
    "colab_type": "code",
    "id": "RhNTsamuVqAB"
   },
   "outputs": [],
   "source": [
    "answers['23'] = '5. Peter Jackson'"
   ]
  },
  {
   "cell_type": "code",
   "execution_count": 153,
   "metadata": {},
   "outputs": [
    {
     "name": "stdout",
     "output_type": "stream",
     "text": [
      "director\n",
      "Peter Jackson        7\n",
      "Steven Soderbergh    6\n",
      "Clint Eastwood       6\n",
      "Nancy Meyers         4\n",
      "Adam Shankman        4\n",
      "Name: imdb_id, dtype: int64\n"
     ]
    }
   ],
   "source": [
    "# Вариант 1\n",
    "kino_winter = kino[(kino.release_date.str.contains('12'))|\n",
    "   (kino.release_date.str.match('1 '))| # здесь обязательно добавляем пробелпосле 1 и 2, иначе посчитает и 11 и 10 месяцы\n",
    "   (kino.release_date.str.match('2 '))]\n",
    "kino_winter_director = kino_winter.groupby(['director'])['imdb_id'].count().sort_values(ascending=False)\n",
    "print(kino_winter_director.head())"
   ]
  },
  {
   "cell_type": "code",
   "execution_count": 154,
   "metadata": {},
   "outputs": [
    {
     "name": "stderr",
     "output_type": "stream",
     "text": [
      "D:\\Users\\Admin\\Anaconda3\\lib\\site-packages\\ipykernel_launcher.py:14: UserWarning: Boolean Series key will be reindexed to match DataFrame index.\n",
      "  \n"
     ]
    },
    {
     "data": {
      "text/plain": [
       "Peter Jackson        7\n",
       "Clint Eastwood       6\n",
       "Steven Soderbergh    6\n",
       "Nancy Meyers         4\n",
       "Martin Scorsese      4\n",
       "dtype: int32"
      ]
     },
     "metadata": {},
     "output_type": "display_data"
    }
   ],
   "source": [
    "# Вариант2\n",
    "# С учетом того что режисеры могут идти группами \n",
    "director_unique = kino['director'].unique()\n",
    "director_unique_separated = []\n",
    "for i in range(kino['director'].nunique()):\n",
    "    director_unique_separated.append(director_unique[i].split('|'))\n",
    "director_unique_separated = list(set(itertools.chain.from_iterable(director_unique_separated)))\n",
    "\n",
    "Directors={}\n",
    "for i in range(len(director_unique_separated)):\n",
    "    kino_winter = kino[(kino.release_date.str.contains('12'))|\n",
    "    (kino.release_date.str.match('1 '))|\n",
    "    (kino.release_date.str.match('2 '))]\n",
    "    kino_winter_director = kino_winter[kino.director.str.contains(director_unique_separated[i])]['imdb_id'].count()\n",
    "    Directors[director_unique_separated[i]] = kino_winter_director\n",
    "Directors = pd.DataFrame(Directors, index = [1])\n",
    "Directors = Directors.max().sort_values(ascending=False)\n",
    "display(Directors.head())"
   ]
  },
  {
   "cell_type": "markdown",
   "metadata": {
    "colab_type": "text",
    "id": "RBo0JVjVVqAF"
   },
   "source": [
    "# 24. Какая студия дает самые длинные названия своим фильмам по количеству символов?"
   ]
  },
  {
   "cell_type": "code",
   "execution_count": 46,
   "metadata": {
    "colab": {},
    "colab_type": "code",
    "id": "QRGS8L0iVqAG"
   },
   "outputs": [],
   "source": [
    "answers['24'] = '5. Four By Two Productions'"
   ]
  },
  {
   "cell_type": "code",
   "execution_count": 178,
   "metadata": {},
   "outputs": [
    {
     "data": {
      "text/plain": [
       "production_companies\n",
       "Twentieth Century Fox Film Corporation|Four By Two Productions                                         83.0\n",
       "Walt Disney|Walden Media                                                                               62.0\n",
       "Walt Disney Pictures|21 Laps Entertainment|Jim Henson Company, The                                     59.0\n",
       "Plan B Entertainment|Virtual Studios|Scott Free Productions|Alberta Film Entertainment|Warner Bros.    58.0\n",
       "Dune Entertainment|Fox 2000 Pictures|Walden Media                                                      56.0\n",
       "Name: char_title_count, dtype: float64"
      ]
     },
     "metadata": {},
     "output_type": "display_data"
    }
   ],
   "source": [
    "kino['char_title_count'] = kino['original_title'].apply(lambda x: len(x))# применяем функцию длины строки к столбцу с названиями фильмов\n",
    "kino_group_title = kino.groupby('production_companies').char_title_count.mean()\n",
    "display(kino_group_title.sort_values(ascending=False).head())"
   ]
  },
  {
   "cell_type": "markdown",
   "metadata": {
    "colab_type": "text",
    "id": "9G0hbvR7VqAK"
   },
   "source": [
    "# 25. Описание фильмов какой студии в среднем самые длинные по количеству слов?"
   ]
  },
  {
   "cell_type": "code",
   "execution_count": 47,
   "metadata": {
    "colab": {},
    "colab_type": "code",
    "id": "Ge2GsLNxVqAK"
   },
   "outputs": [],
   "source": [
    "answers['25'] = '3. Midnight Picture Show'"
   ]
  },
  {
   "cell_type": "code",
   "execution_count": 9,
   "metadata": {},
   "outputs": [
    {
     "data": {
      "text/plain": [
       "production_companies\n",
       "Lions Gate Films|Lakeshore Entertainment|GreeneStreet Films|Midnight Picture Show                          175.0\n",
       "Paramount Pictures|Metro-Goldwyn-Mayer (MGM)|Radical Studios|Flynn Picture Company                         169.0\n",
       "Village Roadshow Pictures|NPV Entertainment|Heineken Branded Entertainment|Silver Pictures|Warner Bros.    161.0\n",
       "Fox Searchlight Pictures|Room 9 Entertainment                                                              161.0\n",
       "Columbia Pictures|Revolution Studios|Happy Madison Productions                                             159.0\n",
       "Name: overview_words_length, dtype: float64"
      ]
     },
     "metadata": {},
     "output_type": "display_data"
    }
   ],
   "source": [
    "kino['overview_words_length'] = kino.overview.map(lambda x: len(x.split(' ')))# а это функция подсчета слов, разделенных пробелом\n",
    "kino = kino.groupby('production_companies').overview_words_length.mean()\n",
    "display(kino.sort_values(ascending=False).head())"
   ]
  },
  {
   "cell_type": "markdown",
   "metadata": {
    "colab_type": "text",
    "id": "FJ1AFt90VqAP"
   },
   "source": [
    "# 26. Какие фильмы входят в 1 процент лучших по рейтингу? \n",
    "по vote_average"
   ]
  },
  {
   "cell_type": "code",
   "execution_count": 48,
   "metadata": {
    "colab": {},
    "colab_type": "code",
    "id": "8qmJVq4CVqAQ"
   },
   "outputs": [],
   "source": [
    "answers['26'] = '1. Inside Out, The Dark Knight, 12 Years a Slave'"
   ]
  },
  {
   "cell_type": "code",
   "execution_count": 13,
   "metadata": {},
   "outputs": [
    {
     "name": "stdout",
     "output_type": "stream",
     "text": [
      "(500) Days of Summer\n",
      "12 Years a Slave\n",
      "3 Idiots\n",
      "A Beautiful Mind\n",
      "A Walk to Remember\n",
      "Adaptation.\n",
      "Almost Famous\n",
      "American Gangster\n",
      "American Sniper\n",
      "Atonement\n",
      "Avengers: Age of Ultron\n",
      "Baby Boy\n",
      "Batman Begins\n",
      "Begin Again\n",
      "Big Fish\n",
      "Big Hero 6\n",
      "Birdman\n",
      "Blood Diamond\n",
      "Blow\n",
      "Brokeback Mountain\n",
      "Brooklyn\n",
      "Captain America: The Winter Soldier\n",
      "Captain Phillips\n",
      "Cast Away\n",
      "Catch Me If You Can\n",
      "Chef\n",
      "Children of Men\n",
      "Coach Carter\n",
      "Crash\n",
      "Creed\n",
      "Dallas Buyers Club\n",
      "Dancer in the Dark\n",
      "Dawn of the Planet of the Apes\n",
      "Django Unchained\n",
      "Drive\n",
      "Earth\n",
      "Edge of Tomorrow\n",
      "Eternal Sunshine of the Spotless Mind\n",
      "Everything is Illuminated\n",
      "Ex Machina\n",
      "Eye in the Sky\n",
      "Fantastic Mr. Fox\n",
      "Finding Nemo\n",
      "Freedom Writers\n",
      "Frida\n",
      "Friday Night Lights\n",
      "Frozen\n",
      "Furious 7\n",
      "Fury\n",
      "Gladiator\n",
      "Gone Girl\n",
      "Gran Torino\n",
      "Gravity\n",
      "Guardians of the Galaxy\n",
      "Hachi: A Dog's Tale\n",
      "Harry Potter and the Chamber of Secrets\n",
      "Harry Potter and the Deathly Hallows: Part 1\n",
      "Harry Potter and the Deathly Hallows: Part 2\n",
      "Harry Potter and the Goblet of Fire\n",
      "Harry Potter and the Half-Blood Prince\n",
      "Harry Potter and the Order of the Phoenix\n",
      "Harry Potter and the Philosopher's Stone\n",
      "Harry Potter and the Prisoner of Azkaban\n",
      "Her\n",
      "Hotel Rwanda\n",
      "How to Train Your Dragon\n",
      "How to Train Your Dragon 2\n",
      "I Am Sam\n",
      "If I Stay\n",
      "In Bruges\n",
      "Inception\n",
      "Inglourious Basterds\n",
      "Inside Man\n",
      "Inside Out\n",
      "Interstellar\n",
      "Into the Wild\n",
      "Iron Man\n",
      "Ji jie hao\n",
      "Kill Bill: Vol. 1\n",
      "Kill Bill: Vol. 2\n",
      "Kingsman: The Secret Service\n",
      "La migliore offerta\n",
      "Law Abiding Citizen\n",
      "Little Miss Sunshine\n",
      "Lone Survivor\n",
      "Love & Basketball\n",
      "Lucky Number Slevin\n",
      "Man on Fire\n",
      "Match Point\n",
      "Memento\n",
      "Million Dollar Baby\n",
      "Monsters, Inc.\n",
      "Moon\n",
      "Moonrise Kingdom\n",
      "Moulin Rouge!\n",
      "Mr. Nobody\n",
      "Mulholland Drive\n",
      "Mystic River\n",
      "Nebraska\n",
      "Nightcrawler\n",
      "No Country for Old Men\n",
      "Now You See Me\n",
      "O Brother, Where Art Thou?\n",
      "Philomena\n",
      "Pirates of the Caribbean: The Curse of the Black Pearl\n",
      "Pitch Perfect\n",
      "Predestination\n",
      "Pride & Prejudice\n",
      "Prisoners\n",
      "Ratatouille\n",
      "Remember the Titans\n",
      "Room\n",
      "Rush\n",
      "Saving Mr. Banks\n",
      "Scott Pilgrim vs. the World\n",
      "Selma\n",
      "Seven Pounds\n",
      "Shutter Island\n",
      "Slumdog Millionaire\n",
      "Snatch\n",
      "Southpaw\n",
      "Spotlight\n",
      "Star Trek\n",
      "Star Trek Into Darkness\n",
      "Star Wars: The Force Awakens\n",
      "Straight Outta Compton\n",
      "Taken\n",
      "Tangled\n",
      "The Age of Adaline\n",
      "The Artist\n",
      "The Avengers\n",
      "The Best of Me\n",
      "The Big Short\n",
      "The Bourne Ultimatum\n",
      "The Boy in the Striped Pyjamas\n",
      "The Butler\n",
      "The Conjuring\n",
      "The Curious Case of Benjamin Button\n",
      "The Danish Girl\n",
      "The Dark Knight\n",
      "The Dark Knight Rises\n",
      "The Departed\n",
      "The Equalizer\n",
      "The Express\n",
      "The Fault in Our Stars\n",
      "The Grand Budapest Hotel\n",
      "The Great Gatsby\n",
      "The Hateful Eight\n",
      "The Help\n",
      "The Hobbit: The Desolation of Smaug\n",
      "The Hundred-Foot Journey\n",
      "The Hunger Games: Catching Fire\n",
      "The Hurt Locker\n",
      "The Imitation Game\n",
      "The Incredibles\n",
      "The Judge\n",
      "The King's Speech\n",
      "The Kite Runner\n",
      "The Last King of Scotland\n",
      "The Lego Movie\n",
      "The Life of David Gale\n",
      "The Little Prince\n",
      "The Longest Ride\n",
      "The Lord of the Rings: The Fellowship of the Ring\n",
      "The Lord of the Rings: The Return of the King\n",
      "The Lord of the Rings: The Two Towers\n",
      "The Machinist\n",
      "The Martian\n",
      "The Notebook\n",
      "The Perks of Being a Wallflower\n",
      "The Pianist\n",
      "The Prestige\n",
      "The Pursuit of Happyness\n",
      "The Revenant\n",
      "The Royal Tenenbaums\n",
      "The Secret Life of Bees\n",
      "The Theory of Everything\n",
      "The Wolf of Wall Street\n",
      "There Will Be Blood\n",
      "Toy Story 3\n",
      "Training Day\n",
      "Trumbo\n",
      "Unbroken\n",
      "Up\n",
      "V for Vendetta\n",
      "WALLÂ·E\n",
      "Woman in Gold\n",
      "X-Men: Days of Future Past\n"
     ]
    }
   ],
   "source": [
    "kino_sorted = kino.sort_values('vote_average', ascending=False).reset_index()\n",
    "kino_sorted_list = []\n",
    "for i in range(188):# 188 число фильмов входящих в 1% лучших рейтингу\n",
    "    kino_sorted_list.append(kino_sorted['original_title'].iloc[i])\n",
    "kino_sorted_list.sort()\n",
    "for item in kino_sorted_list:\n",
    "    print(item)"
   ]
  },
  {
   "cell_type": "markdown",
   "metadata": {
    "colab_type": "text",
    "id": "MdXsUXbCVqAV"
   },
   "source": [
    "# 27. Какие актеры чаще всего снимаются в одном фильме вместе?\n"
   ]
  },
  {
   "cell_type": "code",
   "execution_count": 49,
   "metadata": {},
   "outputs": [],
   "source": [
    "answers['27'] = '5. Daniel Radcliffe & Rupert Grint'"
   ]
  },
  {
   "cell_type": "code",
   "execution_count": null,
   "metadata": {},
   "outputs": [],
   "source": [
    "kino['cast_split']=kino.cast.map(lambda x: x.split('|')) # разделяем имена актеров\n",
    "kino['cast_split'] = kino.cast_split.map(lambda x: list(itertools.combinations(x,2))) #  комбинируем пары имен актеров\n",
    "kino = kino.explode('cast_split')# взврываем строки с несколькими актерами в строке\n",
    "\n",
    "c = collections.Counter()\n",
    "for pairs in kino['cast_split']:# подсчитываем число уникальных\n",
    "   c[pairs] += 1\n",
    "c=pd.DataFrame(c.items()).sort_values(by = [1], ascending=False)\n",
    "print(c.head())"
   ]
  },
  {
   "cell_type": "code",
   "execution_count": null,
   "metadata": {},
   "outputs": [],
   "source": [
    "kino['cast_split']=kino.cast.map(lambda x: x.split('|'))\n",
    "kino['cast_split'] = kino.cast_split.map(lambda x: list(itertools.combinations(x,2)))\n",
    "Counter(kino.cast_split.values.sum()).most_common(5)"
   ]
  },
  {
   "cell_type": "markdown",
   "metadata": {
    "colab_type": "text",
    "id": "4ymnxEVoVqAW"
   },
   "source": [
    "ВАРИАНТ 2"
   ]
  },
  {
   "cell_type": "markdown",
   "metadata": {
    "colab_type": "text",
    "id": "U0nONFnGVqAX"
   },
   "source": [
    "# Submission"
   ]
  },
  {
   "cell_type": "code",
   "execution_count": 50,
   "metadata": {
    "colab": {},
    "colab_type": "code",
    "id": "IfcaRO9-VqAX",
    "outputId": "0f132912-32bb-4196-c98c-abfbc4ad5a5f"
   },
   "outputs": [
    {
     "data": {
      "text/plain": [
       "{'1': '5. Pirates of the Caribbean: On Stranger Tides',\n",
       " '2': '2. Gods and Generals',\n",
       " '3': '3. Winnie the Pooh',\n",
       " '4': '2. 110',\n",
       " '5': '1. 107',\n",
       " '6': '5. Avatar',\n",
       " '7': '5. The Lone Ranger',\n",
       " '8': '1. 1478',\n",
       " '9': '4. The Dark Knight',\n",
       " '10': '5. The Lone Ranger',\n",
       " '11': '3. Drama',\n",
       " '12': '1. Drama',\n",
       " '13': '5. Peter Jackson',\n",
       " '14': '3. Robert Rodriguez',\n",
       " '15': '3. Chris Hemsworth',\n",
       " '16': '3. Matt Damon',\n",
       " '17': '2. Action',\n",
       " '18': '1. K-19: The Widowmaker',\n",
       " '19': '5. 2015',\n",
       " '20': '1. 2014',\n",
       " '21': '4. Сентябрь',\n",
       " '22': '2. 450',\n",
       " '23': '5. Peter Jackson',\n",
       " '24': '5. Four By Two Productions',\n",
       " '25': '3. Midnight Picture Show',\n",
       " '26': '1. Inside Out, The Dark Knight, 12 Years a Slave',\n",
       " '27': '5. Daniel Radcliffe & Rupert Grint'}"
      ]
     },
     "execution_count": 50,
     "metadata": {},
     "output_type": "execute_result"
    }
   ],
   "source": [
    "# в конце можно посмотреть свои ответы к каждому вопросу\n",
    "answers"
   ]
  },
  {
   "cell_type": "code",
   "execution_count": 51,
   "metadata": {
    "colab": {},
    "colab_type": "code",
    "id": "SiRmHPl8VqAd"
   },
   "outputs": [
    {
     "data": {
      "text/plain": [
       "27"
      ]
     },
     "execution_count": 51,
     "metadata": {},
     "output_type": "execute_result"
    }
   ],
   "source": [
    "# и убедиться что ни чего не пропустил)\n",
    "len(answers)"
   ]
  },
  {
   "cell_type": "code",
   "execution_count": 0,
   "metadata": {
    "colab": {},
    "colab_type": "code",
    "id": "uCfuTkRbVqAg"
   },
   "outputs": [],
   "source": []
  },
  {
   "cell_type": "code",
   "execution_count": 0,
   "metadata": {
    "colab": {},
    "colab_type": "code",
    "id": "Vwx3NrkSVqAl"
   },
   "outputs": [],
   "source": []
  }
 ],
 "metadata": {
  "colab": {
   "name": "Copy of [SF-DST] Movies IMBD v4.1 TEMPLATE.ipynb",
   "provenance": []
  },
  "kernelspec": {
   "display_name": "Python 3",
   "language": "python",
   "name": "python3"
  },
  "language_info": {
   "codemirror_mode": {
    "name": "ipython",
    "version": 3
   },
   "file_extension": ".py",
   "mimetype": "text/x-python",
   "name": "python",
   "nbconvert_exporter": "python",
   "pygments_lexer": "ipython3",
   "version": "3.7.4"
  }
 },
 "nbformat": 4,
 "nbformat_minor": 1
}
