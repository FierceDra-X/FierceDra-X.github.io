{
 "cells": [
  {
   "cell_type": "code",
   "execution_count": 1,
   "id": "f17274c2",
   "metadata": {},
   "outputs": [],
   "source": [
    "#библиотеки, необходимые для формирования запросов сайту и получение ответов\n",
    "#и поиска в полученной с сайта информации необхоимых для проекта данных\n",
    "from bs4 import BeautifulSoup\n",
    "import requests as req\n",
    "import lxml.html as html\n",
    "import urllib3\n",
    "\n",
    "import time #библиотека для установки паузы между запросами к сайту\n",
    "\n",
    "#общие библиотеки\n",
    "import pandas as pd\n",
    "from IPython.display import Image, HTML\n",
    "import numpy as np\n",
    "import matplotlib.pyplot as plt\n",
    "import matplotlib.image as mpimg\n",
    "\n",
    "#для работы с файлами\n",
    "import shutil"
   ]
  },
  {
   "cell_type": "code",
   "execution_count": 2,
   "id": "1a770bbc",
   "metadata": {},
   "outputs": [],
   "source": [
    "#формируем header для включения его в запросы, так как сайты могут блокировать запросы без него\n",
    "header = {'user-agent': 'Edg/95.0.1020.53'}\n",
    "urllib3.disable_warnings()"
   ]
  },
  {
   "cell_type": "code",
   "execution_count": 123,
   "id": "4ca35fa6",
   "metadata": {},
   "outputs": [],
   "source": [
    "#этот цикл запускаем для каждого из 10-ти класса автомобилей (здесь стоит для примера volkswagen)\n",
    "#в цикле пробегаемся запросами по ссылкам на отдельные авто (обычно 25 ссылок на авто на 1 страницу)\n",
    "#далее по тегам 'div' и классам с картинками вылавливаем из супа ссылки, содержащие фотографии авто\n",
    "#для сайта авто.ру и дром.ру свои классы и ссылки\n",
    "images = []\n",
    "\n",
    "for page_number in range(1,25):\n",
    "    \n",
    "    #html_page = req.get('https://auto.ru/cars/volkswagen/passat/all/?page='+str(page_number),\n",
    "    #                    headers=header, timeout=50, verify=False)\n",
    "    html_page = req.get('https://auto.drom.ru/volkswagen/passat/page'+str(page_number)+'/?ph=1',\n",
    "                        headers=header, timeout=50, verify=False)\n",
    "    \n",
    "    soup = BeautifulSoup(html_page.content, 'html.parser')\n",
    "    #cars = soup.findAll('div', class_=\"ListingItem\")\n",
    "    cars = soup.findAll('div', class_=\"css-1f4se8o e1e9ee560\")\n",
    "\n",
    "    #for i in range(len(cars)):\n",
    "    #    if len(cars[i].findAll('img'))==1:\n",
    "    #        images.append(cars[i].findAll('img')[0].attrs['alt data-src'])\n",
    "    \n",
    "    for i in range(len(cars)):\n",
    "        images.append(cars[i].findAll('img')[0].attrs['data-src'])\n",
    "    \n",
    "    \n",
    "    time.sleep(3) #ставим на 3 секунды задержки между запросами, чтобы не забанили"
   ]
  },
  {
   "cell_type": "code",
   "execution_count": 124,
   "id": "5f1cfa22",
   "metadata": {},
   "outputs": [
    {
     "data": {
      "text/plain": [
       "480"
      ]
     },
     "execution_count": 124,
     "metadata": {},
     "output_type": "execute_result"
    }
   ],
   "source": [
    "#проверка количества выловленных ссылок с фото авто\n",
    "len(images)"
   ]
  },
  {
   "cell_type": "code",
   "execution_count": 125,
   "id": "828cb2c7",
   "metadata": {},
   "outputs": [],
   "source": [
    "#в этом цикле пробегаемся по списку собранных ссылок с авто и забираем файл с фото, загрузив его в свою папку\n",
    "#при этом не забываем для каждого класса от 1 до 10 менять название папки на цифру класса\n",
    "\n",
    "for i in range(len(images)):\n",
    "    #url_base = \"https:\" #Original website\n",
    "    #url_ext = images[i] #The extension you pulled earlier\n",
    "    #full_url = url_base + url_ext #Combining first 2 variables to create       a complete URL\n",
    "    full_url = images[i]\n",
    "    r = req.get(full_url, stream=True) #Get request on full_url\n",
    "    if r.status_code == 200:                     #200 status code = OK\n",
    "        with open('C:/Users/Desktop/auto_pictures/train_additional/8/car'+str(i+8500)+'.jpg', 'wb') as f:\n",
    "            r.raw.decode_content = True\n",
    "            shutil.copyfileobj(r.raw, f)"
   ]
  }
 ],
 "metadata": {
  "kernelspec": {
   "display_name": "Python 3 (ipykernel)",
   "language": "python",
   "name": "python3"
  },
  "language_info": {
   "codemirror_mode": {
    "name": "ipython",
    "version": 3
   },
   "file_extension": ".py",
   "mimetype": "text/x-python",
   "name": "python",
   "nbconvert_exporter": "python",
   "pygments_lexer": "ipython3",
   "version": "3.9.1"
  }
 },
 "nbformat": 4,
 "nbformat_minor": 5
}
